{
 "cells": [
  {
   "cell_type": "code",
   "execution_count": 1,
   "id": "ce78d0d4-997c-468c-bb23-432a39675355",
   "metadata": {},
   "outputs": [],
   "source": [
    "import pandas as pd\n",
    "import numpy as np"
   ]
  },
  {
   "cell_type": "code",
   "execution_count": 2,
   "id": "9aea5578-8f78-4df6-94b1-debceb0dcfe7",
   "metadata": {},
   "outputs": [],
   "source": [
    "loan_result = pd.read_csv(\"./data/loan_result.csv\")\n",
    "log_data = pd.read_csv(\"./data/log_data.csv\")\n",
    "user_spec = pd.read_csv(\"./data/user_spec.csv\")"
   ]
  },
  {
   "cell_type": "markdown",
   "id": "312d9a00-20af-45fe-a793-b9eb1c7e3238",
   "metadata": {},
   "source": [
    "### Step 1. Intersenstion Dataset "
   ]
  },
  {
   "cell_type": "code",
   "execution_count": 3,
   "id": "20eb4598-87d0-481a-946a-2062a641c538",
   "metadata": {},
   "outputs": [],
   "source": [
    "All_user_id = set(user_spec[\"user_id\"]).intersection(set(log_data[\"user_id\"]))"
   ]
  },
  {
   "cell_type": "code",
   "execution_count": 4,
   "id": "14dfce4d-7a88-420a-9ae7-7bbad168d222",
   "metadata": {},
   "outputs": [],
   "source": [
    "All_user_id = pd.DataFrame({\"user_id\" :list(All_user_id)})"
   ]
  },
  {
   "cell_type": "code",
   "execution_count": 5,
   "id": "45fae74d-3551-4db3-a13f-6bc95e1201a5",
   "metadata": {},
   "outputs": [],
   "source": [
    "user_spec = All_user_id.merge(user_spec)"
   ]
  },
  {
   "cell_type": "code",
   "execution_count": 6,
   "id": "adc48f5a-a7d2-4fd6-9398-2127d4e1f51e",
   "metadata": {},
   "outputs": [],
   "source": [
    "All_application_id = set(loan_result[\"application_id\"].unique()).intersection(set(user_spec[\"application_id\"].unique()))\n",
    "All_application_id = pd.DataFrame({\"application_id\" :list(All_application_id)})"
   ]
  },
  {
   "cell_type": "code",
   "execution_count": 7,
   "id": "700c6db7-6464-42e3-b7a1-f71e12a32cd4",
   "metadata": {},
   "outputs": [],
   "source": [
    "loan_result = loan_result.merge(All_application_id)"
   ]
  },
  {
   "cell_type": "code",
   "execution_count": 8,
   "id": "84a0d400-6cb7-49e4-9f39-ad976360199a",
   "metadata": {},
   "outputs": [
    {
     "name": "stdout",
     "output_type": "stream",
     "text": [
      "Independent rows 488164\n"
     ]
    }
   ],
   "source": [
    "print(\"Independent rows\",pd.read_csv(\"./data/loan_result.csv\").shape[0] - loan_result.shape[0]) # 데이터를 merge할 수 없는 행은 48만행 정도 "
   ]
  },
  {
   "cell_type": "code",
   "execution_count": 9,
   "id": "2ace3915-90fb-428c-9db5-97fe675cbd18",
   "metadata": {},
   "outputs": [
    {
     "data": {
      "text/plain": [
       "0.042154813343979185"
      ]
     },
     "execution_count": 9,
     "metadata": {},
     "output_type": "execute_result"
    }
   ],
   "source": [
    "loan_result[loan_result[\"is_applied\"] == 1.0].shape[0] / loan_result.shape[0] # 4% 정도만 대출을 승인받음"
   ]
  },
  {
   "cell_type": "markdown",
   "id": "c9e16aee-e679-4dde-af41-994b35b766a3",
   "metadata": {},
   "source": [
    "### Q1. Loan_limit, loan_rate가 중요한가?\n",
    "\n",
    "- 대출이 승인되었는지 안되었는지를 예측하기 위해서 loan_limit & roan_rate가 중요한지 고민해보기\n",
    "- \"우선은 중요하지 않다\" 라고 가정하고 결측치는 제거\n",
    "- 대체적으로 is_applied가 1로 나타나는데 이는 label noise인가? 만약 label noise라면 확인할방법은?"
   ]
  },
  {
   "cell_type": "code",
   "execution_count": 10,
   "id": "0678157b-3bfa-4653-8fd9-5ae62f815997",
   "metadata": {},
   "outputs": [],
   "source": [
    "loan_result = loan_result[~loan_result['loan_limit'].isnull()]"
   ]
  },
  {
   "cell_type": "code",
   "execution_count": 11,
   "id": "edf0b42e-1019-4b03-823d-3bb4d526bb3c",
   "metadata": {},
   "outputs": [],
   "source": [
    "loan_result = loan_result.fillna(0.0)"
   ]
  },
  {
   "cell_type": "markdown",
   "id": "a5eba4ea-821c-431b-9922-be15df5344a3",
   "metadata": {},
   "source": [
    "### Q2. application_id는 특정 고객이 ploanapply_insert_time 에 대출을 신청한건가? "
   ]
  },
  {
   "cell_type": "code",
   "execution_count": 12,
   "id": "cb01be5a-93de-46be-ade9-4363974be23e",
   "metadata": {
    "tags": []
   },
   "outputs": [
    {
     "data": {
      "text/html": [
       "<div>\n",
       "<style scoped>\n",
       "    .dataframe tbody tr th:only-of-type {\n",
       "        vertical-align: middle;\n",
       "    }\n",
       "\n",
       "    .dataframe tbody tr th {\n",
       "        vertical-align: top;\n",
       "    }\n",
       "\n",
       "    .dataframe thead th {\n",
       "        text-align: right;\n",
       "    }\n",
       "</style>\n",
       "<table border=\"1\" class=\"dataframe\">\n",
       "  <thead>\n",
       "    <tr style=\"text-align: right;\">\n",
       "      <th></th>\n",
       "      <th>application_id</th>\n",
       "      <th>loanapply_insert_time</th>\n",
       "      <th>bank_id</th>\n",
       "      <th>product_id</th>\n",
       "      <th>loan_limit</th>\n",
       "      <th>loan_rate</th>\n",
       "      <th>is_applied</th>\n",
       "    </tr>\n",
       "  </thead>\n",
       "  <tbody>\n",
       "    <tr>\n",
       "      <th>0</th>\n",
       "      <td>1748340</td>\n",
       "      <td>2022-06-07 13:05:41</td>\n",
       "      <td>7</td>\n",
       "      <td>191</td>\n",
       "      <td>42000000.0</td>\n",
       "      <td>13.6</td>\n",
       "      <td>0.0</td>\n",
       "    </tr>\n",
       "    <tr>\n",
       "      <th>1</th>\n",
       "      <td>1748340</td>\n",
       "      <td>2022-06-07 13:05:41</td>\n",
       "      <td>25</td>\n",
       "      <td>169</td>\n",
       "      <td>24000000.0</td>\n",
       "      <td>17.9</td>\n",
       "      <td>0.0</td>\n",
       "    </tr>\n",
       "    <tr>\n",
       "      <th>2</th>\n",
       "      <td>1748340</td>\n",
       "      <td>2022-06-07 13:05:41</td>\n",
       "      <td>2</td>\n",
       "      <td>7</td>\n",
       "      <td>24000000.0</td>\n",
       "      <td>18.5</td>\n",
       "      <td>0.0</td>\n",
       "    </tr>\n",
       "    <tr>\n",
       "      <th>3</th>\n",
       "      <td>1748340</td>\n",
       "      <td>2022-06-07 13:05:41</td>\n",
       "      <td>4</td>\n",
       "      <td>268</td>\n",
       "      <td>29000000.0</td>\n",
       "      <td>10.8</td>\n",
       "      <td>0.0</td>\n",
       "    </tr>\n",
       "    <tr>\n",
       "      <th>4</th>\n",
       "      <td>1748340</td>\n",
       "      <td>2022-06-07 13:05:41</td>\n",
       "      <td>11</td>\n",
       "      <td>118</td>\n",
       "      <td>5000000.0</td>\n",
       "      <td>16.4</td>\n",
       "      <td>0.0</td>\n",
       "    </tr>\n",
       "    <tr>\n",
       "      <th>5</th>\n",
       "      <td>1748340</td>\n",
       "      <td>2022-06-07 13:05:40</td>\n",
       "      <td>35</td>\n",
       "      <td>168</td>\n",
       "      <td>21000000.0</td>\n",
       "      <td>15.2</td>\n",
       "      <td>0.0</td>\n",
       "    </tr>\n",
       "    <tr>\n",
       "      <th>6</th>\n",
       "      <td>1748340</td>\n",
       "      <td>2022-06-07 13:05:40</td>\n",
       "      <td>44</td>\n",
       "      <td>8</td>\n",
       "      <td>3000000.0</td>\n",
       "      <td>14.8</td>\n",
       "      <td>0.0</td>\n",
       "    </tr>\n",
       "    <tr>\n",
       "      <th>7</th>\n",
       "      <td>1748340</td>\n",
       "      <td>2022-06-07 13:05:41</td>\n",
       "      <td>28</td>\n",
       "      <td>217</td>\n",
       "      <td>10000000.0</td>\n",
       "      <td>18.0</td>\n",
       "      <td>0.0</td>\n",
       "    </tr>\n",
       "    <tr>\n",
       "      <th>8</th>\n",
       "      <td>1748340</td>\n",
       "      <td>2022-06-07 13:05:46</td>\n",
       "      <td>47</td>\n",
       "      <td>181</td>\n",
       "      <td>31000000.0</td>\n",
       "      <td>13.0</td>\n",
       "      <td>0.0</td>\n",
       "    </tr>\n",
       "    <tr>\n",
       "      <th>9</th>\n",
       "      <td>1748340</td>\n",
       "      <td>2022-06-07 13:05:51</td>\n",
       "      <td>11</td>\n",
       "      <td>170</td>\n",
       "      <td>50000000.0</td>\n",
       "      <td>13.3</td>\n",
       "      <td>0.0</td>\n",
       "    </tr>\n",
       "    <tr>\n",
       "      <th>10</th>\n",
       "      <td>1748340</td>\n",
       "      <td>2022-06-07 13:05:41</td>\n",
       "      <td>58</td>\n",
       "      <td>175</td>\n",
       "      <td>35000000.0</td>\n",
       "      <td>13.8</td>\n",
       "      <td>0.0</td>\n",
       "    </tr>\n",
       "    <tr>\n",
       "      <th>11</th>\n",
       "      <td>1748340</td>\n",
       "      <td>2022-06-07 13:05:51</td>\n",
       "      <td>35</td>\n",
       "      <td>29</td>\n",
       "      <td>5000000.0</td>\n",
       "      <td>11.2</td>\n",
       "      <td>0.0</td>\n",
       "    </tr>\n",
       "    <tr>\n",
       "      <th>12</th>\n",
       "      <td>1748340</td>\n",
       "      <td>2022-06-07 13:05:39</td>\n",
       "      <td>59</td>\n",
       "      <td>150</td>\n",
       "      <td>25000000.0</td>\n",
       "      <td>13.4</td>\n",
       "      <td>0.0</td>\n",
       "    </tr>\n",
       "    <tr>\n",
       "      <th>13</th>\n",
       "      <td>1748340</td>\n",
       "      <td>2022-06-07 13:05:41</td>\n",
       "      <td>34</td>\n",
       "      <td>248</td>\n",
       "      <td>43000000.0</td>\n",
       "      <td>16.9</td>\n",
       "      <td>0.0</td>\n",
       "    </tr>\n",
       "    <tr>\n",
       "      <th>14</th>\n",
       "      <td>1748340</td>\n",
       "      <td>2022-06-07 13:05:40</td>\n",
       "      <td>10</td>\n",
       "      <td>149</td>\n",
       "      <td>18000000.0</td>\n",
       "      <td>13.9</td>\n",
       "      <td>0.0</td>\n",
       "    </tr>\n",
       "    <tr>\n",
       "      <th>15</th>\n",
       "      <td>1748340</td>\n",
       "      <td>2022-06-07 13:05:41</td>\n",
       "      <td>63</td>\n",
       "      <td>226</td>\n",
       "      <td>29000000.0</td>\n",
       "      <td>15.6</td>\n",
       "      <td>0.0</td>\n",
       "    </tr>\n",
       "    <tr>\n",
       "      <th>16</th>\n",
       "      <td>1748340</td>\n",
       "      <td>2022-06-07 13:05:41</td>\n",
       "      <td>54</td>\n",
       "      <td>235</td>\n",
       "      <td>28000000.0</td>\n",
       "      <td>15.5</td>\n",
       "      <td>0.0</td>\n",
       "    </tr>\n",
       "    <tr>\n",
       "      <th>17</th>\n",
       "      <td>1748340</td>\n",
       "      <td>2022-06-07 13:05:40</td>\n",
       "      <td>10</td>\n",
       "      <td>65</td>\n",
       "      <td>23000000.0</td>\n",
       "      <td>13.9</td>\n",
       "      <td>0.0</td>\n",
       "    </tr>\n",
       "    <tr>\n",
       "      <th>18</th>\n",
       "      <td>1748340</td>\n",
       "      <td>2022-06-07 13:05:50</td>\n",
       "      <td>49</td>\n",
       "      <td>39</td>\n",
       "      <td>17000000.0</td>\n",
       "      <td>12.6</td>\n",
       "      <td>0.0</td>\n",
       "    </tr>\n",
       "    <tr>\n",
       "      <th>19</th>\n",
       "      <td>1748340</td>\n",
       "      <td>2022-06-07 13:05:40</td>\n",
       "      <td>57</td>\n",
       "      <td>71</td>\n",
       "      <td>8000000.0</td>\n",
       "      <td>16.4</td>\n",
       "      <td>0.0</td>\n",
       "    </tr>\n",
       "    <tr>\n",
       "      <th>20</th>\n",
       "      <td>1748340</td>\n",
       "      <td>2022-06-07 13:05:40</td>\n",
       "      <td>31</td>\n",
       "      <td>224</td>\n",
       "      <td>38000000.0</td>\n",
       "      <td>12.6</td>\n",
       "      <td>0.0</td>\n",
       "    </tr>\n",
       "    <tr>\n",
       "      <th>21</th>\n",
       "      <td>1748340</td>\n",
       "      <td>2022-06-07 13:05:51</td>\n",
       "      <td>52</td>\n",
       "      <td>187</td>\n",
       "      <td>1000000.0</td>\n",
       "      <td>9.9</td>\n",
       "      <td>0.0</td>\n",
       "    </tr>\n",
       "    <tr>\n",
       "      <th>22</th>\n",
       "      <td>1748340</td>\n",
       "      <td>2022-06-07 13:05:40</td>\n",
       "      <td>33</td>\n",
       "      <td>110</td>\n",
       "      <td>29000000.0</td>\n",
       "      <td>12.6</td>\n",
       "      <td>0.0</td>\n",
       "    </tr>\n",
       "    <tr>\n",
       "      <th>23</th>\n",
       "      <td>1748340</td>\n",
       "      <td>2022-06-07 13:05:41</td>\n",
       "      <td>37</td>\n",
       "      <td>206</td>\n",
       "      <td>18000000.0</td>\n",
       "      <td>16.9</td>\n",
       "      <td>0.0</td>\n",
       "    </tr>\n",
       "    <tr>\n",
       "      <th>24</th>\n",
       "      <td>1748340</td>\n",
       "      <td>2022-06-07 13:05:40</td>\n",
       "      <td>42</td>\n",
       "      <td>258</td>\n",
       "      <td>38000000.0</td>\n",
       "      <td>15.1</td>\n",
       "      <td>0.0</td>\n",
       "    </tr>\n",
       "    <tr>\n",
       "      <th>25</th>\n",
       "      <td>1748340</td>\n",
       "      <td>2022-06-07 13:05:40</td>\n",
       "      <td>51</td>\n",
       "      <td>247</td>\n",
       "      <td>30000000.0</td>\n",
       "      <td>15.6</td>\n",
       "      <td>0.0</td>\n",
       "    </tr>\n",
       "    <tr>\n",
       "      <th>26</th>\n",
       "      <td>1748340</td>\n",
       "      <td>2022-06-07 13:05:40</td>\n",
       "      <td>29</td>\n",
       "      <td>265</td>\n",
       "      <td>20000000.0</td>\n",
       "      <td>8.1</td>\n",
       "      <td>0.0</td>\n",
       "    </tr>\n",
       "    <tr>\n",
       "      <th>27</th>\n",
       "      <td>1748340</td>\n",
       "      <td>2022-06-07 13:05:39</td>\n",
       "      <td>19</td>\n",
       "      <td>231</td>\n",
       "      <td>8000000.0</td>\n",
       "      <td>15.8</td>\n",
       "      <td>0.0</td>\n",
       "    </tr>\n",
       "    <tr>\n",
       "      <th>28</th>\n",
       "      <td>1748340</td>\n",
       "      <td>2022-06-07 13:05:40</td>\n",
       "      <td>17</td>\n",
       "      <td>19</td>\n",
       "      <td>16000000.0</td>\n",
       "      <td>12.9</td>\n",
       "      <td>0.0</td>\n",
       "    </tr>\n",
       "    <tr>\n",
       "      <th>29</th>\n",
       "      <td>1748340</td>\n",
       "      <td>2022-06-07 13:05:41</td>\n",
       "      <td>15</td>\n",
       "      <td>204</td>\n",
       "      <td>8000000.0</td>\n",
       "      <td>19.7</td>\n",
       "      <td>0.0</td>\n",
       "    </tr>\n",
       "    <tr>\n",
       "      <th>30</th>\n",
       "      <td>1748340</td>\n",
       "      <td>2022-06-07 13:05:41</td>\n",
       "      <td>36</td>\n",
       "      <td>157</td>\n",
       "      <td>24000000.0</td>\n",
       "      <td>11.8</td>\n",
       "      <td>0.0</td>\n",
       "    </tr>\n",
       "    <tr>\n",
       "      <th>31</th>\n",
       "      <td>1748340</td>\n",
       "      <td>2022-06-07 13:05:40</td>\n",
       "      <td>32</td>\n",
       "      <td>56</td>\n",
       "      <td>25000000.0</td>\n",
       "      <td>15.0</td>\n",
       "      <td>0.0</td>\n",
       "    </tr>\n",
       "    <tr>\n",
       "      <th>32</th>\n",
       "      <td>1748340</td>\n",
       "      <td>2022-06-07 13:05:41</td>\n",
       "      <td>21</td>\n",
       "      <td>196</td>\n",
       "      <td>3000000.0</td>\n",
       "      <td>18.0</td>\n",
       "      <td>0.0</td>\n",
       "    </tr>\n",
       "    <tr>\n",
       "      <th>33</th>\n",
       "      <td>1748340</td>\n",
       "      <td>2022-06-07 13:05:41</td>\n",
       "      <td>7</td>\n",
       "      <td>220</td>\n",
       "      <td>7000000.0</td>\n",
       "      <td>13.6</td>\n",
       "      <td>0.0</td>\n",
       "    </tr>\n",
       "    <tr>\n",
       "      <th>34</th>\n",
       "      <td>1748340</td>\n",
       "      <td>2022-06-07 13:05:40</td>\n",
       "      <td>14</td>\n",
       "      <td>197</td>\n",
       "      <td>6000000.0</td>\n",
       "      <td>15.8</td>\n",
       "      <td>0.0</td>\n",
       "    </tr>\n",
       "  </tbody>\n",
       "</table>\n",
       "</div>"
      ],
      "text/plain": [
       "    application_id loanapply_insert_time  bank_id  product_id  loan_limit  \\\n",
       "0          1748340   2022-06-07 13:05:41        7         191  42000000.0   \n",
       "1          1748340   2022-06-07 13:05:41       25         169  24000000.0   \n",
       "2          1748340   2022-06-07 13:05:41        2           7  24000000.0   \n",
       "3          1748340   2022-06-07 13:05:41        4         268  29000000.0   \n",
       "4          1748340   2022-06-07 13:05:41       11         118   5000000.0   \n",
       "5          1748340   2022-06-07 13:05:40       35         168  21000000.0   \n",
       "6          1748340   2022-06-07 13:05:40       44           8   3000000.0   \n",
       "7          1748340   2022-06-07 13:05:41       28         217  10000000.0   \n",
       "8          1748340   2022-06-07 13:05:46       47         181  31000000.0   \n",
       "9          1748340   2022-06-07 13:05:51       11         170  50000000.0   \n",
       "10         1748340   2022-06-07 13:05:41       58         175  35000000.0   \n",
       "11         1748340   2022-06-07 13:05:51       35          29   5000000.0   \n",
       "12         1748340   2022-06-07 13:05:39       59         150  25000000.0   \n",
       "13         1748340   2022-06-07 13:05:41       34         248  43000000.0   \n",
       "14         1748340   2022-06-07 13:05:40       10         149  18000000.0   \n",
       "15         1748340   2022-06-07 13:05:41       63         226  29000000.0   \n",
       "16         1748340   2022-06-07 13:05:41       54         235  28000000.0   \n",
       "17         1748340   2022-06-07 13:05:40       10          65  23000000.0   \n",
       "18         1748340   2022-06-07 13:05:50       49          39  17000000.0   \n",
       "19         1748340   2022-06-07 13:05:40       57          71   8000000.0   \n",
       "20         1748340   2022-06-07 13:05:40       31         224  38000000.0   \n",
       "21         1748340   2022-06-07 13:05:51       52         187   1000000.0   \n",
       "22         1748340   2022-06-07 13:05:40       33         110  29000000.0   \n",
       "23         1748340   2022-06-07 13:05:41       37         206  18000000.0   \n",
       "24         1748340   2022-06-07 13:05:40       42         258  38000000.0   \n",
       "25         1748340   2022-06-07 13:05:40       51         247  30000000.0   \n",
       "26         1748340   2022-06-07 13:05:40       29         265  20000000.0   \n",
       "27         1748340   2022-06-07 13:05:39       19         231   8000000.0   \n",
       "28         1748340   2022-06-07 13:05:40       17          19  16000000.0   \n",
       "29         1748340   2022-06-07 13:05:41       15         204   8000000.0   \n",
       "30         1748340   2022-06-07 13:05:41       36         157  24000000.0   \n",
       "31         1748340   2022-06-07 13:05:40       32          56  25000000.0   \n",
       "32         1748340   2022-06-07 13:05:41       21         196   3000000.0   \n",
       "33         1748340   2022-06-07 13:05:41        7         220   7000000.0   \n",
       "34         1748340   2022-06-07 13:05:40       14         197   6000000.0   \n",
       "\n",
       "    loan_rate  is_applied  \n",
       "0        13.6         0.0  \n",
       "1        17.9         0.0  \n",
       "2        18.5         0.0  \n",
       "3        10.8         0.0  \n",
       "4        16.4         0.0  \n",
       "5        15.2         0.0  \n",
       "6        14.8         0.0  \n",
       "7        18.0         0.0  \n",
       "8        13.0         0.0  \n",
       "9        13.3         0.0  \n",
       "10       13.8         0.0  \n",
       "11       11.2         0.0  \n",
       "12       13.4         0.0  \n",
       "13       16.9         0.0  \n",
       "14       13.9         0.0  \n",
       "15       15.6         0.0  \n",
       "16       15.5         0.0  \n",
       "17       13.9         0.0  \n",
       "18       12.6         0.0  \n",
       "19       16.4         0.0  \n",
       "20       12.6         0.0  \n",
       "21        9.9         0.0  \n",
       "22       12.6         0.0  \n",
       "23       16.9         0.0  \n",
       "24       15.1         0.0  \n",
       "25       15.6         0.0  \n",
       "26        8.1         0.0  \n",
       "27       15.8         0.0  \n",
       "28       12.9         0.0  \n",
       "29       19.7         0.0  \n",
       "30       11.8         0.0  \n",
       "31       15.0         0.0  \n",
       "32       18.0         0.0  \n",
       "33       13.6         0.0  \n",
       "34       15.8         0.0  "
      ]
     },
     "execution_count": 12,
     "metadata": {},
     "output_type": "execute_result"
    }
   ],
   "source": [
    "loan_result[loan_result[\"application_id\"] == 1748340]"
   ]
  },
  {
   "cell_type": "markdown",
   "id": "bc65b2da-7476-46d7-bef1-78c840f185c6",
   "metadata": {},
   "source": [
    "### Step 2. User Spec 확인 및 결측치 추정"
   ]
  },
  {
   "cell_type": "markdown",
   "id": "5dcae844-2a93-455c-b0ce-b170b2aa07f0",
   "metadata": {},
   "source": [
    "### 2-1 결측치 추정"
   ]
  },
  {
   "cell_type": "code",
   "execution_count": 13,
   "id": "d5ef7a99-fdfc-4138-9f41-79f05ecf9e2d",
   "metadata": {},
   "outputs": [
    {
     "data": {
      "text/plain": [
       "user_id                                      0\n",
       "application_id                               0\n",
       "birth_year                               12532\n",
       "gender                                   12532\n",
       "insert_time                                  0\n",
       "credit_score                             74719\n",
       "yearly_income                               90\n",
       "income_type                                 85\n",
       "company_enter_month                     164637\n",
       "employment_type                             85\n",
       "houseown_type                               85\n",
       "desired_amount                              85\n",
       "purpose                                     85\n",
       "personal_rehabilitation_yn              566342\n",
       "personal_rehabilitation_complete_yn    1165358\n",
       "existing_loan_cnt                       164428\n",
       "existing_loan_amt                       279304\n",
       "dtype: int64"
      ]
     },
     "execution_count": 13,
     "metadata": {},
     "output_type": "execute_result"
    }
   ],
   "source": [
    "user_spec.isna().sum(0)"
   ]
  },
  {
   "cell_type": "code",
   "execution_count": 14,
   "id": "0e141e7e-5332-43e0-930d-b7883271b243",
   "metadata": {},
   "outputs": [
    {
     "data": {
      "text/plain": [
       "7875"
      ]
     },
     "execution_count": 14,
     "metadata": {},
     "output_type": "execute_result"
    }
   ],
   "source": [
    "len(user_spec[user_spec[\"birth_year\"].isnull()][\"user_id\"].unique()) "
   ]
  },
  {
   "cell_type": "markdown",
   "id": "8fb50c76-530d-43a7-a301-cc2ef6b52b7b",
   "metadata": {},
   "source": [
    "#### 1.1 Birty_year 결측치 추정\n",
    "- 3,222명 결측치 추정함\n",
    "- birty_year_l_wo 데이터 잊지말기 - 추후 이 결측치가 있는 유저들은 어떤특성이 있는지 밝혀야할듯"
   ]
  },
  {
   "cell_type": "code",
   "execution_count": 15,
   "id": "698a6364-4092-4c19-9000-4dda492da89c",
   "metadata": {},
   "outputs": [],
   "source": [
    "l_wo = [] # User id, without\n",
    "\n",
    "for user_id_data in user_spec[user_spec[\"birth_year\"].isnull()][\"user_id\"].unique():\n",
    "    if user_spec[user_spec[\"user_id\"] == user_id_data][\"birth_year\"].dropna().shape[0] == 0:\n",
    "        l_wo.append(user_id_data)\n",
    "    else:\n",
    "        imputation_data = user_spec[user_spec[\"user_id\"] == user_id_data][\"birth_year\"].dropna().to_numpy()[0]\n",
    "        user_spec.loc[user_spec[user_spec[\"user_id\"] == user_id_data].index, \"birth_year\"] = imputation_data\n",
    "    \n"
   ]
  },
  {
   "cell_type": "code",
   "execution_count": 16,
   "id": "52075ff0-7370-4a40-9134-d80ba1bb4ad7",
   "metadata": {},
   "outputs": [
    {
     "data": {
      "text/plain": [
       "6477"
      ]
     },
     "execution_count": 16,
     "metadata": {},
     "output_type": "execute_result"
    }
   ],
   "source": [
    "len(user_spec[user_spec[\"birth_year\"].isnull()][\"user_id\"].unique()) "
   ]
  },
  {
   "cell_type": "code",
   "execution_count": 17,
   "id": "9002885e-2281-47c0-a59b-32541d0ab3fb",
   "metadata": {},
   "outputs": [
    {
     "data": {
      "text/plain": [
       "9310"
      ]
     },
     "execution_count": 17,
     "metadata": {},
     "output_type": "execute_result"
    }
   ],
   "source": [
    "user_spec.isna().sum(0)[\"birth_year\"] # 12532 - 9310"
   ]
  },
  {
   "cell_type": "code",
   "execution_count": 18,
   "id": "85e14d5c-76b5-4021-a9ad-8b02607583e1",
   "metadata": {},
   "outputs": [],
   "source": [
    "birty_year_l_wo = l_wo"
   ]
  },
  {
   "cell_type": "markdown",
   "id": "d0a97d68-8d5a-4243-868b-55b3bebaae97",
   "metadata": {},
   "source": [
    "#### 1.2 Gender 결측치 추정\n",
    "- 3,222명 결측치 추정함"
   ]
  },
  {
   "cell_type": "code",
   "execution_count": 19,
   "id": "c6fd10d9-6cf6-438f-a338-807026264ba0",
   "metadata": {},
   "outputs": [
    {
     "data": {
      "text/plain": [
       "7875"
      ]
     },
     "execution_count": 19,
     "metadata": {},
     "output_type": "execute_result"
    }
   ],
   "source": [
    "len(user_spec[user_spec[\"gender\"].isnull()][\"user_id\"].unique()) "
   ]
  },
  {
   "cell_type": "code",
   "execution_count": 20,
   "id": "e22ad723-35a2-4d08-9bbf-32d87309c391",
   "metadata": {},
   "outputs": [],
   "source": [
    "l_wo = [] # User id, without\n",
    "\n",
    "for user_id_data in user_spec[user_spec[\"gender\"].isnull()][\"user_id\"].unique():\n",
    "    if user_spec[user_spec[\"user_id\"] == user_id_data][\"gender\"].dropna().shape[0] == 0:\n",
    "        l_wo.append(user_id_data)\n",
    "    else:\n",
    "        imputation_data = user_spec[user_spec[\"user_id\"] == user_id_data][\"gender\"].dropna().to_numpy()[0]\n",
    "        user_spec.loc[user_spec[user_spec[\"user_id\"] == user_id_data].index, \"gender\"] = imputation_data\n",
    "    \n"
   ]
  },
  {
   "cell_type": "code",
   "execution_count": 21,
   "id": "2ff7dd20-c861-4667-aaaf-fb72b5a03c7e",
   "metadata": {},
   "outputs": [
    {
     "data": {
      "text/plain": [
       "6477"
      ]
     },
     "execution_count": 21,
     "metadata": {},
     "output_type": "execute_result"
    }
   ],
   "source": [
    "len(user_spec[user_spec[\"gender\"].isnull()][\"user_id\"].unique()) "
   ]
  },
  {
   "cell_type": "code",
   "execution_count": 22,
   "id": "79834573-76f9-46fb-989b-0d0a83fe3169",
   "metadata": {},
   "outputs": [
    {
     "data": {
      "text/plain": [
       "9310"
      ]
     },
     "execution_count": 22,
     "metadata": {},
     "output_type": "execute_result"
    }
   ],
   "source": [
    "user_spec.isna().sum(0)[\"gender\"] # 12532 - 9310"
   ]
  },
  {
   "cell_type": "code",
   "execution_count": 23,
   "id": "d1ab68c8-a2d0-49a3-a04c-8694da0745e6",
   "metadata": {},
   "outputs": [],
   "source": [
    "gender_l_wo = l_wo"
   ]
  },
  {
   "cell_type": "markdown",
   "id": "e8f1b248-d068-448e-9c93-b15f8a02e8e9",
   "metadata": {},
   "source": [
    "#### 1.3 정리\n",
    "- Birty_year과 Gender는 대충승인에 중요한 변수이므로 이 값이 없는 user는 삭제\n",
    "- Birty_year이 없으면 Gender도 결측치임"
   ]
  },
  {
   "cell_type": "code",
   "execution_count": 24,
   "id": "d5ebdf9d-2e42-40b2-8f30-2bae2de06d6f",
   "metadata": {},
   "outputs": [
    {
     "data": {
      "text/plain": [
       "6477"
      ]
     },
     "execution_count": 24,
     "metadata": {},
     "output_type": "execute_result"
    }
   ],
   "source": [
    "len(list(set(birty_year_l_wo).intersection(set(gender_l_wo)))) # Birty_year이 없으면 Gender도 결측치임"
   ]
  },
  {
   "cell_type": "code",
   "execution_count": 25,
   "id": "5ea18903-d315-4597-be44-02cbf4edfe72",
   "metadata": {},
   "outputs": [
    {
     "data": {
      "text/plain": [
       "user_id                                      0\n",
       "application_id                               0\n",
       "birth_year                                   0\n",
       "gender                                       0\n",
       "insert_time                                  0\n",
       "credit_score                             73459\n",
       "yearly_income                               89\n",
       "income_type                                 84\n",
       "company_enter_month                     162262\n",
       "employment_type                             84\n",
       "houseown_type                               84\n",
       "desired_amount                              84\n",
       "purpose                                     84\n",
       "personal_rehabilitation_yn              562629\n",
       "personal_rehabilitation_complete_yn    1157852\n",
       "existing_loan_cnt                       160134\n",
       "existing_loan_amt                       274256\n",
       "dtype: int64"
      ]
     },
     "execution_count": 25,
     "metadata": {},
     "output_type": "execute_result"
    }
   ],
   "source": [
    "user_spec[~user_spec['gender'].isnull()].isna().sum()"
   ]
  },
  {
   "cell_type": "code",
   "execution_count": 26,
   "id": "94ab3a70-980a-48b3-a430-2e33317bc387",
   "metadata": {},
   "outputs": [],
   "source": [
    "user_spec = user_spec[~user_spec['gender'].isnull()]"
   ]
  },
  {
   "cell_type": "markdown",
   "id": "e43b4721-4227-48a0-ac62-0d5dca807266",
   "metadata": {},
   "source": [
    "### 1.4. credit_score 결측치 추정 !!!!!!!!!주의!!!!!!!!! 이거 돌리는데 오래걸림 내 결과만 보셈\n",
    "\n",
    "- 여기에서 중요한점은 user_spec과 loan_result간의 관계임.\n",
    "- user_spec에서 credit score가 결측치인경우 loan result에서 is_applied는 어떤 결과가 있었는지를 확인해야함\n",
    "- 생각보다 승인받는 사람이 많음. 함부로 결측치 제거하는건 안좋은 판단인듯"
   ]
  },
  {
   "cell_type": "code",
   "execution_count": 27,
   "id": "ba4dd65c-8f5f-453b-8d55-b231824bc52a",
   "metadata": {},
   "outputs": [
    {
     "data": {
      "text/plain": [
       "array([1508745, 1304798, 1854180, ...,   77601, 1889786, 1774704])"
      ]
     },
     "execution_count": 27,
     "metadata": {},
     "output_type": "execute_result"
    }
   ],
   "source": [
    "user_spec[user_spec[\"credit_score\"].isnull()][\"application_id\"].unique()"
   ]
  },
  {
   "cell_type": "code",
   "execution_count": 28,
   "id": "34097d05-ed29-48d5-8a72-f8bbd67d0ca5",
   "metadata": {},
   "outputs": [],
   "source": [
    "l = [loan_result[loan_result[\"application_id\"] == application_id_data][\"is_applied\"].sum() \\\n",
    "     for application_id_data in user_spec[user_spec[\"credit_score\"].isnull()][\"application_id\"].unique()]"
   ]
  },
  {
   "cell_type": "code",
   "execution_count": 34,
   "id": "9f750edf-7124-4079-94fe-69a049097be2",
   "metadata": {},
   "outputs": [
    {
     "data": {
      "text/plain": [
       "73459"
      ]
     },
     "execution_count": 34,
     "metadata": {},
     "output_type": "execute_result"
    }
   ],
   "source": [
    "len(l)"
   ]
  },
  {
   "cell_type": "markdown",
   "id": "b92d6ae1-fbc3-4ae7-a844-7f935ef2bca9",
   "metadata": {},
   "source": [
    "### Note that\n",
    "- credit_score의 결측치는 평균 credit_score로 대체\n",
    "- 17571 행의 결측치 추정함.\n",
    "- 이부분 user_spec[user_spec[\"user_id\"] == user_id_data][\"credit_score\"].dropna().to_numpy().mean() 평균쓰는게 맞는지? 한번확인 필요 (내가해둠)\n",
    "- 추가적으로 남은 결측치들 어떻게할지 고민좀 해봐야함.."
   ]
  },
  {
   "cell_type": "code",
   "execution_count": 37,
   "id": "c30e3b88-5829-4736-95d1-10b088f85368",
   "metadata": {},
   "outputs": [],
   "source": [
    "l_wo = [] # User id, without\n",
    "\n",
    "for user_id_data in user_spec[user_spec[\"credit_score\"].isnull()][\"user_id\"].unique():\n",
    "    if user_spec[user_spec[\"user_id\"] == user_id_data][\"credit_score\"].dropna().shape[0] == 0:\n",
    "        l_wo.append(user_id_data)\n",
    "    else:\n",
    "        imputation_data = user_spec[user_spec[\"user_id\"] == user_id_data][\"credit_score\"].dropna().to_numpy().mean()\n",
    "        user_spec.loc[user_spec[user_spec[\"user_id\"] == user_id_data].index, \"credit_score\"] = imputation_data\n",
    "    \n"
   ]
  },
  {
   "cell_type": "code",
   "execution_count": 39,
   "id": "ad8a99ae-d5dd-4f62-8df2-4b5719f3c13f",
   "metadata": {},
   "outputs": [
    {
     "data": {
      "text/plain": [
       "user_id                                      0\n",
       "application_id                               0\n",
       "birth_year                                   0\n",
       "gender                                       0\n",
       "insert_time                                  0\n",
       "credit_score                             55888\n",
       "yearly_income                               89\n",
       "income_type                                 84\n",
       "company_enter_month                     162262\n",
       "employment_type                             84\n",
       "houseown_type                               84\n",
       "desired_amount                              84\n",
       "purpose                                     84\n",
       "personal_rehabilitation_yn              562629\n",
       "personal_rehabilitation_complete_yn    1157852\n",
       "existing_loan_cnt                       160134\n",
       "existing_loan_amt                       274256\n",
       "dtype: int64"
      ]
     },
     "execution_count": 39,
     "metadata": {},
     "output_type": "execute_result"
    }
   ],
   "source": [
    "user_spec.isna().sum()"
   ]
  },
  {
   "cell_type": "code",
   "execution_count": 45,
   "id": "db74195e-6e8b-459a-a335-cf187079ea6a",
   "metadata": {},
   "outputs": [],
   "source": [
    "l = [loan_result[loan_result[\"application_id\"] == application_id_data][\"is_applied\"].sum() \\\n",
    "     for application_id_data in user_spec[user_spec[\"credit_score\"].isnull()][\"application_id\"].unique()]"
   ]
  },
  {
   "cell_type": "code",
   "execution_count": 47,
   "id": "38114c72-25f7-44d5-ae49-2fa791b67dca",
   "metadata": {},
   "outputs": [
    {
     "data": {
      "text/plain": [
       "31587.0"
      ]
     },
     "execution_count": 47,
     "metadata": {},
     "output_type": "execute_result"
    }
   ],
   "source": [
    "sum(l)"
   ]
  },
  {
   "cell_type": "markdown",
   "id": "95a4888b-898a-4593-81e9-5598c1fd0e01",
   "metadata": {},
   "source": [
    "### 1.5. yearly_income, income_type, employment_type, houseown_type ,  desired_amount  , purpose 결측치 제거\n",
    "\n",
    "- 이것들은 소수이기도하고 오히려 노이즈처럼 보일듯\n",
    "- yearly_income에서 제거하면 나머지도 다 제거됨"
   ]
  },
  {
   "cell_type": "code",
   "execution_count": 52,
   "id": "ad3b077d-05e9-4317-861b-66b0276b3b1c",
   "metadata": {},
   "outputs": [],
   "source": [
    "pd.set_option('display.max_row', 500)"
   ]
  },
  {
   "cell_type": "code",
   "execution_count": 57,
   "id": "8ad61a54-ec52-49c5-bdbf-dfe47376c173",
   "metadata": {
    "tags": []
   },
   "outputs": [
    {
     "data": {
      "text/plain": [
       "user_id                                      0\n",
       "application_id                               0\n",
       "birth_year                                   0\n",
       "gender                                       0\n",
       "insert_time                                  0\n",
       "credit_score                             55885\n",
       "yearly_income                                0\n",
       "income_type                                  0\n",
       "company_enter_month                     162174\n",
       "employment_type                              0\n",
       "houseown_type                                0\n",
       "desired_amount                               0\n",
       "purpose                                      0\n",
       "personal_rehabilitation_yn              562545\n",
       "personal_rehabilitation_complete_yn    1157768\n",
       "existing_loan_cnt                       160118\n",
       "existing_loan_amt                       274234\n",
       "dtype: int64"
      ]
     },
     "execution_count": 57,
     "metadata": {},
     "output_type": "execute_result"
    }
   ],
   "source": [
    "user_spec[~user_spec[\"yearly_income\"].isnull()].isna().sum()"
   ]
  },
  {
   "cell_type": "code",
   "execution_count": null,
   "id": "a6e3e88c-6f0d-4616-95aa-e2c115964617",
   "metadata": {},
   "outputs": [],
   "source": [
    "user_spec = user_spec[~user_spec[\"yearly_income\"].isnull()]"
   ]
  },
  {
   "cell_type": "markdown",
   "id": "88fb4d1f-757a-44b1-bdea-c508146b073f",
   "metadata": {},
   "source": [
    "### 1.6 company_enter_month\n",
    "\n",
    "- 근속년수를 파악할 수 있는 중요한 도구니깐.. 컬럼을 제거하면 안됨.\n",
    "- 그런데 이걸 추정할 수 있는 마땅한 방법이 없음... 대체적으로 프리랜서인경우가 이거에 속할텐데 어떻게 해야할지 고민해야함\n",
    "- company_enter_month 값들은 모두 0으로 바꾸고, 근속년수를 계산하기"
   ]
  },
  {
   "cell_type": "code",
   "execution_count": 79,
   "id": "1822c5f0-d207-4d24-b3ec-5fdd1add7919",
   "metadata": {
    "collapsed": true,
    "jupyter": {
     "outputs_hidden": true
    },
    "tags": []
   },
   "outputs": [
    {
     "name": "stderr",
     "output_type": "stream",
     "text": [
      "/tmp/ipykernel_25170/1304192111.py:1: SettingWithCopyWarning: \n",
      "A value is trying to be set on a copy of a slice from a DataFrame.\n",
      "Try using .loc[row_indexer,col_indexer] = value instead\n",
      "\n",
      "See the caveats in the documentation: https://pandas.pydata.org/pandas-docs/stable/user_guide/indexing.html#returning-a-view-versus-a-copy\n",
      "  user_spec.loc[user_spec['company_enter_month'] != user_spec['company_enter_month'], 'company_enter_month'] = \"000000\"\n"
     ]
    }
   ],
   "source": [
    "user_spec.loc[user_spec['company_enter_month'] != user_spec['company_enter_month'], 'company_enter_month'] = \"000000\""
   ]
  },
  {
   "cell_type": "code",
   "execution_count": 85,
   "id": "c1bdc34f-91bf-4c59-86a3-19b63ebd9ab8",
   "metadata": {},
   "outputs": [
    {
     "name": "stderr",
     "output_type": "stream",
     "text": [
      "/tmp/ipykernel_25170/480003805.py:1: SettingWithCopyWarning: \n",
      "A value is trying to be set on a copy of a slice from a DataFrame.\n",
      "Try using .loc[row_indexer,col_indexer] = value instead\n",
      "\n",
      "See the caveats in the documentation: https://pandas.pydata.org/pandas-docs/stable/user_guide/indexing.html#returning-a-view-versus-a-copy\n",
      "  user_spec['company_enter_month'] = user_spec['company_enter_month'].astype(int).astype(str)\n"
     ]
    }
   ],
   "source": [
    "user_spec['company_enter_month'] = user_spec['company_enter_month'].astype(int).astype(str)"
   ]
  },
  {
   "cell_type": "code",
   "execution_count": 90,
   "id": "fce7f247-e5e6-496f-9ac1-ea41efa59dd6",
   "metadata": {},
   "outputs": [
    {
     "name": "stderr",
     "output_type": "stream",
     "text": [
      "/tmp/ipykernel_25170/119620894.py:1: SettingWithCopyWarning: \n",
      "A value is trying to be set on a copy of a slice from a DataFrame.\n",
      "Try using .loc[row_indexer,col_indexer] = value instead\n",
      "\n",
      "See the caveats in the documentation: https://pandas.pydata.org/pandas-docs/stable/user_guide/indexing.html#returning-a-view-versus-a-copy\n",
      "  user_spec[\"company_enter_month\"] = 202206-user_spec[\"company_enter_month\"].str[:6].astype(int)\n"
     ]
    }
   ],
   "source": [
    "user_spec[\"company_enter_month\"] = 202206-user_spec[\"company_enter_month\"].str[:6].astype(int)"
   ]
  },
  {
   "cell_type": "code",
   "execution_count": 92,
   "id": "5686ee4b-008f-49ff-b588-c80c5e8c2a71",
   "metadata": {},
   "outputs": [],
   "source": [
    "user_spec.loc[user_spec['company_enter_month'] == 202206, 'company_enter_month'] = 0"
   ]
  },
  {
   "cell_type": "code",
   "execution_count": 94,
   "id": "4d4fb86d-0230-4b20-8292-7e2ac6638750",
   "metadata": {},
   "outputs": [
    {
     "data": {
      "text/plain": [
       "user_id                                      0\n",
       "application_id                               0\n",
       "birth_year                                   0\n",
       "gender                                       0\n",
       "insert_time                                  0\n",
       "credit_score                             55885\n",
       "yearly_income                                0\n",
       "income_type                                  0\n",
       "company_enter_month                          0\n",
       "employment_type                              0\n",
       "houseown_type                                0\n",
       "desired_amount                               0\n",
       "purpose                                      0\n",
       "personal_rehabilitation_yn              562545\n",
       "personal_rehabilitation_complete_yn    1157768\n",
       "existing_loan_cnt                       160118\n",
       "existing_loan_amt                       274234\n",
       "dtype: int64"
      ]
     },
     "execution_count": 94,
     "metadata": {},
     "output_type": "execute_result"
    }
   ],
   "source": [
    "user_spec.isna().sum()"
   ]
  },
  {
   "cell_type": "markdown",
   "id": "ebce6a03-a97d-42a9-b2f0-0dac1e19a67e",
   "metadata": {},
   "source": [
    "### 1.7 personal_rehabilitation_yn, personal_rehabilitation_complete_yn\n",
    "\n",
    "- personal_rehabilitation_yn (개인회상자여부) : 매우중요한 변수일듯\n",
    "- Rule based로 결측치를 추정하는게 좋을듯?\n",
    "- 그러나, personal_rehabilitation_complete_yn 이 컬럼은 제거하는게 맞는것 같음\n",
    "- 생각보다 이 컬럼을 추정하는게 쉽지않은듯 비율도 적고... 일단 삭제"
   ]
  },
  {
   "cell_type": "code",
   "execution_count": 125,
   "id": "e582879d-8b38-4443-9201-35dbc32d600c",
   "metadata": {},
   "outputs": [],
   "source": [
    "user_spec = user_spec.drop([\"personal_rehabilitation_yn\", \"personal_rehabilitation_complete_yn\"], axis = 1)"
   ]
  },
  {
   "cell_type": "markdown",
   "id": "08ec9ef4-4f08-4da5-9447-14a55f61ba18",
   "metadata": {},
   "source": [
    "### 1.8. existing_loan_cnt, existing_loan_amt"
   ]
  },
  {
   "cell_type": "code",
   "execution_count": 126,
   "id": "772772a3-740f-4a47-bc6d-57b82ed210ff",
   "metadata": {},
   "outputs": [
    {
     "data": {
      "text/plain": [
       "user_id                     0\n",
       "application_id              0\n",
       "birth_year                  0\n",
       "gender                      0\n",
       "insert_time                 0\n",
       "credit_score            55885\n",
       "yearly_income               0\n",
       "income_type                 0\n",
       "company_enter_month         0\n",
       "employment_type             0\n",
       "houseown_type               0\n",
       "desired_amount              0\n",
       "purpose                     0\n",
       "existing_loan_cnt      160118\n",
       "existing_loan_amt      274234\n",
       "dtype: int64"
      ]
     },
     "execution_count": 126,
     "metadata": {},
     "output_type": "execute_result"
    }
   ],
   "source": [
    "user_spec.isna().sum()"
   ]
  },
  {
   "cell_type": "code",
   "execution_count": 134,
   "id": "275b8fdf-922a-48e1-a539-b809244ab0bb",
   "metadata": {},
   "outputs": [],
   "source": [
    "user_spec.loc[user_spec['existing_loan_cnt'] != user_spec['existing_loan_cnt'], 'existing_loan_cnt'] = 0"
   ]
  },
  {
   "cell_type": "code",
   "execution_count": 139,
   "id": "835725cb-c821-4dcc-b010-2deac9cda1b9",
   "metadata": {},
   "outputs": [],
   "source": [
    "user_spec.loc[user_spec['existing_loan_amt'] != user_spec['existing_loan_amt'], 'existing_loan_amt'] = 0"
   ]
  },
  {
   "cell_type": "code",
   "execution_count": 141,
   "id": "28d283e2-4138-43f6-b164-eb2aa75d4c83",
   "metadata": {},
   "outputs": [
    {
     "data": {
      "text/plain": [
       "user_id                    0\n",
       "application_id             0\n",
       "birth_year                 0\n",
       "gender                     0\n",
       "insert_time                0\n",
       "credit_score           55885\n",
       "yearly_income              0\n",
       "income_type                0\n",
       "company_enter_month        0\n",
       "employment_type            0\n",
       "houseown_type              0\n",
       "desired_amount             0\n",
       "purpose                    0\n",
       "existing_loan_cnt          0\n",
       "existing_loan_amt          0\n",
       "dtype: int64"
      ]
     },
     "execution_count": 141,
     "metadata": {},
     "output_type": "execute_result"
    }
   ],
   "source": [
    "user_spec.isna().sum()"
   ]
  },
  {
   "cell_type": "markdown",
   "id": "593f1f48-7732-4aae-a3c1-7920bdd83b09",
   "metadata": {},
   "source": [
    "### 1.9 Credit Score 다시생각해보기 - 일단제거"
   ]
  },
  {
   "cell_type": "code",
   "execution_count": 149,
   "id": "41d20883-8749-406d-928a-d2a335101ef8",
   "metadata": {},
   "outputs": [],
   "source": [
    "user_spec.loc[user_spec['purpose'] == \"SWITCHLOAN\", 'purpose'] = \"대환대출\"\n",
    "user_spec.loc[user_spec['purpose'] == \"LIVING\", 'purpose'] = \"생활비\"\n",
    "user_spec.loc[user_spec['purpose'] == \"ETC\", 'purpose'] = \"기타\"\n",
    "user_spec.loc[user_spec['purpose'] == \"BUYCAR\", 'purpose'] = \"자동차구입\"\n",
    "user_spec.loc[user_spec['purpose'] == \"BUSINESS\", 'purpose'] = \"사업자금\"\n",
    "user_spec.loc[user_spec['purpose'] == \"HOUSEDEPOSIT\", 'purpose'] = \"전월세보증금\"\n",
    "user_spec.loc[user_spec['purpose'] == \"INVEST\", 'purpose'] = \"투자\"\n",
    "user_spec.loc[user_spec['purpose'] == \"BUYHOUSE\", 'purpose'] = \"주택구입\"\n"
   ]
  },
  {
   "cell_type": "code",
   "execution_count": 152,
   "id": "c8a37843-c040-4c80-80cb-cf4d6bd721e8",
   "metadata": {},
   "outputs": [
    {
     "data": {
      "text/plain": [
       "array(['OTHERINCOME', 'EARNEDINCOME2', 'EARNEDINCOME', 'FREELANCER',\n",
       "       'PRIVATEBUSINESS', 'PRACTITIONER'], dtype=object)"
      ]
     },
     "execution_count": 152,
     "metadata": {},
     "output_type": "execute_result"
    }
   ],
   "source": [
    "user_spec[\"income_type\"].unique()"
   ]
  },
  {
   "cell_type": "code",
   "execution_count": 154,
   "id": "d7a65ba5-b4f3-48f1-9dd0-029cbce5e51b",
   "metadata": {},
   "outputs": [],
   "source": [
    "user_spec = user_spec[~user_spec[\"credit_score\"].isnull()]"
   ]
  },
  {
   "cell_type": "markdown",
   "id": "40ed34f0-9ba0-4ac6-b4eb-621c0e52c4b3",
   "metadata": {},
   "source": [
    "### Data Merge"
   ]
  },
  {
   "cell_type": "code",
   "execution_count": 184,
   "id": "45959d2c-cb9b-4009-9c97-3549f9f1cf49",
   "metadata": {},
   "outputs": [],
   "source": [
    "full_data = loan_result.merge(user_spec)"
   ]
  },
  {
   "cell_type": "code",
   "execution_count": 163,
   "id": "a5e4faa9-cee9-43be-bc3f-0c001edd31f0",
   "metadata": {},
   "outputs": [],
   "source": [
    "from sklearn.model_selection import train_test_split"
   ]
  },
  {
   "cell_type": "code",
   "execution_count": 185,
   "id": "8872a92c-fff4-42bb-a565-0acea8b28d53",
   "metadata": {},
   "outputs": [],
   "source": [
    "train, val = train_test_split(full_data, test_size=0.20,   random_state=20205289,  stratify=full_data['is_applied'])"
   ]
  },
  {
   "cell_type": "code",
   "execution_count": 195,
   "id": "1fbc6ae4-b494-4e92-ae07-fd64c518563c",
   "metadata": {},
   "outputs": [],
   "source": [
    "train, test = train_test_split(train, test_size=0.125,   random_state=20205289,  stratify=train['is_applied'])"
   ]
  },
  {
   "cell_type": "code",
   "execution_count": null,
   "id": "04be9dea-9d31-4e62-81fa-16b245f38cbd",
   "metadata": {},
   "outputs": [],
   "source": []
  },
  {
   "cell_type": "code",
   "execution_count": 200,
   "id": "8c467059-22ea-4ed4-bc3e-599b9bb528c1",
   "metadata": {},
   "outputs": [],
   "source": [
    "train.to_csv(\"./prepro_data/train.csv\", index = False)\n",
    "val.to_csv(\"./prepro_data/val.csv\", index = False)\n",
    "test.to_csv(\"./prepro_data/test.csv\", index = False)"
   ]
  },
  {
   "cell_type": "code",
   "execution_count": null,
   "id": "969c3531-67cb-4823-94b5-ff4682b69724",
   "metadata": {},
   "outputs": [],
   "source": []
  }
 ],
 "metadata": {
  "kernelspec": {
   "display_name": "bigcon",
   "language": "python",
   "name": "bigcon"
  },
  "language_info": {
   "codemirror_mode": {
    "name": "ipython",
    "version": 3
   },
   "file_extension": ".py",
   "mimetype": "text/x-python",
   "name": "python",
   "nbconvert_exporter": "python",
   "pygments_lexer": "ipython3",
   "version": "3.8.13"
  }
 },
 "nbformat": 4,
 "nbformat_minor": 5
}
