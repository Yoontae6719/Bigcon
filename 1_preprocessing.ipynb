{
 "cells": [
  {
   "cell_type": "code",
   "execution_count": 1,
   "id": "ce78d0d4-997c-468c-bb23-432a39675355",
   "metadata": {},
   "outputs": [],
   "source": [
    "import pandas as pd\n",
    "import numpy as np"
   ]
  },
  {
   "cell_type": "code",
   "execution_count": 2,
   "id": "9aea5578-8f78-4df6-94b1-debceb0dcfe7",
   "metadata": {},
   "outputs": [],
   "source": [
    "loan_result = pd.read_csv(\"./data/loan_result.csv\")\n",
    "log_data = pd.read_csv(\"./data/log_data.csv\")\n",
    "user_spec = pd.read_csv(\"./data/user_spec.csv\")"
   ]
  },
  {
   "cell_type": "code",
   "execution_count": 3,
   "id": "46f5b954-dbe0-48fe-9b70-80c21bc4106a",
   "metadata": {},
   "outputs": [],
   "source": [
    "#test = loan_result[loan_result[\"loanapply_insert_time\"] >= \"2022-06-01 00:00:00\"]\n",
    "#loan_result = loan_result[loan_result[\"loanapply_insert_time\"] < \"2022-06-01 00:00:00\"]\n"
   ]
  },
  {
   "cell_type": "markdown",
   "id": "0a05142e-73d7-4339-aa9f-9934dc9487c8",
   "metadata": {},
   "source": [
    "### Step 1. Merge Dataset \n",
    "\n",
    "- 1. Drop columns : [personal_rehabilitation_yn , personal_rehabilitation_complete_yn ]\n",
    "    - 위 컬럼들은 애초에 결측치가 너무 많고 추정하기가 쉽지않음."
   ]
  },
  {
   "cell_type": "code",
   "execution_count": 4,
   "id": "fe693d0a-9e52-4e57-896c-5a20060b9bee",
   "metadata": {},
   "outputs": [
    {
     "data": {
      "text/plain": [
       "application_id                                0\n",
       "loanapply_insert_time                         0\n",
       "bank_id                                       0\n",
       "product_id                                    0\n",
       "loan_limit                                 7382\n",
       "loan_rate                                  7382\n",
       "is_applied                              3257239\n",
       "user_id                                       0\n",
       "birth_year                               128096\n",
       "gender                                   128096\n",
       "insert_time                                   0\n",
       "credit_score                            1509276\n",
       "yearly_income                                 6\n",
       "income_type                                   0\n",
       "company_enter_month                      400337\n",
       "employment_type                               0\n",
       "houseown_type                                 0\n",
       "desired_amount                                0\n",
       "purpose                                       0\n",
       "personal_rehabilitation_yn              5888701\n",
       "personal_rehabilitation_complete_yn    11793977\n",
       "existing_loan_cnt                       2685709\n",
       "existing_loan_amt                       3890163\n",
       "dtype: int64"
      ]
     },
     "execution_count": 4,
     "metadata": {},
     "output_type": "execute_result"
    }
   ],
   "source": [
    "loan_result.merge(user_spec).isna().sum()"
   ]
  },
  {
   "cell_type": "code",
   "execution_count": 5,
   "id": "c00148d2-d0b9-4c86-84e7-ab67954bd07c",
   "metadata": {},
   "outputs": [],
   "source": [
    "#test = test.merge(user_spec)\n",
    "loan_result = loan_result.merge(user_spec)"
   ]
  },
  {
   "cell_type": "code",
   "execution_count": 6,
   "id": "988b9881-e2e1-4ed7-8048-0330e693052f",
   "metadata": {},
   "outputs": [],
   "source": [
    "#test = test.drop([\"personal_rehabilitation_yn\" , \"personal_rehabilitation_complete_yn\" ], axis = 1)\n",
    "loan_result = loan_result.drop([\"personal_rehabilitation_yn\" , \"personal_rehabilitation_complete_yn\" ], axis = 1)\n"
   ]
  },
  {
   "cell_type": "markdown",
   "id": "aaf88b4d-6775-4aec-bfb9-b08e7a777068",
   "metadata": {},
   "source": [
    "### Step 2. Imputation\n",
    "\n",
    "- loan_limit이 nan이면 loan_rate 역시 nan임\n",
    "- 이 결측치들은 각 application_id의 평균값으로 대체"
   ]
  },
  {
   "cell_type": "code",
   "execution_count": 7,
   "id": "5b592da4-180f-47d7-b1f3-d1164c9c8c6b",
   "metadata": {},
   "outputs": [],
   "source": [
    "unique_loan = loan_result[loan_result['loan_limit'].isnull()][\"application_id\"].unique()\n",
    "\n",
    "for i in range(len(unique_loan)):\n",
    "    mean = loan_result[loan_result[\"application_id\"] == unique_loan[i]].loc[:,\"loan_limit\"].dropna().mean()\n",
    "    loan_result.loc[loan_result[loan_result[\"application_id\"] == unique_loan[i]].loc[:,\"loan_limit\"].fillna( mean).index, \"loan_limit\"] = loan_result[loan_result[\"application_id\"] == unique_loan[i]].loc[:,\"loan_limit\"].fillna( mean)"
   ]
  },
  {
   "cell_type": "code",
   "execution_count": 8,
   "id": "9597d114-eba8-440a-b927-5810771e28fb",
   "metadata": {},
   "outputs": [],
   "source": [
    "unique_loan = loan_result[loan_result['loan_rate'].isnull()][\"application_id\"].unique()\n",
    "\n",
    "for i in range(len(unique_loan)):\n",
    "    mean = loan_result[loan_result[\"application_id\"] == unique_loan[i]].loc[:,\"loan_rate\"].dropna().mean()\n",
    "    loan_result.loc[loan_result[loan_result[\"application_id\"] == unique_loan[i]].loc[:,\"loan_rate\"].fillna( mean).index, \"loan_rate\"] = loan_result[loan_result[\"application_id\"] == unique_loan[i]].loc[:,\"loan_rate\"].fillna( mean)"
   ]
  },
  {
   "cell_type": "code",
   "execution_count": 9,
   "id": "80a81ce5-6308-486a-ab98-4136db192d43",
   "metadata": {},
   "outputs": [
    {
     "data": {
      "text/plain": [
       "application_id                 0\n",
       "loanapply_insert_time          0\n",
       "bank_id                        0\n",
       "product_id                     0\n",
       "loan_limit                    26\n",
       "loan_rate                     26\n",
       "is_applied               3257239\n",
       "user_id                        0\n",
       "birth_year                128096\n",
       "gender                    128096\n",
       "insert_time                    0\n",
       "credit_score             1509276\n",
       "yearly_income                  6\n",
       "income_type                    0\n",
       "company_enter_month       400337\n",
       "employment_type                0\n",
       "houseown_type                  0\n",
       "desired_amount                 0\n",
       "purpose                        0\n",
       "existing_loan_cnt        2685709\n",
       "existing_loan_amt        3890163\n",
       "dtype: int64"
      ]
     },
     "execution_count": 9,
     "metadata": {},
     "output_type": "execute_result"
    }
   ],
   "source": [
    "loan_result.isna().sum()"
   ]
  },
  {
   "cell_type": "markdown",
   "id": "5dcae844-2a93-455c-b0ce-b170b2aa07f0",
   "metadata": {},
   "source": [
    "### 2-1 결측치 추정"
   ]
  },
  {
   "cell_type": "markdown",
   "id": "8fb50c76-530d-43a7-a301-cc2ef6b52b7b",
   "metadata": {},
   "source": [
    "#### 1.1 Birty_year & Gender 결측치 추정\n",
    "- 기존에 있으면 이걸로 대체 (이건 전부 결측치임)"
   ]
  },
  {
   "cell_type": "code",
   "execution_count": 10,
   "id": "e49491c8-68ac-4b0f-bb31-12a510896f8a",
   "metadata": {},
   "outputs": [],
   "source": [
    "birth_data = loan_result[loan_result['birth_year'].isnull()][\"application_id\"].unique()"
   ]
  },
  {
   "cell_type": "code",
   "execution_count": 33,
   "id": "850c40e0-8089-4514-bb5d-7d7e5b31e815",
   "metadata": {},
   "outputs": [],
   "source": [
    "for i in range(len(birth_data)):\n",
    "    mean = loan_result[loan_result[\"application_id\"] == birth_data[i]].loc[:,\"birth_year\"].dropna().mean()\n",
    "    loan_result.loc[loan_result[loan_result[\"application_id\"] == birth_data[i]].loc[:,\"birth_year\"].fillna( mean).index, \"birth_year\"] = loan_result[loan_result[\"application_id\"] == birth_data[i]].loc[:,\"birth_year\"].fillna(mean)"
   ]
  },
  {
   "cell_type": "code",
   "execution_count": 34,
   "id": "b0376ec3-adff-4e27-b141-18dde904b260",
   "metadata": {},
   "outputs": [],
   "source": [
    "gender_data = loan_result[loan_result['gender'].isnull()][\"application_id\"].unique()"
   ]
  },
  {
   "cell_type": "code",
   "execution_count": 35,
   "id": "7741f799-33c7-4e68-b42d-103eefb848c8",
   "metadata": {},
   "outputs": [],
   "source": [
    "for i in range(len(gender_data)):\n",
    "    mean = loan_result[loan_result[\"application_id\"] == gender_data[i]].loc[:,\"gender\"].dropna().mean()\n",
    "    loan_result.loc[loan_result[loan_result[\"application_id\"] == gender_data[i]].loc[:,\"gender\"].fillna( mean).index, \"gender\"] = loan_result[loan_result[\"application_id\"] == gender_data[i]].loc[:,\"gender\"].fillna(mean)"
   ]
  },
  {
   "cell_type": "code",
   "execution_count": 36,
   "id": "dde88b0c-7e2c-4bbd-9f4c-74bc177c9b3d",
   "metadata": {},
   "outputs": [
    {
     "data": {
      "text/plain": [
       "application_id                 0\n",
       "loanapply_insert_time          0\n",
       "bank_id                        0\n",
       "product_id                     0\n",
       "loan_limit                    26\n",
       "loan_rate                     26\n",
       "is_applied               3257239\n",
       "user_id                        0\n",
       "birth_year                128096\n",
       "gender                    128096\n",
       "insert_time                    0\n",
       "credit_score             1509276\n",
       "yearly_income                  6\n",
       "income_type                    0\n",
       "company_enter_month       400337\n",
       "employment_type                0\n",
       "houseown_type                  0\n",
       "desired_amount                 0\n",
       "purpose                        0\n",
       "existing_loan_cnt        2685709\n",
       "existing_loan_amt        3890163\n",
       "dtype: int64"
      ]
     },
     "execution_count": 36,
     "metadata": {},
     "output_type": "execute_result"
    }
   ],
   "source": [
    "loan_result.isna().sum()"
   ]
  },
  {
   "cell_type": "markdown",
   "id": "600c5df1-4735-4225-939e-92c5bb3141e5",
   "metadata": {},
   "source": [
    "### 2-1 결측치 추정\n",
    "\n",
    "#### 1.2 Credit_score 결측치 추정\n",
    "- 기존에 있으면 이걸로 대체 \n",
    "- 2022.06월 이후는 다 결측치인가본데..?"
   ]
  },
  {
   "cell_type": "code",
   "execution_count": null,
   "id": "184ad54f-78ed-4811-911e-718221ed616a",
   "metadata": {},
   "outputs": [],
   "source": []
  },
  {
   "cell_type": "code",
   "execution_count": 41,
   "id": "1b5e1eb2-95a6-4a99-8d43-af93dc35f39f",
   "metadata": {},
   "outputs": [],
   "source": [
    "credit_data = loan_result[loan_result['credit_score'].isnull()][\"application_id\"].unique()"
   ]
  },
  {
   "cell_type": "code",
   "execution_count": 39,
   "id": "da6c453d-2a1a-45c4-a797-7934de4bcd81",
   "metadata": {},
   "outputs": [],
   "source": [
    "for i in range(len(credit_data)):\n",
    "    mean = loan_result[loan_result[\"application_id\"] == credit_data[i]].loc[:,\"credit_score\"].dropna().mean()\n",
    "    loan_result.loc[loan_result[loan_result[\"application_id\"] == credit_data[i]].loc[:,\"credit_score\"].fillna( mean).index, \"credit_score\"] = loan_result[loan_result[\"application_id\"] == credit_data[i]].loc[:,\"credit_score\"].fillna(mean)"
   ]
  },
  {
   "cell_type": "code",
   "execution_count": 40,
   "id": "0d30bc54-61ec-4c1c-933f-4f02c350575b",
   "metadata": {},
   "outputs": [
    {
     "data": {
      "text/plain": [
       "application_id                 0\n",
       "loanapply_insert_time          0\n",
       "bank_id                        0\n",
       "product_id                     0\n",
       "loan_limit                    26\n",
       "loan_rate                     26\n",
       "is_applied               3257239\n",
       "user_id                        0\n",
       "birth_year                128096\n",
       "gender                    128096\n",
       "insert_time                    0\n",
       "credit_score             1509276\n",
       "yearly_income                  6\n",
       "income_type                    0\n",
       "company_enter_month       400337\n",
       "employment_type                0\n",
       "houseown_type                  0\n",
       "desired_amount                 0\n",
       "purpose                        0\n",
       "existing_loan_cnt        2685709\n",
       "existing_loan_amt        3890163\n",
       "dtype: int64"
      ]
     },
     "execution_count": 40,
     "metadata": {},
     "output_type": "execute_result"
    }
   ],
   "source": [
    "loan_result.isna().sum()"
   ]
  },
  {
   "cell_type": "code",
   "execution_count": null,
   "id": "dd2a9e76-8c7d-47ad-8b62-b726afcef0a9",
   "metadata": {},
   "outputs": [],
   "source": []
  },
  {
   "cell_type": "markdown",
   "id": "88fb4d1f-757a-44b1-bdea-c508146b073f",
   "metadata": {},
   "source": [
    "### 1.6 company_enter_month\n",
    "\n",
    "- 근속년수를 파악할 수 있는 중요한 도구니깐.. 컬럼을 제거하면 안됨.\n",
    "- 그런데 이걸 추정할 수 있는 마땅한 방법이 없음... 대체적으로 프리랜서인경우가 이거에 속할텐데 어떻게 해야할지 고민해야함\n",
    "- company_enter_month 값들은 모두 0으로 바꾸고, 근속년수를 계산하기"
   ]
  },
  {
   "cell_type": "code",
   "execution_count": 77,
   "id": "b5495ae0-45d1-44d6-9578-e1cc810bf029",
   "metadata": {},
   "outputs": [],
   "source": [
    "loan_result.loc[loan_result['company_enter_month'] != loan_result['company_enter_month'], 'company_enter_month'] = \"000000\""
   ]
  },
  {
   "cell_type": "code",
   "execution_count": 78,
   "id": "86c724ff-3b1f-4459-9c89-3b48e311caa2",
   "metadata": {},
   "outputs": [],
   "source": [
    "loan_result['company_enter_month'] = loan_result['company_enter_month'].astype(int).astype(str)\n",
    "loan_result[\"company_enter_month\"] = 202206-loan_result[\"company_enter_month\"].str[:6].astype(int)"
   ]
  },
  {
   "cell_type": "code",
   "execution_count": 79,
   "id": "390a26e4-1a97-45b7-8867-61144b704940",
   "metadata": {},
   "outputs": [],
   "source": [
    "loan_result.loc[loan_result['company_enter_month'] == 202206, 'company_enter_month'] = 0"
   ]
  },
  {
   "cell_type": "code",
   "execution_count": 80,
   "id": "4d4fb86d-0230-4b20-8292-7e2ac6638750",
   "metadata": {},
   "outputs": [
    {
     "data": {
      "text/plain": [
       "application_id                 0\n",
       "loanapply_insert_time          0\n",
       "bank_id                        0\n",
       "product_id                     0\n",
       "loan_limit                    26\n",
       "loan_rate                     26\n",
       "is_applied               3257239\n",
       "user_id                        0\n",
       "birth_year                128096\n",
       "gender                    128096\n",
       "insert_time                    0\n",
       "credit_score             1509276\n",
       "yearly_income                  6\n",
       "income_type                    0\n",
       "company_enter_month            0\n",
       "employment_type                0\n",
       "houseown_type                  0\n",
       "desired_amount                 0\n",
       "purpose                        0\n",
       "existing_loan_cnt        2685709\n",
       "existing_loan_amt        3890163\n",
       "dtype: int64"
      ]
     },
     "execution_count": 80,
     "metadata": {},
     "output_type": "execute_result"
    }
   ],
   "source": [
    "loan_result.isna().sum()"
   ]
  },
  {
   "cell_type": "markdown",
   "id": "08ec9ef4-4f08-4da5-9447-14a55f61ba18",
   "metadata": {},
   "source": [
    "### 1.8. existing_loan_cnt, existing_loan_amt"
   ]
  },
  {
   "cell_type": "code",
   "execution_count": 81,
   "id": "275b8fdf-922a-48e1-a539-b809244ab0bb",
   "metadata": {},
   "outputs": [],
   "source": [
    "loan_result.loc[loan_result['existing_loan_cnt'] != loan_result['existing_loan_cnt'], 'existing_loan_cnt'] = 0"
   ]
  },
  {
   "cell_type": "code",
   "execution_count": 82,
   "id": "835725cb-c821-4dcc-b010-2deac9cda1b9",
   "metadata": {},
   "outputs": [],
   "source": [
    "loan_result.loc[loan_result['existing_loan_amt'] != loan_result['existing_loan_amt'], 'existing_loan_amt'] = 0"
   ]
  },
  {
   "cell_type": "code",
   "execution_count": 83,
   "id": "28d283e2-4138-43f6-b164-eb2aa75d4c83",
   "metadata": {},
   "outputs": [
    {
     "data": {
      "text/plain": [
       "application_id                 0\n",
       "loanapply_insert_time          0\n",
       "bank_id                        0\n",
       "product_id                     0\n",
       "loan_limit                    26\n",
       "loan_rate                     26\n",
       "is_applied               3257239\n",
       "user_id                        0\n",
       "birth_year                128096\n",
       "gender                    128096\n",
       "insert_time                    0\n",
       "credit_score             1509276\n",
       "yearly_income                  6\n",
       "income_type                    0\n",
       "company_enter_month            0\n",
       "employment_type                0\n",
       "houseown_type                  0\n",
       "desired_amount                 0\n",
       "purpose                        0\n",
       "existing_loan_cnt              0\n",
       "existing_loan_amt              0\n",
       "dtype: int64"
      ]
     },
     "execution_count": 83,
     "metadata": {},
     "output_type": "execute_result"
    }
   ],
   "source": [
    "loan_result.isna().sum()"
   ]
  },
  {
   "cell_type": "markdown",
   "id": "593f1f48-7732-4aae-a3c1-7920bdd83b09",
   "metadata": {},
   "source": [
    "### 1.9 Credit Score 다시생각해보기 - 일단제거"
   ]
  },
  {
   "cell_type": "code",
   "execution_count": 84,
   "id": "41d20883-8749-406d-928a-d2a335101ef8",
   "metadata": {},
   "outputs": [],
   "source": [
    "loan_result.loc[loan_result['purpose'] == \"SWITCHLOAN\", 'purpose'] = \"대환대출\"\n",
    "loan_result.loc[loan_result['purpose'] == \"LIVING\", 'purpose'] = \"생활비\"\n",
    "loan_result.loc[loan_result['purpose'] == \"ETC\", 'purpose'] = \"기타\"\n",
    "loan_result.loc[loan_result['purpose'] == \"BUYCAR\", 'purpose'] = \"자동차구입\"\n",
    "loan_result.loc[loan_result['purpose'] == \"BUSINESS\", 'purpose'] = \"사업자금\"\n",
    "loan_result.loc[loan_result['purpose'] == \"HOUSEDEPOSIT\", 'purpose'] = \"전월세보증금\"\n",
    "loan_result.loc[loan_result['purpose'] == \"INVEST\", 'purpose'] = \"투자\"\n",
    "loan_result.loc[loan_result['purpose'] == \"BUYHOUSE\", 'purpose'] = \"주택구입\"\n"
   ]
  },
  {
   "cell_type": "code",
   "execution_count": 86,
   "id": "c8a37843-c040-4c80-80cb-cf4d6bd721e8",
   "metadata": {},
   "outputs": [
    {
     "data": {
      "text/plain": [
       "array(['EARNEDINCOME', 'FREELANCER', 'PRIVATEBUSINESS', 'OTHERINCOME',\n",
       "       'EARNEDINCOME2', 'PRACTITIONER'], dtype=object)"
      ]
     },
     "execution_count": 86,
     "metadata": {},
     "output_type": "execute_result"
    }
   ],
   "source": [
    "loan_result[\"income_type\"].unique()"
   ]
  },
  {
   "cell_type": "markdown",
   "id": "40ed34f0-9ba0-4ac6-b4eb-621c0e52c4b3",
   "metadata": {},
   "source": [
    "### Data Merge"
   ]
  },
  {
   "cell_type": "code",
   "execution_count": 89,
   "id": "2d88650a-0470-4d91-9a07-37a6a04992f4",
   "metadata": {},
   "outputs": [],
   "source": [
    "test = loan_result[loan_result[\"loanapply_insert_time\"] >= \"2022-06-01 00:00:00\"]\n",
    "loan_result = loan_result[loan_result[\"loanapply_insert_time\"] < \"2022-06-01 00:00:00\"]\n"
   ]
  },
  {
   "cell_type": "code",
   "execution_count": 91,
   "id": "85efeb5e-98da-4ef0-a536-dee23878b87b",
   "metadata": {},
   "outputs": [],
   "source": [
    "test.to_csv(\"./prepro_data/submit_test.csv\", index = False)"
   ]
  },
  {
   "cell_type": "code",
   "execution_count": 92,
   "id": "0263473d-41e5-4cd2-bcc1-7c0426d2b983",
   "metadata": {},
   "outputs": [],
   "source": [
    "loan_result.to_csv(\"./prepro_data/full_data.csv\", index = False)"
   ]
  },
  {
   "cell_type": "code",
   "execution_count": null,
   "id": "58ee01cd-af94-4d2f-a4d3-7e92df6974c7",
   "metadata": {},
   "outputs": [],
   "source": []
  },
  {
   "cell_type": "code",
   "execution_count": null,
   "id": "bea2f2a9-5992-42bf-870b-90d3b81ea246",
   "metadata": {},
   "outputs": [],
   "source": []
  }
 ],
 "metadata": {
  "kernelspec": {
   "display_name": "bigcon",
   "language": "python",
   "name": "bigcon"
  },
  "language_info": {
   "codemirror_mode": {
    "name": "ipython",
    "version": 3
   },
   "file_extension": ".py",
   "mimetype": "text/x-python",
   "name": "python",
   "nbconvert_exporter": "python",
   "pygments_lexer": "ipython3",
   "version": "3.8.13"
  }
 },
 "nbformat": 4,
 "nbformat_minor": 5
}
