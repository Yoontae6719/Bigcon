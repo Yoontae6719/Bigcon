{
 "cells": [
  {
   "cell_type": "code",
   "execution_count": 18,
   "id": "c93ccd58-cb0e-4e47-934f-8703a0810db4",
   "metadata": {},
   "outputs": [],
   "source": [
    "import pandas as pd\n",
    "import numpy as np\n",
    "\n",
    "from sklearn.preprocessing import LabelEncoder\n",
    "import glob\n"
   ]
  },
  {
   "cell_type": "code",
   "execution_count": 19,
   "id": "36ae4b01-76cc-4ffe-b8fc-52282642c14b",
   "metadata": {},
   "outputs": [],
   "source": [
    "full_data = pd.read_csv(\"./prepro_data/full_data.csv\")"
   ]
  },
  {
   "cell_type": "markdown",
   "id": "abc72e21-4fc5-46fe-a112-c7a9f1de9054",
   "metadata": {},
   "source": [
    "### Warm UP\n",
    "\n",
    "- Categorical 변수 만들기 \n",
    "- Categorical 변수 label encoding"
   ]
  },
  {
   "cell_type": "code",
   "execution_count": 20,
   "id": "24d871ef-e4d6-491a-ac84-a675ca899bc0",
   "metadata": {},
   "outputs": [],
   "source": [
    "# Categorical variables\n",
    "cat_already = [\"bank_id\", \"product_id\", \"gender\"]\n",
    "cat = [\"income_type\", \"employment_type\", \"houseown_type\", \"purpose\"]\n",
    " \n",
    "# Categorical로 만들어볼만한 변수\n",
    "cont = [\"loan_limit\", \"loan_rate\", \"birth_year\", \"credit_score\", \"yearly_income\", \"company_enter_month\", \"desired_amount\" ,\"existing_loan_cnt\",\"existing_loan_amt\"]\n",
    " \n",
    "# 쓸모없을것 같은 변수 User ID, application_id는 반드시 삭제\n",
    "del_var = [\"loanapply_insert_time\", \"application_id\", \"insert_time\", \"user_id\"]\n",
    " \n",
    "# 타겟 변수\n",
    "val_y = [\"is_applied\"]"
   ]
  },
  {
   "cell_type": "code",
   "execution_count": 21,
   "id": "06e37005-1ca3-4e89-808f-8bf430225d57",
   "metadata": {},
   "outputs": [
    {
     "name": "stdout",
     "output_type": "stream",
     "text": [
      "['EARNEDINCOME' 'EARNEDINCOME2' 'FREELANCER' 'OTHERINCOME' 'PRACTITIONER'\n",
      " 'PRIVATEBUSINESS']\n"
     ]
    }
   ],
   "source": [
    "# le_income_type\n",
    "\n",
    "le_income_type = LabelEncoder()\n",
    "\n",
    "le_income_fitted = le_income_type.fit_transform(full_data[\"income_type\"])\n",
    "income_inverted = le_income_type.inverse_transform(le_income_fitted)\n",
    "\n",
    "print(le_income_type.classes_)"
   ]
  },
  {
   "cell_type": "code",
   "execution_count": 22,
   "id": "a8e781ab-ea57-451b-af63-b3427f1b1851",
   "metadata": {},
   "outputs": [
    {
     "name": "stdout",
     "output_type": "stream",
     "text": [
      "['계약직' '기타' '일용직' '정규직']\n"
     ]
    }
   ],
   "source": [
    "# le_employment_type\n",
    "\n",
    "le_employment_type = LabelEncoder()\n",
    "\n",
    "le_employment_fitted = le_employment_type.fit_transform(full_data[\"employment_type\"])\n",
    "employment_inverted = le_employment_type.inverse_transform(le_employment_fitted)\n",
    "\n",
    "print(le_employment_type.classes_)"
   ]
  },
  {
   "cell_type": "code",
   "execution_count": 23,
   "id": "71b6df18-2dca-4c40-87fd-a5db2431c0f7",
   "metadata": {},
   "outputs": [
    {
     "name": "stdout",
     "output_type": "stream",
     "text": [
      "['기타가족소유' '배우자' '자가' '전월세']\n"
     ]
    }
   ],
   "source": [
    "# le_houseown_type\n",
    "\n",
    "le_houseown_type = LabelEncoder()\n",
    "\n",
    "le_houseown_fitted = le_houseown_type.fit_transform(full_data[\"houseown_type\"])\n",
    "houseown_inverted = le_houseown_type.inverse_transform(le_houseown_fitted)\n",
    "\n",
    "print(le_houseown_type.classes_)"
   ]
  },
  {
   "cell_type": "code",
   "execution_count": 24,
   "id": "8d4ba227-adbf-4fc5-b855-b5eac7c958df",
   "metadata": {},
   "outputs": [
    {
     "name": "stdout",
     "output_type": "stream",
     "text": [
      "['기타' '대환대출' '사업자금' '생활비' '자동차구입' '전월세보증금' '주택구입' '투자']\n"
     ]
    }
   ],
   "source": [
    "# le_purpose\n",
    "\n",
    "le_purpose_type = LabelEncoder()\n",
    "\n",
    "le_purpose_fitted = le_purpose_type.fit_transform(full_data[\"purpose\"])\n",
    "purpose_inverted = le_purpose_type.inverse_transform(le_purpose_fitted)\n",
    "\n",
    "print(le_purpose_type.classes_)"
   ]
  },
  {
   "cell_type": "code",
   "execution_count": 25,
   "id": "cf18c248-723f-4aac-8579-ba411bb90eb4",
   "metadata": {},
   "outputs": [],
   "source": [
    "#  여기에 추가 cont -> cat 추가"
   ]
  },
  {
   "cell_type": "code",
   "execution_count": null,
   "id": "7dd2ccbb-9d4f-4cb9-b988-e47d2560981b",
   "metadata": {},
   "outputs": [],
   "source": []
  },
  {
   "cell_type": "markdown",
   "id": "dc145da6-5e27-4af4-b603-39bdeba5d021",
   "metadata": {},
   "source": [
    "#### Categorical encoding 으로 컬럼 변환"
   ]
  },
  {
   "cell_type": "code",
   "execution_count": 26,
   "id": "78003274-c9f7-4ed2-a5b2-71a5d590a2b0",
   "metadata": {},
   "outputs": [],
   "source": [
    "full_data[\"income_type\"]     = le_income_fitted\n",
    "full_data[\"employment_type\"] = le_employment_fitted\n",
    "full_data[\"houseown_type\"]   = le_houseown_fitted\n",
    "full_data[\"purpose\"]         = le_purpose_fitted"
   ]
  },
  {
   "cell_type": "code",
   "execution_count": 27,
   "id": "3e5f9a78-e046-4d91-ab43-16803824aaaf",
   "metadata": {},
   "outputs": [
    {
     "name": "stdout",
     "output_type": "stream",
     "text": [
      "<class 'pandas.core.frame.DataFrame'>\n",
      "RangeIndex: 4217519 entries, 0 to 4217518\n",
      "Data columns (total 21 columns):\n",
      " #   Column                 Dtype  \n",
      "---  ------                 -----  \n",
      " 0   application_id         int64  \n",
      " 1   loanapply_insert_time  object \n",
      " 2   bank_id                int64  \n",
      " 3   product_id             int64  \n",
      " 4   loan_limit             float64\n",
      " 5   loan_rate              float64\n",
      " 6   is_applied             float64\n",
      " 7   user_id                int64  \n",
      " 8   birth_year             float64\n",
      " 9   gender                 float64\n",
      " 10  insert_time            object \n",
      " 11  credit_score           float64\n",
      " 12  yearly_income          float64\n",
      " 13  income_type            int64  \n",
      " 14  company_enter_month    int64  \n",
      " 15  employment_type        int64  \n",
      " 16  houseown_type          int64  \n",
      " 17  desired_amount         float64\n",
      " 18  purpose                int64  \n",
      " 19  existing_loan_cnt      float64\n",
      " 20  existing_loan_amt      float64\n",
      "dtypes: float64(10), int64(9), object(2)\n",
      "memory usage: 675.7+ MB\n"
     ]
    }
   ],
   "source": [
    "full_data.info()"
   ]
  },
  {
   "cell_type": "markdown",
   "id": "d37f3f81-e9fd-4f0c-b92e-60aa7ab4104a",
   "metadata": {},
   "source": [
    "### Split "
   ]
  },
  {
   "cell_type": "code",
   "execution_count": 28,
   "id": "b988bd50-9323-430f-8409-db80d90e884e",
   "metadata": {},
   "outputs": [],
   "source": [
    "from sklearn.model_selection import train_test_split"
   ]
  },
  {
   "cell_type": "code",
   "execution_count": 29,
   "id": "5d1b7359-9f41-4c47-9e19-4592785c6f66",
   "metadata": {},
   "outputs": [],
   "source": [
    "train, val = train_test_split(full_data, test_size=0.20,   random_state=20205289,  stratify=full_data['is_applied'])\n",
    "train, test = train_test_split(train, test_size=0.125,   random_state=20205289,  stratify=train['is_applied'])"
   ]
  },
  {
   "cell_type": "code",
   "execution_count": 30,
   "id": "a9eeb044-5b3f-49f2-a6e9-33f249257d60",
   "metadata": {},
   "outputs": [],
   "source": [
    "train.to_csv(\"./prepro_data/train.csv\", index = False)\n",
    "val.to_csv(\"./prepro_data/val.csv\", index = False)\n",
    "test.to_csv(\"./prepro_data/test.csv\", index = False)\n"
   ]
  },
  {
   "cell_type": "markdown",
   "id": "3f9683b8-173a-4a86-9aef-619edf45d55f",
   "metadata": {},
   "source": [
    "### Step 1. Feature eng\n",
    "\n",
    "1. 새롭게 만든 파생변수가 논리적이어야 한다.\n",
    "    - 1.1. Data driven\n",
    "        - 만든 파생변수가 대출 승인 받았을때와 받지 않았을때의 distribution 차이. plot, SKlearn \n",
    "        - EDA 과정 다음 Link 확인 : https://dacon.io/competitions/official/235927/codeshare/6052?page=1&dtype=recent\n",
    "        - EDA 과정(파생변수 만들기) : https://dacon.io/competitions/official/235930/codeshare/6002?page=1&dtype=recent \n",
    "        \n",
    "    - 1.2. Stat driven\n",
    "        - 만든 파생변수가 통계적으로 is_applied(Y/N)에서 차이가 있는지 검정.\n",
    "        - Numeric 한 변수면 -> 만든 파생변수가 정규분포를 따르는지 확인 샤피로 웰콘슨 테스트(정규분포 테스트) -> t-test\n",
    "        - Numeric 하지 않으면 -> 비모수검정, 맨 흴트이 윌콕슨 테스트 등\n",
    "        \n",
    "2. 만든 파생변수 N개를 가지고 간단한 베이스라인 ML 모델로 확인 : https://dacon.io/competitions/official/235930/codeshare/6002?page=1&dtype=recent\n",
    "    - Step 1. 기본 변수로만 사용해서 성능확인 // 파생변수 N개만 사용해서 성능확인 -> 각각 2개확인\n",
    "    - Step 2. 기본 변수로만 사용해서 성능확인 + 파생변수 1개씩 성능확인 (총 nCk 조합)\n",
    "    \n",
    "    \n",
    "### Q1. Loan_limit, loan_rate가 중요한가?\n",
    "\n",
    "- 대출이 승인되었는지 안되었는지를 예측하기 위해서 loan_limit & roan_rate가 중요한지 고민해보기\n",
    "- \"우선은 중요하지 않다\" 라고 가정하고 결측치는 제거\n",
    "- 대체적으로 is_applied가 1로 나타나는데 이는 label noise인가? 만약 label noise라면 확인할방법은?"
   ]
  },
  {
   "cell_type": "code",
   "execution_count": null,
   "id": "e1376e96-6066-4315-9804-683b1d467d02",
   "metadata": {},
   "outputs": [],
   "source": []
  },
  {
   "cell_type": "code",
   "execution_count": null,
   "id": "51538b34-ac22-4ffe-809f-e712636dcdd4",
   "metadata": {},
   "outputs": [],
   "source": [
    "Randomforest\n",
    "SVM"
   ]
  },
  {
   "cell_type": "code",
   "execution_count": null,
   "id": "7dd6a12a-732a-4b15-800a-681e5e6ce494",
   "metadata": {},
   "outputs": [],
   "source": []
  }
 ],
 "metadata": {
  "kernelspec": {
   "display_name": "bigcon",
   "language": "python",
   "name": "bigcon"
  },
  "language_info": {
   "codemirror_mode": {
    "name": "ipython",
    "version": 3
   },
   "file_extension": ".py",
   "mimetype": "text/x-python",
   "name": "python",
   "nbconvert_exporter": "python",
   "pygments_lexer": "ipython3",
   "version": "3.8.13"
  }
 },
 "nbformat": 4,
 "nbformat_minor": 5
}
