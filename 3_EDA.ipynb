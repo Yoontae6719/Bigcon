{
 "cells": [
  {
   "cell_type": "code",
   "execution_count": 1,
   "id": "16ffd131-4e1e-47ad-8305-cc9a772a1396",
   "metadata": {},
   "outputs": [],
   "source": [
    "import pandas as pd\n",
    "import numpy as np\n",
    "\n",
    "from sklearn.preprocessing import LabelEncoder\n",
    "import glob\n"
   ]
  },
  {
   "cell_type": "markdown",
   "id": "e240b315-b335-479d-a523-fc71d1e3c2da",
   "metadata": {},
   "source": [
    "### Step 1. Feature eng\n",
    "\n",
    "1. 새롭게 만든 파생변수가 논리적이어야 한다.\n",
    "    - 1.1. Data driven\n",
    "        - 만든 파생변수가 대출 승인 받았을때와 받지 않았을때의 distribution 차이. plot, SKlearn \n",
    "        - EDA 과정 다음 Link 확인 : https://dacon.io/competitions/official/235927/codeshare/6052?page=1&dtype=recent\n",
    "        - EDA 과정(파생변수 만들기) : https://dacon.io/competitions/official/235930/codeshare/6002?page=1&dtype=recent \n",
    "        \n",
    "    - 1.2. Stat driven\n",
    "        - 만든 파생변수가 통계적으로 is_applied(Y/N)에서 차이가 있는지 검정.\n",
    "        - Numeric 한 변수면 -> 만든 파생변수가 정규분포를 따르는지 확인 샤피로 웰콘슨 테스트(정규분포 테스트) -> t-test\n",
    "        - Numeric 하지 않으면 -> 비모수검정, 맨 흴트이 윌콕슨 테스트 등\n",
    "        \n",
    "2. 만든 파생변수 N개를 가지고 간단한 베이스라인 ML 모델로 확인 : https://dacon.io/competitions/official/235930/codeshare/6002?page=1&dtype=recent\n",
    "    - Step 1. 기본 변수로만 사용해서 성능확인 // 파생변수 N개만 사용해서 성능확인 -> 각각 2개확인\n",
    "    - Step 2. 기본 변수로만 사용해서 성능확인 + 파생변수 1개씩 성능확인 (총 nCk 조합)\n",
    "    \n",
    "    \n",
    "### Q1. Loan_limit, loan_rate가 중요한가?\n",
    "\n",
    "- 대출이 승인되었는지 안되었는지를 예측하기 위해서 loan_limit & roan_rate가 중요한지 고민해보기\n",
    "- \"우선은 중요하지 않다\" 라고 가정하고 결측치는 제거\n",
    "- 대체적으로 is_applied가 1로 나타나는데 이는 label noise인가? 만약 label noise라면 확인할방법은?\n",
    "\n",
    "\n",
    "## Label encoding \n",
    "\n",
    "1. income_type : `['EARNEDINCOME' 'EARNEDINCOME2' 'FREELANCER' 'OTHERINCOME' 'PRACTITIONER' 'PRIVATEBUSINESS']`\n",
    "\n",
    "2. employment_type : `['계약직' '기타' '일용직' '정규직']`\n",
    "\n",
    "3. houseown_type : `['기타가족소유' '배우자' '자가' '전월세']`\n",
    "\n",
    "4. purpose : `['기타' '대환대출' '사업자금' '생활비' '자동차구입' '전월세보증금' '주택구입' '투자']`\n",
    "\n"
   ]
  },
  {
   "cell_type": "code",
   "execution_count": null,
   "id": "fc07ad9a-44bd-4bcc-b991-49fba21d2c6b",
   "metadata": {},
   "outputs": [],
   "source": [
    "train = pd.read_csv(\"./prepro_data/train.csv\")\n",
    "val = pd.read_csv(\"./prepro_data/val.csv\")\n",
    "test = pd.read_csv(\"./prepro_data/test.csv\")"
   ]
  },
  {
   "cell_type": "code",
   "execution_count": null,
   "id": "550967a7-1375-4808-98b3-cb4c87d5e486",
   "metadata": {},
   "outputs": [],
   "source": []
  },
  {
   "cell_type": "code",
   "execution_count": null,
   "id": "71dbd9e4-249e-4686-aea5-8ad77b976468",
   "metadata": {},
   "outputs": [],
   "source": [
    "\n"
   ]
  }
 ],
 "metadata": {
  "kernelspec": {
   "display_name": "bigcon",
   "language": "python",
   "name": "bigcon"
  },
  "language_info": {
   "codemirror_mode": {
    "name": "ipython",
    "version": 3
   },
   "file_extension": ".py",
   "mimetype": "text/x-python",
   "name": "python",
   "nbconvert_exporter": "python",
   "pygments_lexer": "ipython3",
   "version": "3.8.13"
  }
 },
 "nbformat": 4,
 "nbformat_minor": 5
}
