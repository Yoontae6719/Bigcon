{
 "cells": [
  {
   "cell_type": "code",
   "execution_count": 1,
   "id": "16ffd131-4e1e-47ad-8305-cc9a772a1396",
   "metadata": {},
   "outputs": [],
   "source": [
    "import pandas as pd\n",
    "import numpy as np\n",
    "\n",
    "from sklearn.preprocessing import LabelEncoder\n",
    "import glob\n",
    "\n",
    "from tqdm import tqdm\n",
    "import ray"
   ]
  },
  {
   "cell_type": "code",
   "execution_count": 2,
   "id": "45f42bd8-1a49-4f92-8715-ed4852bf5583",
   "metadata": {},
   "outputs": [],
   "source": [
    "full_data = pd.read_csv(\"./prepro_data/full_data.csv\")\n",
    "full_data = full_data.drop(full_data[full_data[\"loan_limit\"].isnull()].index).reset_index().iloc[:, 1:] # FAQ 7번"
   ]
  },
  {
   "cell_type": "code",
   "execution_count": null,
   "id": "882dd17b-8a2d-445b-bfc2-099eaaed5d43",
   "metadata": {},
   "outputs": [],
   "source": []
  },
  {
   "cell_type": "code",
   "execution_count": null,
   "id": "fd48c194-793d-468d-961e-c0db4512cadb",
   "metadata": {},
   "outputs": [],
   "source": []
  },
  {
   "cell_type": "code",
   "execution_count": 3,
   "id": "5f071830-460a-4578-8be4-3ac63e08476a",
   "metadata": {},
   "outputs": [],
   "source": [
    "submit_test = pd.read_csv(\"./prepro_data/submit_test.csv\")\n",
    "dataset = pd.concat([full_data, submit_test]).reset_index().iloc[:, 1:]"
   ]
  },
  {
   "cell_type": "markdown",
   "id": "6f751a49-1931-4ab1-b29f-125fd761968f",
   "metadata": {},
   "source": [
    "### 가성비변수"
   ]
  },
  {
   "cell_type": "code",
   "execution_count": 4,
   "id": "c5a7c1d5-1f03-4c95-b6fd-3fad0c364b15",
   "metadata": {},
   "outputs": [
    {
     "data": {
      "text/html": [
       "<div>\n",
       "<style scoped>\n",
       "    .dataframe tbody tr th:only-of-type {\n",
       "        vertical-align: middle;\n",
       "    }\n",
       "\n",
       "    .dataframe tbody tr th {\n",
       "        vertical-align: top;\n",
       "    }\n",
       "\n",
       "    .dataframe thead th {\n",
       "        text-align: right;\n",
       "    }\n",
       "</style>\n",
       "<table border=\"1\" class=\"dataframe\">\n",
       "  <thead>\n",
       "    <tr style=\"text-align: right;\">\n",
       "      <th></th>\n",
       "      <th>application_id</th>\n",
       "      <th>loanapply_insert_time</th>\n",
       "      <th>bank_id</th>\n",
       "      <th>product_id</th>\n",
       "      <th>loan_limit</th>\n",
       "      <th>loan_rate</th>\n",
       "      <th>is_applied</th>\n",
       "      <th>user_id</th>\n",
       "      <th>birth_year</th>\n",
       "      <th>gender</th>\n",
       "      <th>...</th>\n",
       "      <th>desired_amount</th>\n",
       "      <th>purpose</th>\n",
       "      <th>existing_loan_cnt</th>\n",
       "      <th>existing_loan_amt</th>\n",
       "      <th>num_not_approve</th>\n",
       "      <th>num_total_approve</th>\n",
       "      <th>num_approve</th>\n",
       "      <th>num_total_login</th>\n",
       "      <th>loan_limit/max_loan_limit</th>\n",
       "      <th>loan_rate/min_loan_rate</th>\n",
       "    </tr>\n",
       "  </thead>\n",
       "  <tbody>\n",
       "    <tr>\n",
       "      <th>0</th>\n",
       "      <td>2157865</td>\n",
       "      <td>2022-05-09 08:44:59</td>\n",
       "      <td>54</td>\n",
       "      <td>235</td>\n",
       "      <td>20000000.0</td>\n",
       "      <td>16.5</td>\n",
       "      <td>1.0</td>\n",
       "      <td>346970</td>\n",
       "      <td>1970.0</td>\n",
       "      <td>1.0</td>\n",
       "      <td>...</td>\n",
       "      <td>10000000.0</td>\n",
       "      <td>생활비</td>\n",
       "      <td>12.0</td>\n",
       "      <td>162000000.0</td>\n",
       "      <td>5</td>\n",
       "      <td>7</td>\n",
       "      <td>2</td>\n",
       "      <td>13</td>\n",
       "      <td>1.000000</td>\n",
       "      <td>1.000000</td>\n",
       "    </tr>\n",
       "    <tr>\n",
       "      <th>1</th>\n",
       "      <td>576643</td>\n",
       "      <td>2022-05-09 10:54:53</td>\n",
       "      <td>54</td>\n",
       "      <td>235</td>\n",
       "      <td>11000000.0</td>\n",
       "      <td>16.5</td>\n",
       "      <td>0.0</td>\n",
       "      <td>545882</td>\n",
       "      <td>1977.0</td>\n",
       "      <td>1.0</td>\n",
       "      <td>...</td>\n",
       "      <td>20000000.0</td>\n",
       "      <td>생활비</td>\n",
       "      <td>7.0</td>\n",
       "      <td>106000000.0</td>\n",
       "      <td>5</td>\n",
       "      <td>7</td>\n",
       "      <td>2</td>\n",
       "      <td>13</td>\n",
       "      <td>1.000000</td>\n",
       "      <td>1.000000</td>\n",
       "    </tr>\n",
       "    <tr>\n",
       "      <th>2</th>\n",
       "      <td>576643</td>\n",
       "      <td>2022-05-09 10:54:53</td>\n",
       "      <td>11</td>\n",
       "      <td>118</td>\n",
       "      <td>3000000.0</td>\n",
       "      <td>20.0</td>\n",
       "      <td>0.0</td>\n",
       "      <td>545882</td>\n",
       "      <td>1977.0</td>\n",
       "      <td>1.0</td>\n",
       "      <td>...</td>\n",
       "      <td>20000000.0</td>\n",
       "      <td>생활비</td>\n",
       "      <td>7.0</td>\n",
       "      <td>106000000.0</td>\n",
       "      <td>5</td>\n",
       "      <td>7</td>\n",
       "      <td>2</td>\n",
       "      <td>13</td>\n",
       "      <td>0.272727</td>\n",
       "      <td>1.212121</td>\n",
       "    </tr>\n",
       "    <tr>\n",
       "      <th>3</th>\n",
       "      <td>2136706</td>\n",
       "      <td>2022-05-09 10:41:06</td>\n",
       "      <td>42</td>\n",
       "      <td>216</td>\n",
       "      <td>10000000.0</td>\n",
       "      <td>13.5</td>\n",
       "      <td>0.0</td>\n",
       "      <td>558819</td>\n",
       "      <td>1983.0</td>\n",
       "      <td>1.0</td>\n",
       "      <td>...</td>\n",
       "      <td>80000000.0</td>\n",
       "      <td>대환대출</td>\n",
       "      <td>2.0</td>\n",
       "      <td>58000000.0</td>\n",
       "      <td>5</td>\n",
       "      <td>7</td>\n",
       "      <td>2</td>\n",
       "      <td>13</td>\n",
       "      <td>0.208333</td>\n",
       "      <td>2.177419</td>\n",
       "    </tr>\n",
       "    <tr>\n",
       "      <th>4</th>\n",
       "      <td>2136706</td>\n",
       "      <td>2022-05-09 10:41:07</td>\n",
       "      <td>25</td>\n",
       "      <td>169</td>\n",
       "      <td>22000000.0</td>\n",
       "      <td>15.9</td>\n",
       "      <td>0.0</td>\n",
       "      <td>558819</td>\n",
       "      <td>1983.0</td>\n",
       "      <td>1.0</td>\n",
       "      <td>...</td>\n",
       "      <td>80000000.0</td>\n",
       "      <td>대환대출</td>\n",
       "      <td>2.0</td>\n",
       "      <td>58000000.0</td>\n",
       "      <td>0</td>\n",
       "      <td>2</td>\n",
       "      <td>2</td>\n",
       "      <td>8</td>\n",
       "      <td>0.458333</td>\n",
       "      <td>2.564516</td>\n",
       "    </tr>\n",
       "    <tr>\n",
       "      <th>...</th>\n",
       "      <td>...</td>\n",
       "      <td>...</td>\n",
       "      <td>...</td>\n",
       "      <td>...</td>\n",
       "      <td>...</td>\n",
       "      <td>...</td>\n",
       "      <td>...</td>\n",
       "      <td>...</td>\n",
       "      <td>...</td>\n",
       "      <td>...</td>\n",
       "      <td>...</td>\n",
       "      <td>...</td>\n",
       "      <td>...</td>\n",
       "      <td>...</td>\n",
       "      <td>...</td>\n",
       "      <td>...</td>\n",
       "      <td>...</td>\n",
       "      <td>...</td>\n",
       "      <td>...</td>\n",
       "      <td>...</td>\n",
       "      <td>...</td>\n",
       "    </tr>\n",
       "    <tr>\n",
       "      <th>13527223</th>\n",
       "      <td>1428218</td>\n",
       "      <td>2022-06-03 12:01:58</td>\n",
       "      <td>62</td>\n",
       "      <td>200</td>\n",
       "      <td>3000000.0</td>\n",
       "      <td>14.8</td>\n",
       "      <td>NaN</td>\n",
       "      <td>478802</td>\n",
       "      <td>1965.0</td>\n",
       "      <td>1.0</td>\n",
       "      <td>...</td>\n",
       "      <td>50000000.0</td>\n",
       "      <td>대환대출</td>\n",
       "      <td>2.0</td>\n",
       "      <td>56000000.0</td>\n",
       "      <td>0</td>\n",
       "      <td>1</td>\n",
       "      <td>1</td>\n",
       "      <td>0</td>\n",
       "      <td>0.066667</td>\n",
       "      <td>2.242424</td>\n",
       "    </tr>\n",
       "    <tr>\n",
       "      <th>13527224</th>\n",
       "      <td>1428218</td>\n",
       "      <td>2022-06-03 12:01:49</td>\n",
       "      <td>2</td>\n",
       "      <td>7</td>\n",
       "      <td>40000000.0</td>\n",
       "      <td>11.8</td>\n",
       "      <td>NaN</td>\n",
       "      <td>478802</td>\n",
       "      <td>1965.0</td>\n",
       "      <td>1.0</td>\n",
       "      <td>...</td>\n",
       "      <td>50000000.0</td>\n",
       "      <td>대환대출</td>\n",
       "      <td>2.0</td>\n",
       "      <td>56000000.0</td>\n",
       "      <td>0</td>\n",
       "      <td>1</td>\n",
       "      <td>1</td>\n",
       "      <td>0</td>\n",
       "      <td>0.888889</td>\n",
       "      <td>1.787879</td>\n",
       "    </tr>\n",
       "    <tr>\n",
       "      <th>13527225</th>\n",
       "      <td>1428218</td>\n",
       "      <td>2022-06-03 12:01:48</td>\n",
       "      <td>32</td>\n",
       "      <td>257</td>\n",
       "      <td>15000000.0</td>\n",
       "      <td>7.2</td>\n",
       "      <td>NaN</td>\n",
       "      <td>478802</td>\n",
       "      <td>1965.0</td>\n",
       "      <td>1.0</td>\n",
       "      <td>...</td>\n",
       "      <td>50000000.0</td>\n",
       "      <td>대환대출</td>\n",
       "      <td>2.0</td>\n",
       "      <td>56000000.0</td>\n",
       "      <td>0</td>\n",
       "      <td>1</td>\n",
       "      <td>1</td>\n",
       "      <td>0</td>\n",
       "      <td>0.333333</td>\n",
       "      <td>1.090909</td>\n",
       "    </tr>\n",
       "    <tr>\n",
       "      <th>13527226</th>\n",
       "      <td>1428218</td>\n",
       "      <td>2022-06-03 12:01:48</td>\n",
       "      <td>33</td>\n",
       "      <td>110</td>\n",
       "      <td>44000000.0</td>\n",
       "      <td>13.5</td>\n",
       "      <td>NaN</td>\n",
       "      <td>478802</td>\n",
       "      <td>1965.0</td>\n",
       "      <td>1.0</td>\n",
       "      <td>...</td>\n",
       "      <td>50000000.0</td>\n",
       "      <td>대환대출</td>\n",
       "      <td>2.0</td>\n",
       "      <td>56000000.0</td>\n",
       "      <td>0</td>\n",
       "      <td>1</td>\n",
       "      <td>1</td>\n",
       "      <td>0</td>\n",
       "      <td>0.977778</td>\n",
       "      <td>2.045455</td>\n",
       "    </tr>\n",
       "    <tr>\n",
       "      <th>13527227</th>\n",
       "      <td>1428218</td>\n",
       "      <td>2022-06-03 12:01:48</td>\n",
       "      <td>5</td>\n",
       "      <td>194</td>\n",
       "      <td>44000000.0</td>\n",
       "      <td>9.7</td>\n",
       "      <td>NaN</td>\n",
       "      <td>478802</td>\n",
       "      <td>1965.0</td>\n",
       "      <td>1.0</td>\n",
       "      <td>...</td>\n",
       "      <td>50000000.0</td>\n",
       "      <td>대환대출</td>\n",
       "      <td>2.0</td>\n",
       "      <td>56000000.0</td>\n",
       "      <td>0</td>\n",
       "      <td>1</td>\n",
       "      <td>1</td>\n",
       "      <td>0</td>\n",
       "      <td>0.977778</td>\n",
       "      <td>1.469697</td>\n",
       "    </tr>\n",
       "  </tbody>\n",
       "</table>\n",
       "<p>13527228 rows × 27 columns</p>\n",
       "</div>"
      ],
      "text/plain": [
       "          application_id loanapply_insert_time  bank_id  product_id  \\\n",
       "0                2157865   2022-05-09 08:44:59       54         235   \n",
       "1                 576643   2022-05-09 10:54:53       54         235   \n",
       "2                 576643   2022-05-09 10:54:53       11         118   \n",
       "3                2136706   2022-05-09 10:41:06       42         216   \n",
       "4                2136706   2022-05-09 10:41:07       25         169   \n",
       "...                  ...                   ...      ...         ...   \n",
       "13527223         1428218   2022-06-03 12:01:58       62         200   \n",
       "13527224         1428218   2022-06-03 12:01:49        2           7   \n",
       "13527225         1428218   2022-06-03 12:01:48       32         257   \n",
       "13527226         1428218   2022-06-03 12:01:48       33         110   \n",
       "13527227         1428218   2022-06-03 12:01:48        5         194   \n",
       "\n",
       "          loan_limit  loan_rate  is_applied  user_id  birth_year  gender  ...  \\\n",
       "0         20000000.0       16.5         1.0   346970      1970.0     1.0  ...   \n",
       "1         11000000.0       16.5         0.0   545882      1977.0     1.0  ...   \n",
       "2          3000000.0       20.0         0.0   545882      1977.0     1.0  ...   \n",
       "3         10000000.0       13.5         0.0   558819      1983.0     1.0  ...   \n",
       "4         22000000.0       15.9         0.0   558819      1983.0     1.0  ...   \n",
       "...              ...        ...         ...      ...         ...     ...  ...   \n",
       "13527223   3000000.0       14.8         NaN   478802      1965.0     1.0  ...   \n",
       "13527224  40000000.0       11.8         NaN   478802      1965.0     1.0  ...   \n",
       "13527225  15000000.0        7.2         NaN   478802      1965.0     1.0  ...   \n",
       "13527226  44000000.0       13.5         NaN   478802      1965.0     1.0  ...   \n",
       "13527227  44000000.0        9.7         NaN   478802      1965.0     1.0  ...   \n",
       "\n",
       "         desired_amount  purpose  existing_loan_cnt existing_loan_amt  \\\n",
       "0            10000000.0      생활비               12.0       162000000.0   \n",
       "1            20000000.0      생활비                7.0       106000000.0   \n",
       "2            20000000.0      생활비                7.0       106000000.0   \n",
       "3            80000000.0     대환대출                2.0        58000000.0   \n",
       "4            80000000.0     대환대출                2.0        58000000.0   \n",
       "...                 ...      ...                ...               ...   \n",
       "13527223     50000000.0     대환대출                2.0        56000000.0   \n",
       "13527224     50000000.0     대환대출                2.0        56000000.0   \n",
       "13527225     50000000.0     대환대출                2.0        56000000.0   \n",
       "13527226     50000000.0     대환대출                2.0        56000000.0   \n",
       "13527227     50000000.0     대환대출                2.0        56000000.0   \n",
       "\n",
       "          num_not_approve num_total_approve num_approve  num_total_login  \\\n",
       "0                       5                 7           2               13   \n",
       "1                       5                 7           2               13   \n",
       "2                       5                 7           2               13   \n",
       "3                       5                 7           2               13   \n",
       "4                       0                 2           2                8   \n",
       "...                   ...               ...         ...              ...   \n",
       "13527223                0                 1           1                0   \n",
       "13527224                0                 1           1                0   \n",
       "13527225                0                 1           1                0   \n",
       "13527226                0                 1           1                0   \n",
       "13527227                0                 1           1                0   \n",
       "\n",
       "         loan_limit/max_loan_limit  loan_rate/min_loan_rate  \n",
       "0                         1.000000                 1.000000  \n",
       "1                         1.000000                 1.000000  \n",
       "2                         0.272727                 1.212121  \n",
       "3                         0.208333                 2.177419  \n",
       "4                         0.458333                 2.564516  \n",
       "...                            ...                      ...  \n",
       "13527223                  0.066667                 2.242424  \n",
       "13527224                  0.888889                 1.787879  \n",
       "13527225                  0.333333                 1.090909  \n",
       "13527226                  0.977778                 2.045455  \n",
       "13527227                  0.977778                 1.469697  \n",
       "\n",
       "[13527228 rows x 27 columns]"
      ]
     },
     "execution_count": 4,
     "metadata": {},
     "output_type": "execute_result"
    }
   ],
   "source": [
    "# loan_limit, loan_rate 비교우위 (같은 application 내 다른 상품들보다 비교적 조건이 좋으면 신청 가능성 높지 않을까 ?)\n",
    "\n",
    "# get the max value of loan_limit and min value of loan_rate\n",
    "max_loan_limit = dataset.groupby(\"application_id\")[\"loan_limit\"].max() + 1\n",
    "min_loan_rate = dataset.groupby(\"application_id\")[\"loan_rate\"].min()\n",
    "\n",
    "# divide loan_limit and loan_rate by the max value of loan_limit and loan_rate by looking at a lookup table of max_loan_limit and min_loan_rate\n",
    "dataset[\"loan_limit/max_loan_limit\"] = dataset[\"loan_limit\"] / dataset[\"application_id\"].map(max_loan_limit)\n",
    "dataset[\"loan_rate/min_loan_rate\"] = dataset[\"loan_rate\"] / dataset[\"application_id\"].map(min_loan_rate)\n",
    "\n",
    "# drop the grouped columns\n",
    "dataset"
   ]
  },
  {
   "cell_type": "code",
   "execution_count": 5,
   "id": "f6f01201-ee47-45d9-9563-f2d4e56cc2ab",
   "metadata": {},
   "outputs": [],
   "source": [
    "existing_loan_amt = dataset.groupby(\"application_id\")[\"existing_loan_amt\"].max() + 1"
   ]
  },
  {
   "cell_type": "code",
   "execution_count": null,
   "id": "65868f0e-5bae-4daa-981b-9eb0f6a1f5f3",
   "metadata": {},
   "outputs": [],
   "source": []
  },
  {
   "cell_type": "code",
   "execution_count": 6,
   "id": "16bae252-96a4-4f71-8402-8b63a07342e4",
   "metadata": {},
   "outputs": [],
   "source": [
    "dataset[\"desired_amount/existing_loan_amt\"] = (dataset[\"desired_amount\"]+1) / dataset[\"application_id\"].map(existing_loan_amt)"
   ]
  },
  {
   "cell_type": "code",
   "execution_count": 7,
   "id": "a0fcd754-132e-4085-ba98-2ff79de19aba",
   "metadata": {},
   "outputs": [],
   "source": [
    "dataset.loc[dataset[dataset[\"desired_amount/existing_loan_amt\"].isnull()].index, \"desired_amount/existing_loan_amt\"] = 0.0"
   ]
  },
  {
   "cell_type": "code",
   "execution_count": 8,
   "id": "f2b1bfa3-1eba-42f2-82db-54b3d9bf7757",
   "metadata": {},
   "outputs": [
    {
     "data": {
      "text/plain": [
       "count    1.352723e+07\n",
       "mean     1.908549e+07\n",
       "std      1.393543e+08\n",
       "min      9.380863e-10\n",
       "25%      3.024194e-01\n",
       "50%      9.444444e-01\n",
       "75%      1.000000e+07\n",
       "max      1.000000e+10\n",
       "Name: desired_amount/existing_loan_amt, dtype: float64"
      ]
     },
     "execution_count": 8,
     "metadata": {},
     "output_type": "execute_result"
    }
   ],
   "source": [
    "dataset[\"desired_amount/existing_loan_amt\"].describe()"
   ]
  },
  {
   "cell_type": "markdown",
   "id": "fa7ddd16-3c14-4755-ab5f-10e6055bdca5",
   "metadata": {},
   "source": [
    "## 추가 파생변수 (credit_score)"
   ]
  },
  {
   "cell_type": "code",
   "execution_count": 9,
   "id": "60d96995-b7ec-4771-af8c-ba32f293670d",
   "metadata": {},
   "outputs": [],
   "source": [
    "dataset = dataset.reset_index().iloc[:, 1:]"
   ]
  },
  {
   "cell_type": "code",
   "execution_count": 10,
   "id": "c13e4a7c-845f-4db2-8899-e4f0b5c5001b",
   "metadata": {},
   "outputs": [],
   "source": [
    "dataset[\"credit_score_nan\"] = 0\n",
    "dataset.loc[dataset[dataset[\"credit_score\"].isnull()].index, \"credit_score_nan\"] = 1"
   ]
  },
  {
   "cell_type": "markdown",
   "id": "d07804c8-bcda-43d9-9d6a-e9a216f566fc",
   "metadata": {},
   "source": [
    "### Credit score Encoding"
   ]
  },
  {
   "cell_type": "code",
   "execution_count": 11,
   "id": "d92add46-8e16-4401-b7de-2a8fedbeb994",
   "metadata": {},
   "outputs": [
    {
     "data": {
      "text/plain": [
       "0.0    8518776\n",
       "1.0     507402\n",
       "Name: is_applied, dtype: int64"
      ]
     },
     "execution_count": 11,
     "metadata": {},
     "output_type": "execute_result"
    }
   ],
   "source": [
    "dataset[dataset[\"credit_score_nan\"] == 0][\"is_applied\"].value_counts() # 6 %"
   ]
  },
  {
   "cell_type": "code",
   "execution_count": 12,
   "id": "cfbbe4a4-0101-4ff3-b4ec-3410fc028520",
   "metadata": {},
   "outputs": [
    {
     "data": {
      "text/plain": [
       "0.0    1190899\n",
       "1.0      52912\n",
       "Name: is_applied, dtype: int64"
      ]
     },
     "execution_count": 12,
     "metadata": {},
     "output_type": "execute_result"
    }
   ],
   "source": [
    "dataset[dataset[\"credit_score_nan\"] == 1][\"is_applied\"].value_counts() # 4.4 %"
   ]
  },
  {
   "cell_type": "code",
   "execution_count": 13,
   "id": "c10f8162-cf5b-4683-84b3-0545f43b7d99",
   "metadata": {},
   "outputs": [],
   "source": [
    "def credit_enc(x):\n",
    "    if x <= 60: return 0\n",
    "    elif x < 100: return 1\n",
    "    elif x < 140: return 2\n",
    "    elif x < 180: return 3\n",
    "    elif x < 220: return 4\n",
    "    elif x < 260: return 5\n",
    "    elif x < 300: return 6\n",
    "    elif x < 340: return 7\n",
    "    elif x < 380: return 8\n",
    "    elif x < 420: return 9\n",
    "    elif x < 460: return 10\n",
    "    elif x < 500: return 11\n",
    "    elif x < 540: return 12\n",
    "    elif x < 580: return 13\n",
    "    elif x < 620: return 14\n",
    "    elif x < 660: return 15\n",
    "    elif x < 700: return 16\n",
    "    elif x < 740: return 17\n",
    "    elif x < 780: return 18\n",
    "    elif x < 820: return 19\n",
    "    elif x < 860: return 20\n",
    "    elif x < 900: return 21\n",
    "    elif x < 940: return 22\n",
    "    elif x < 980: return 23\n",
    "    elif x <= 1000: return 24\n",
    "    else: return 99\n"
   ]
  },
  {
   "cell_type": "code",
   "execution_count": 14,
   "id": "1f6c612d-ab78-4b46-bd51-e745ffd4d3e7",
   "metadata": {},
   "outputs": [
    {
     "data": {
      "text/plain": [
       "15    1515197\n",
       "99    1509275\n",
       "16    1482432\n",
       "17    1319093\n",
       "14    1114688\n",
       "18    1082827\n",
       "19     918617\n",
       "23     915195\n",
       "22     899755\n",
       "21     834972\n",
       "20     823618\n",
       "13     483228\n",
       "24     459551\n",
       "12     127631\n",
       "11      32647\n",
       "10       3329\n",
       "2        2046\n",
       "9        1041\n",
       "5         704\n",
       "4         506\n",
       "3         306\n",
       "8         284\n",
       "7         188\n",
       "6          90\n",
       "0           8\n",
       "Name: credit_score, dtype: int64"
      ]
     },
     "execution_count": 14,
     "metadata": {},
     "output_type": "execute_result"
    }
   ],
   "source": [
    "dataset[\"credit_score\"].map(credit_enc).value_counts()"
   ]
  },
  {
   "cell_type": "code",
   "execution_count": 15,
   "id": "c6de765e-e6fc-4bf1-b501-12da91a72de1",
   "metadata": {},
   "outputs": [],
   "source": [
    "dataset[\"credit_score\"] = dataset[\"credit_score\"].map(credit_enc)"
   ]
  },
  {
   "cell_type": "markdown",
   "id": "9d0b5586-d452-4083-b4c6-5b2f7d8f5dd0",
   "metadata": {},
   "source": [
    "### Gender, Birth_year"
   ]
  },
  {
   "cell_type": "code",
   "execution_count": 16,
   "id": "727314d7-ae23-437f-9104-192b4a2a0882",
   "metadata": {},
   "outputs": [
    {
     "data": {
      "text/plain": [
       "application_id                            0\n",
       "loanapply_insert_time                     0\n",
       "bank_id                                   0\n",
       "product_id                                0\n",
       "loan_limit                                4\n",
       "loan_rate                                 4\n",
       "is_applied                          3257239\n",
       "user_id                                   0\n",
       "birth_year                           128095\n",
       "gender                               128095\n",
       "insert_time                               0\n",
       "credit_score                              0\n",
       "yearly_income                             6\n",
       "income_type                               0\n",
       "company_enter_month                       0\n",
       "employment_type                           0\n",
       "houseown_type                             0\n",
       "desired_amount                            0\n",
       "purpose                                   0\n",
       "existing_loan_cnt                         0\n",
       "existing_loan_amt                         0\n",
       "num_not_approve                           0\n",
       "num_total_approve                         0\n",
       "num_approve                               0\n",
       "num_total_login                           0\n",
       "loan_limit/max_loan_limit                 4\n",
       "loan_rate/min_loan_rate                   4\n",
       "desired_amount/existing_loan_amt          0\n",
       "credit_score_nan                          0\n",
       "dtype: int64"
      ]
     },
     "execution_count": 16,
     "metadata": {},
     "output_type": "execute_result"
    }
   ],
   "source": [
    "dataset.isna().sum()"
   ]
  },
  {
   "cell_type": "code",
   "execution_count": 17,
   "id": "cc7a385d-2916-4302-9900-85a8c72786e7",
   "metadata": {},
   "outputs": [],
   "source": [
    "dataset[\"gender_birth_nan\"] = 0\n",
    "dataset.loc[dataset[dataset[\"birth_year\"].isnull()].index, \"gender_birth_nan\"] = 1"
   ]
  },
  {
   "cell_type": "code",
   "execution_count": 18,
   "id": "99bc5d73-d317-48a9-9061-0aa7033cb97f",
   "metadata": {},
   "outputs": [],
   "source": [
    "dataset[\"birth_year\"] = (2022 - dataset[\"birth_year\"])"
   ]
  },
  {
   "cell_type": "code",
   "execution_count": 19,
   "id": "669e5ff4-4180-498d-8385-e560eb81e37c",
   "metadata": {},
   "outputs": [],
   "source": [
    "def birth_enc(x):\n",
    "    if x <= 25: return 0\n",
    "    elif x < 30: return 1\n",
    "    elif x < 35: return 2\n",
    "    elif x < 40: return 3\n",
    "    elif x < 45: return 4\n",
    "    elif x < 50: return 5\n",
    "    elif x < 55: return 6\n",
    "    elif x < 60: return 7\n",
    "    elif x < 65: return 8\n",
    "    elif x < 70: return 9\n",
    "    elif x < 80: return 10\n",
    "    elif x < 90: return 11\n",
    "    elif x < 100: return 12\n",
    "    else: return 99\n"
   ]
  },
  {
   "cell_type": "code",
   "execution_count": 20,
   "id": "682c366a-277c-464d-b35f-9d1366256af8",
   "metadata": {},
   "outputs": [
    {
     "data": {
      "text/plain": [
       "count    13399133.0\n",
       "mean           39.2\n",
       "std             9.6\n",
       "min            19.0\n",
       "25%            31.0\n",
       "50%            38.0\n",
       "75%            46.0\n",
       "max            92.0\n",
       "Name: birth_year, dtype: float64"
      ]
     },
     "execution_count": 20,
     "metadata": {},
     "output_type": "execute_result"
    }
   ],
   "source": [
    "dataset[\"birth_year\"].describe().round(1)"
   ]
  },
  {
   "cell_type": "code",
   "execution_count": 21,
   "id": "e2b0027e-bde6-4d57-a1cb-a21f17527b77",
   "metadata": {},
   "outputs": [
    {
     "data": {
      "text/plain": [
       "2     2532211\n",
       "3     2488588\n",
       "4     2363584\n",
       "1     1639371\n",
       "5     1613437\n",
       "6     1176681\n",
       "0      639755\n",
       "7      562066\n",
       "8      271919\n",
       "99     128095\n",
       "9       79874\n",
       "10      29584\n",
       "11       2012\n",
       "12         51\n",
       "Name: birth_year, dtype: int64"
      ]
     },
     "execution_count": 21,
     "metadata": {},
     "output_type": "execute_result"
    }
   ],
   "source": [
    "dataset[\"birth_year\"].map(birth_enc).value_counts()"
   ]
  },
  {
   "cell_type": "code",
   "execution_count": 22,
   "id": "878fae25-cd19-437d-9af0-de65bb44c5ea",
   "metadata": {},
   "outputs": [],
   "source": [
    "dataset[\"birth_year\"] = dataset[\"birth_year\"].map(birth_enc)"
   ]
  },
  {
   "cell_type": "code",
   "execution_count": 23,
   "id": "da678b73-7380-445a-8954-2f9fbcb8a1c0",
   "metadata": {},
   "outputs": [
    {
     "data": {
      "text/plain": [
       "array([ 1.,  0., nan])"
      ]
     },
     "execution_count": 23,
     "metadata": {},
     "output_type": "execute_result"
    }
   ],
   "source": [
    "dataset[\"gender\"].unique()"
   ]
  },
  {
   "cell_type": "code",
   "execution_count": 24,
   "id": "448921ab-fb9d-4088-bfa5-1818eda09495",
   "metadata": {},
   "outputs": [],
   "source": [
    "def gender_enc(x):\n",
    "    if x == 1.0: return 1\n",
    "    elif x == 0.0: return 0\n",
    "    else: return 99\n"
   ]
  },
  {
   "cell_type": "code",
   "execution_count": 25,
   "id": "7a6fd5bf-0223-4e8f-b04b-ea885008f479",
   "metadata": {},
   "outputs": [
    {
     "data": {
      "text/plain": [
       "1     9286198\n",
       "0     4112935\n",
       "99     128095\n",
       "Name: gender, dtype: int64"
      ]
     },
     "execution_count": 25,
     "metadata": {},
     "output_type": "execute_result"
    }
   ],
   "source": [
    "dataset[\"gender\"].map(gender_enc).value_counts()"
   ]
  },
  {
   "cell_type": "code",
   "execution_count": 26,
   "id": "da9db66b-c777-49da-b506-266d2d9964d3",
   "metadata": {},
   "outputs": [],
   "source": [
    "dataset[\"gender\"] = dataset[\"gender\"].map(gender_enc)"
   ]
  },
  {
   "cell_type": "markdown",
   "id": "06e5debe-2f75-46f0-9c70-e13b1616a117",
   "metadata": {},
   "source": [
    "### Income"
   ]
  },
  {
   "cell_type": "code",
   "execution_count": 27,
   "id": "db13b05a-a57c-4660-8d86-5172a56d331d",
   "metadata": {},
   "outputs": [
    {
     "name": "stdout",
     "output_type": "stream",
     "text": [
      "<class 'pandas.core.frame.DataFrame'>\n",
      "RangeIndex: 13527228 entries, 0 to 13527227\n",
      "Data columns (total 30 columns):\n",
      " #   Column                            Dtype  \n",
      "---  ------                            -----  \n",
      " 0   application_id                    int64  \n",
      " 1   loanapply_insert_time             object \n",
      " 2   bank_id                           int64  \n",
      " 3   product_id                        int64  \n",
      " 4   loan_limit                        float64\n",
      " 5   loan_rate                         float64\n",
      " 6   is_applied                        float64\n",
      " 7   user_id                           int64  \n",
      " 8   birth_year                        int64  \n",
      " 9   gender                            int64  \n",
      " 10  insert_time                       object \n",
      " 11  credit_score                      int64  \n",
      " 12  yearly_income                     float64\n",
      " 13  income_type                       object \n",
      " 14  company_enter_month               int64  \n",
      " 15  employment_type                   object \n",
      " 16  houseown_type                     object \n",
      " 17  desired_amount                    float64\n",
      " 18  purpose                           object \n",
      " 19  existing_loan_cnt                 float64\n",
      " 20  existing_loan_amt                 float64\n",
      " 21  num_not_approve                   int64  \n",
      " 22  num_total_approve                 int64  \n",
      " 23  num_approve                       int64  \n",
      " 24  num_total_login                   int64  \n",
      " 25  loan_limit/max_loan_limit         float64\n",
      " 26  loan_rate/min_loan_rate           float64\n",
      " 27  desired_amount/existing_loan_amt  float64\n",
      " 28  credit_score_nan                  int64  \n",
      " 29  gender_birth_nan                  int64  \n",
      "dtypes: float64(10), int64(14), object(6)\n",
      "memory usage: 3.0+ GB\n"
     ]
    }
   ],
   "source": [
    "dataset.info()"
   ]
  },
  {
   "cell_type": "code",
   "execution_count": 28,
   "id": "7a29b4c6-58b1-4d80-81ca-168593c2f99e",
   "metadata": {},
   "outputs": [],
   "source": [
    "dataset[\"loan_limit\"] = (dataset[\"loan_limit\"] / 1000000)"
   ]
  },
  {
   "cell_type": "code",
   "execution_count": 29,
   "id": "f0bb4270-77f1-4871-aacf-4e6f40cc6b4b",
   "metadata": {},
   "outputs": [],
   "source": [
    "def loan_limit_enc(x):\n",
    "    if x <= 1.0: return 0\n",
    "    elif x <= 2.0: return 1\n",
    "    elif x <= 3.0: return 2\n",
    "    elif x <= 4.0: return 3\n",
    "    elif x <= 5.0: return 4\n",
    "    elif x <= 6.0: return 5\n",
    "    elif x <= 7.0: return 6\n",
    "    elif x <= 8.0: return 7\n",
    "    elif x <= 9.0: return 8\n",
    "    elif x <= 10.0: return 9\n",
    "    elif x <= 11.0: return 10\n",
    "    elif x <= 12.0: return 11\n",
    "    elif x <= 13.0: return 12\n",
    "    elif x <= 14.0: return 13\n",
    "    elif x <= 15.0: return 14\n",
    "    elif x <= 16.0: return 15\n",
    "    elif x <= 17.0: return 16\n",
    "    elif x <= 18.0: return 17\n",
    "    elif x <= 19.0: return 18\n",
    "    elif x <= 20.0: return 19\n",
    "    elif x <= 21.0: return 20\n",
    "    elif x <= 22.0: return 21\n",
    "    elif x <= 23.0: return 22\n",
    "    elif x <= 24.0: return 23\n",
    "    elif x <= 25.0: return 24\n",
    "    elif x <= 26.0: return 25\n",
    "    elif x <= 27.0: return 26\n",
    "    elif x <= 28.0: return 27\n",
    "    elif x <= 29.0: return 28\n",
    "    elif x <= 30.0: return 29\n",
    "    elif x <= 31.0: return 30\n",
    "    elif x <= 32.0: return 31\n",
    "    elif x <= 33.0: return 32\n",
    "    elif x <= 34.0: return 33\n",
    "    elif x <= 35.0: return 34\n",
    "    elif x <= 36.0: return 35\n",
    "    elif x <= 37.0: return 36\n",
    "    elif x <= 38.0: return 37\n",
    "    elif x <= 39.0: return 38\n",
    "    elif x <= 40.0: return 39\n",
    "    elif x <= 41.0: return 40\n",
    "    elif x <= 42.0: return 41\n",
    "    elif x <= 43.0: return 42\n",
    "    elif x <= 44.0: return 43\n",
    "    elif x <= 45.0: return 44\n",
    "    elif x <= 46.0: return 45\n",
    "    elif x <= 47.0: return 46\n",
    "    elif x <= 48.0: return 47\n",
    "    elif x <= 49.0: return 48\n",
    "    elif x <= 50.0: return 49\n",
    "    else: return 99\n"
   ]
  },
  {
   "cell_type": "code",
   "execution_count": 30,
   "id": "0e49a98a-4999-4151-944d-65f96a5a8c0f",
   "metadata": {},
   "outputs": [],
   "source": [
    "dataset[\"loan_limit\"]= dataset[\"loan_limit\"].map(loan_limit_enc)"
   ]
  },
  {
   "cell_type": "code",
   "execution_count": null,
   "id": "3b67097d-649b-4330-ae13-6ad898794214",
   "metadata": {},
   "outputs": [],
   "source": []
  },
  {
   "cell_type": "code",
   "execution_count": 31,
   "id": "9b001314-fbfd-43c6-93b8-bd3f755cc4d1",
   "metadata": {},
   "outputs": [],
   "source": [
    "dataset[\"yearly_income\"] = dataset[\"yearly_income\"] / 1000000"
   ]
  },
  {
   "cell_type": "code",
   "execution_count": 32,
   "id": "2829e87a-9e3b-4ec3-96e8-57123b648899",
   "metadata": {},
   "outputs": [
    {
     "data": {
      "text/plain": [
       "count    1.352722e+07\n",
       "mean     4.805800e+01\n",
       "std      1.335750e+02\n",
       "min      0.000000e+00\n",
       "25%      2.900000e+01\n",
       "50%      3.600000e+01\n",
       "75%      5.000000e+01\n",
       "max      1.000000e+04\n",
       "Name: yearly_income, dtype: float64"
      ]
     },
     "execution_count": 32,
     "metadata": {},
     "output_type": "execute_result"
    }
   ],
   "source": [
    "dataset[\"yearly_income\"].describe().round(3)"
   ]
  },
  {
   "cell_type": "code",
   "execution_count": 33,
   "id": "c747c469-1fbb-4de7-845a-a38c569c9852",
   "metadata": {},
   "outputs": [],
   "source": [
    "def yearly_income_enc(x):\n",
    "    if x <= 10: return 0\n",
    "    elif x <= 15: return 1\n",
    "    elif x <= 20: return 2\n",
    "    elif x <= 25: return 3\n",
    "    elif x <= 30: return 4\n",
    "    elif x <= 35: return 5\n",
    "    elif x <= 40: return 6\n",
    "    elif x <= 45: return 7\n",
    "    elif x <= 50: return 8\n",
    "    elif x <= 55: return 9\n",
    "    elif x <= 60: return 10\n",
    "    elif x <= 65: return 11\n",
    "    elif x <= 70: return 12\n",
    "    elif x <= 75: return 13\n",
    "    elif x <= 80: return 14\n",
    "    elif x <= 85: return 15\n",
    "    elif x <= 90: return 16\n",
    "    elif x <= 95: return 17\n",
    "\n",
    "    else: return 18"
   ]
  },
  {
   "cell_type": "code",
   "execution_count": 34,
   "id": "5ed42899-159e-49ca-adb5-3052d7ed7055",
   "metadata": {},
   "outputs": [],
   "source": [
    "dataset[\"yearly_income\"] = dataset[\"yearly_income\"].map(yearly_income_enc)"
   ]
  },
  {
   "cell_type": "code",
   "execution_count": null,
   "id": "5da6cafc-c041-4c37-b749-7115b233106a",
   "metadata": {},
   "outputs": [],
   "source": []
  },
  {
   "cell_type": "code",
   "execution_count": 35,
   "id": "1d061600-1a3c-4705-ab77-cbf6e45f68cc",
   "metadata": {},
   "outputs": [],
   "source": [
    "dataset[\"desired_amount\"]  = (dataset[\"desired_amount\"] / 1000000)"
   ]
  },
  {
   "cell_type": "code",
   "execution_count": 36,
   "id": "5e87d6fa-78ee-4bcc-8c64-bbdd27c337fe",
   "metadata": {},
   "outputs": [],
   "source": [
    "def desired_amount_enc(x):\n",
    "    if x <= 10: return 0\n",
    "    elif x <= 15: return 1\n",
    "    elif x <= 20: return 2\n",
    "    elif x <= 25: return 3\n",
    "    elif x <= 30: return 4\n",
    "    elif x <= 35: return 5\n",
    "    elif x <= 40: return 6\n",
    "    elif x <= 45: return 7\n",
    "    elif x <= 50: return 8\n",
    "    elif x <= 55: return 9\n",
    "    elif x <= 60: return 10\n",
    "    elif x <= 65: return 11\n",
    "    elif x <= 70: return 12\n",
    "    elif x <= 75: return 13\n",
    "    elif x <= 80: return 14\n",
    "    elif x <= 85: return 15\n",
    "    elif x <= 90: return 16\n",
    "    elif x <= 95: return 17\n",
    "\n",
    "    else: return 18"
   ]
  },
  {
   "cell_type": "code",
   "execution_count": 37,
   "id": "9b215133-b879-4686-b658-15385a78057e",
   "metadata": {},
   "outputs": [],
   "source": [
    "dataset[\"desired_amount\"] = dataset[\"desired_amount\"].map(desired_amount_enc)"
   ]
  },
  {
   "cell_type": "code",
   "execution_count": 38,
   "id": "110419f8-df23-46cc-bcca-b8179f0bc533",
   "metadata": {},
   "outputs": [],
   "source": [
    "def existing_loan_cnt_enc(x):\n",
    "    if x <= 0: return 0\n",
    "    elif x <= 1: return 1\n",
    "    elif x <= 2: return 2\n",
    "    elif x <= 3: return 3\n",
    "    elif x <= 4: return 4\n",
    "    elif x <= 5: return 5\n",
    "    elif x <= 6: return 6\n",
    "    elif x <= 7: return 7\n",
    "    elif x <= 8: return 8\n",
    "    else: return 9"
   ]
  },
  {
   "cell_type": "code",
   "execution_count": 39,
   "id": "c90c60d7-bd57-45f3-85f7-61250e5cfcb7",
   "metadata": {},
   "outputs": [],
   "source": [
    "dataset[\"existing_loan_cnt\"] = dataset[\"existing_loan_cnt\"].map(existing_loan_cnt_enc)"
   ]
  },
  {
   "cell_type": "code",
   "execution_count": 40,
   "id": "1800c478-0394-45e8-b1cd-3d8791ef7579",
   "metadata": {},
   "outputs": [],
   "source": [
    "dataset[\"existing_loan_amt\"] = dataset[\"existing_loan_amt\"] / 1000000"
   ]
  },
  {
   "cell_type": "code",
   "execution_count": 41,
   "id": "190ac7b9-d3e4-4b29-8930-1fe0a0a25af6",
   "metadata": {},
   "outputs": [],
   "source": [
    "def existing_loan_amt_enc(x):\n",
    "    if x <= 0: return 0\n",
    "    elif x <= 5: return 1\n",
    "    elif x <= 10: return 2\n",
    "    elif x <= 15: return 3\n",
    "    elif x <= 20: return 4\n",
    "    elif x <= 25: return 5\n",
    "    elif x <= 30: return 6\n",
    "    elif x <= 35: return 7\n",
    "    elif x <= 40: return 8\n",
    "    elif x <= 45: return 9\n",
    "    elif x <= 50: return 10\n",
    "    elif x <= 55: return 11\n",
    "    elif x <= 60: return 12\n",
    "    elif x <= 65: return 13\n",
    "    elif x <= 70: return 14\n",
    "    elif x <= 75: return 15\n",
    "    elif x <= 80: return 16\n",
    "    elif x <= 85: return 17\n",
    "\n",
    "    else: return 18"
   ]
  },
  {
   "cell_type": "code",
   "execution_count": 42,
   "id": "4fc90905-9c63-4c0e-9521-5191309a4248",
   "metadata": {},
   "outputs": [],
   "source": [
    "dataset[\"existing_loan_amt\"] = dataset[\"existing_loan_amt\"].map(existing_loan_amt_enc)"
   ]
  },
  {
   "cell_type": "code",
   "execution_count": 43,
   "id": "c418fa0a-db2b-4405-a676-53d399e9a47b",
   "metadata": {},
   "outputs": [
    {
     "data": {
      "text/plain": [
       "Index(['application_id', 'loanapply_insert_time', 'bank_id', 'product_id',\n",
       "       'loan_limit', 'loan_rate', 'is_applied', 'user_id', 'birth_year',\n",
       "       'gender', 'insert_time', 'credit_score', 'yearly_income', 'income_type',\n",
       "       'company_enter_month', 'employment_type', 'houseown_type',\n",
       "       'desired_amount', 'purpose', 'existing_loan_cnt', 'existing_loan_amt',\n",
       "       'num_not_approve', 'num_total_approve', 'num_approve',\n",
       "       'num_total_login', 'loan_limit/max_loan_limit',\n",
       "       'loan_rate/min_loan_rate', 'desired_amount/existing_loan_amt',\n",
       "       'credit_score_nan', 'gender_birth_nan'],\n",
       "      dtype='object')"
      ]
     },
     "execution_count": 43,
     "metadata": {},
     "output_type": "execute_result"
    }
   ],
   "source": [
    "dataset.columns"
   ]
  },
  {
   "cell_type": "code",
   "execution_count": 44,
   "id": "e295c357-1221-4713-827d-14b2a1939d75",
   "metadata": {},
   "outputs": [
    {
     "data": {
      "text/html": [
       "<div>\n",
       "<style scoped>\n",
       "    .dataframe tbody tr th:only-of-type {\n",
       "        vertical-align: middle;\n",
       "    }\n",
       "\n",
       "    .dataframe tbody tr th {\n",
       "        vertical-align: top;\n",
       "    }\n",
       "\n",
       "    .dataframe thead th {\n",
       "        text-align: right;\n",
       "    }\n",
       "</style>\n",
       "<table border=\"1\" class=\"dataframe\">\n",
       "  <thead>\n",
       "    <tr style=\"text-align: right;\">\n",
       "      <th></th>\n",
       "      <th>loan_limit/max_loan_limit</th>\n",
       "      <th>loan_rate/min_loan_rate</th>\n",
       "      <th>desired_amount/existing_loan_amt</th>\n",
       "    </tr>\n",
       "  </thead>\n",
       "  <tbody>\n",
       "    <tr>\n",
       "      <th>0</th>\n",
       "      <td>1.000000</td>\n",
       "      <td>1.000000</td>\n",
       "      <td>0.061728</td>\n",
       "    </tr>\n",
       "    <tr>\n",
       "      <th>1</th>\n",
       "      <td>1.000000</td>\n",
       "      <td>1.000000</td>\n",
       "      <td>0.188679</td>\n",
       "    </tr>\n",
       "    <tr>\n",
       "      <th>2</th>\n",
       "      <td>0.272727</td>\n",
       "      <td>1.212121</td>\n",
       "      <td>0.188679</td>\n",
       "    </tr>\n",
       "    <tr>\n",
       "      <th>3</th>\n",
       "      <td>0.208333</td>\n",
       "      <td>2.177419</td>\n",
       "      <td>1.379310</td>\n",
       "    </tr>\n",
       "    <tr>\n",
       "      <th>4</th>\n",
       "      <td>0.458333</td>\n",
       "      <td>2.564516</td>\n",
       "      <td>1.379310</td>\n",
       "    </tr>\n",
       "    <tr>\n",
       "      <th>...</th>\n",
       "      <td>...</td>\n",
       "      <td>...</td>\n",
       "      <td>...</td>\n",
       "    </tr>\n",
       "    <tr>\n",
       "      <th>13527223</th>\n",
       "      <td>0.066667</td>\n",
       "      <td>2.242424</td>\n",
       "      <td>0.892857</td>\n",
       "    </tr>\n",
       "    <tr>\n",
       "      <th>13527224</th>\n",
       "      <td>0.888889</td>\n",
       "      <td>1.787879</td>\n",
       "      <td>0.892857</td>\n",
       "    </tr>\n",
       "    <tr>\n",
       "      <th>13527225</th>\n",
       "      <td>0.333333</td>\n",
       "      <td>1.090909</td>\n",
       "      <td>0.892857</td>\n",
       "    </tr>\n",
       "    <tr>\n",
       "      <th>13527226</th>\n",
       "      <td>0.977778</td>\n",
       "      <td>2.045455</td>\n",
       "      <td>0.892857</td>\n",
       "    </tr>\n",
       "    <tr>\n",
       "      <th>13527227</th>\n",
       "      <td>0.977778</td>\n",
       "      <td>1.469697</td>\n",
       "      <td>0.892857</td>\n",
       "    </tr>\n",
       "  </tbody>\n",
       "</table>\n",
       "<p>13527228 rows × 3 columns</p>\n",
       "</div>"
      ],
      "text/plain": [
       "          loan_limit/max_loan_limit  loan_rate/min_loan_rate  \\\n",
       "0                          1.000000                 1.000000   \n",
       "1                          1.000000                 1.000000   \n",
       "2                          0.272727                 1.212121   \n",
       "3                          0.208333                 2.177419   \n",
       "4                          0.458333                 2.564516   \n",
       "...                             ...                      ...   \n",
       "13527223                   0.066667                 2.242424   \n",
       "13527224                   0.888889                 1.787879   \n",
       "13527225                   0.333333                 1.090909   \n",
       "13527226                   0.977778                 2.045455   \n",
       "13527227                   0.977778                 1.469697   \n",
       "\n",
       "          desired_amount/existing_loan_amt  \n",
       "0                                 0.061728  \n",
       "1                                 0.188679  \n",
       "2                                 0.188679  \n",
       "3                                 1.379310  \n",
       "4                                 1.379310  \n",
       "...                                    ...  \n",
       "13527223                          0.892857  \n",
       "13527224                          0.892857  \n",
       "13527225                          0.892857  \n",
       "13527226                          0.892857  \n",
       "13527227                          0.892857  \n",
       "\n",
       "[13527228 rows x 3 columns]"
      ]
     },
     "execution_count": 44,
     "metadata": {},
     "output_type": "execute_result"
    }
   ],
   "source": [
    "dataset[['loan_limit/max_loan_limit',\n",
    "       'loan_rate/min_loan_rate', 'desired_amount/existing_loan_amt']]"
   ]
  },
  {
   "cell_type": "code",
   "execution_count": 45,
   "id": "fc052c0d-fbb7-48a3-a932-25c2bd6be83e",
   "metadata": {},
   "outputs": [
    {
     "data": {
      "text/plain": [
       "Index(['application_id', 'loanapply_insert_time', 'bank_id', 'product_id',\n",
       "       'loan_limit', 'loan_rate', 'is_applied', 'user_id', 'birth_year',\n",
       "       'gender', 'insert_time', 'credit_score', 'yearly_income', 'income_type',\n",
       "       'company_enter_month', 'employment_type', 'houseown_type',\n",
       "       'desired_amount', 'purpose', 'existing_loan_cnt', 'existing_loan_amt',\n",
       "       'num_not_approve', 'num_total_approve', 'num_approve',\n",
       "       'num_total_login'],\n",
       "      dtype='object')"
      ]
     },
     "execution_count": 45,
     "metadata": {},
     "output_type": "execute_result"
    }
   ],
   "source": [
    "full_data.columns"
   ]
  },
  {
   "cell_type": "code",
   "execution_count": 46,
   "id": "839c6265-bdc5-48cf-b279-424bf70d45b5",
   "metadata": {},
   "outputs": [],
   "source": [
    "def existing_loan_cnt_enc2(x):\n",
    "    if x <= 4: return 0\n",
    "    else: return 1"
   ]
  },
  {
   "cell_type": "code",
   "execution_count": 47,
   "id": "46d41339-0e95-40b2-ab6e-9d6388428afb",
   "metadata": {},
   "outputs": [
    {
     "data": {
      "text/plain": [
       "0    10523101\n",
       "1     3004127\n",
       "Name: existing_loan_cnt, dtype: int64"
      ]
     },
     "execution_count": 47,
     "metadata": {},
     "output_type": "execute_result"
    }
   ],
   "source": [
    "dataset[\"existing_loan_cnt\"].map(existing_loan_cnt_enc2).value_counts()"
   ]
  },
  {
   "cell_type": "code",
   "execution_count": 48,
   "id": "d1a64fa3-75d8-4275-a9c1-c9d185d745c6",
   "metadata": {},
   "outputs": [],
   "source": [
    "dataset[\"existing_loan_cnt_binary\"] = dataset[\"existing_loan_cnt\"].map(existing_loan_cnt_enc2)"
   ]
  },
  {
   "cell_type": "code",
   "execution_count": 61,
   "id": "7b62804e-771b-4f87-818c-0dcbc774cd8d",
   "metadata": {},
   "outputs": [],
   "source": [
    "def loan_limit_over_enc(x):\n",
    "    if x <= 0.3: return 0\n",
    "    else: return 1"
   ]
  },
  {
   "cell_type": "code",
   "execution_count": 74,
   "id": "1ffc4fa5-de3b-43e6-bf69-e64b70a7b2fa",
   "metadata": {},
   "outputs": [],
   "source": [
    "dataset[\"loan_limit/max_loan_limit_binary\"] = dataset[\"loan_limit/max_loan_limit\"].map(loan_limit_over_enc)"
   ]
  },
  {
   "cell_type": "code",
   "execution_count": 73,
   "id": "935bed96-0e9c-4752-bd20-c38f15f8e779",
   "metadata": {},
   "outputs": [],
   "source": [
    "def loan_rate_min_loan_rate_enc(x):\n",
    "    if x <= 2.47: return 0\n",
    "    else: return 1"
   ]
  },
  {
   "cell_type": "code",
   "execution_count": 76,
   "id": "07f6c647-f575-48bf-ba55-f42fadaa09a1",
   "metadata": {},
   "outputs": [],
   "source": [
    "dataset[\"loan_rate/min_loan_rate_binary\"] = dataset[\"loan_rate/min_loan_rate\"].map(loan_rate_min_loan_rate_enc)"
   ]
  },
  {
   "cell_type": "code",
   "execution_count": 90,
   "id": "6da299a0-e6d9-4b2f-a0a0-e3398075e865",
   "metadata": {},
   "outputs": [],
   "source": [
    "def desired_amount_over_enc(x):\n",
    "    if x <= 1: return 0\n",
    "    elif x <= 2: return 1\n",
    "    else: return 2"
   ]
  },
  {
   "cell_type": "code",
   "execution_count": 93,
   "id": "6455c5b0-053b-465b-8931-51e8389214fa",
   "metadata": {},
   "outputs": [],
   "source": [
    "dataset[\"desired_amount/existing_loan_amt_binary\"] = dataset[\"desired_amount/existing_loan_amt\"].map(desired_amount_over_enc)"
   ]
  },
  {
   "cell_type": "markdown",
   "id": "4ed800ad-daaa-4b08-90cb-6d26d448ca00",
   "metadata": {},
   "source": [
    "### 각 type 별로 rpoduct가 잘되는 것들의 비율도 사용하는게 맞을듯"
   ]
  },
  {
   "cell_type": "code",
   "execution_count": 46,
   "id": "fdc7cf77-7500-4c7c-b628-d8ebdf751777",
   "metadata": {},
   "outputs": [
    {
     "data": {
      "text/plain": [
       "application_id                            0\n",
       "loanapply_insert_time                     0\n",
       "bank_id                                   0\n",
       "product_id                                0\n",
       "loan_limit                                0\n",
       "loan_rate                                 4\n",
       "is_applied                          3257239\n",
       "user_id                                   0\n",
       "birth_year                                0\n",
       "gender                                    0\n",
       "insert_time                               0\n",
       "credit_score                              0\n",
       "yearly_income                             0\n",
       "income_type                               0\n",
       "company_enter_month                       0\n",
       "employment_type                           0\n",
       "houseown_type                             0\n",
       "desired_amount                            0\n",
       "purpose                                   0\n",
       "existing_loan_cnt                         0\n",
       "existing_loan_amt                         0\n",
       "num_not_approve                           0\n",
       "num_total_approve                         0\n",
       "num_approve                               0\n",
       "num_total_login                           0\n",
       "loan_limit/max_loan_limit                 4\n",
       "loan_rate/min_loan_rate                   4\n",
       "desired_amount/existing_loan_amt          0\n",
       "credit_score_nan                          0\n",
       "gender_birth_nan                          0\n",
       "dtype: int64"
      ]
     },
     "execution_count": 46,
     "metadata": {},
     "output_type": "execute_result"
    }
   ],
   "source": [
    "dataset.isna().sum() # 4로 결측치 있는것들은 testset"
   ]
  },
  {
   "cell_type": "code",
   "execution_count": 49,
   "id": "10b069c1-eeba-4191-81f9-321ad5f33602",
   "metadata": {},
   "outputs": [],
   "source": [
    "kkk = full_data.groupby([\"purpose\",\"product_id\"]).mean()[\"is_applied\"].reset_index()"
   ]
  },
  {
   "cell_type": "code",
   "execution_count": 58,
   "id": "b69ab4fd-a9f7-4b28-b836-09c59905d216",
   "metadata": {},
   "outputs": [
    {
     "data": {
      "text/html": [
       "<div>\n",
       "<style scoped>\n",
       "    .dataframe tbody tr th:only-of-type {\n",
       "        vertical-align: middle;\n",
       "    }\n",
       "\n",
       "    .dataframe tbody tr th {\n",
       "        vertical-align: top;\n",
       "    }\n",
       "\n",
       "    .dataframe thead th {\n",
       "        text-align: right;\n",
       "    }\n",
       "</style>\n",
       "<table border=\"1\" class=\"dataframe\">\n",
       "  <thead>\n",
       "    <tr style=\"text-align: right;\">\n",
       "      <th></th>\n",
       "      <th>purpose</th>\n",
       "      <th>product_id</th>\n",
       "      <th>is_applied</th>\n",
       "    </tr>\n",
       "  </thead>\n",
       "  <tbody>\n",
       "    <tr>\n",
       "      <th>5</th>\n",
       "      <td>기타</td>\n",
       "      <td>13</td>\n",
       "      <td>1.000000</td>\n",
       "    </tr>\n",
       "    <tr>\n",
       "      <th>9</th>\n",
       "      <td>기타</td>\n",
       "      <td>20</td>\n",
       "      <td>0.134021</td>\n",
       "    </tr>\n",
       "    <tr>\n",
       "      <th>10</th>\n",
       "      <td>기타</td>\n",
       "      <td>21</td>\n",
       "      <td>1.000000</td>\n",
       "    </tr>\n",
       "    <tr>\n",
       "      <th>17</th>\n",
       "      <td>기타</td>\n",
       "      <td>31</td>\n",
       "      <td>0.115199</td>\n",
       "    </tr>\n",
       "    <tr>\n",
       "      <th>20</th>\n",
       "      <td>기타</td>\n",
       "      <td>38</td>\n",
       "      <td>0.133333</td>\n",
       "    </tr>\n",
       "    <tr>\n",
       "      <th>...</th>\n",
       "      <td>...</td>\n",
       "      <td>...</td>\n",
       "      <td>...</td>\n",
       "    </tr>\n",
       "    <tr>\n",
       "      <th>1296</th>\n",
       "      <td>투자</td>\n",
       "      <td>232</td>\n",
       "      <td>1.000000</td>\n",
       "    </tr>\n",
       "    <tr>\n",
       "      <th>1298</th>\n",
       "      <td>투자</td>\n",
       "      <td>234</td>\n",
       "      <td>0.163878</td>\n",
       "    </tr>\n",
       "    <tr>\n",
       "      <th>1309</th>\n",
       "      <td>투자</td>\n",
       "      <td>250</td>\n",
       "      <td>0.132075</td>\n",
       "    </tr>\n",
       "    <tr>\n",
       "      <th>1319</th>\n",
       "      <td>투자</td>\n",
       "      <td>265</td>\n",
       "      <td>0.109769</td>\n",
       "    </tr>\n",
       "    <tr>\n",
       "      <th>1322</th>\n",
       "      <td>투자</td>\n",
       "      <td>268</td>\n",
       "      <td>0.150654</td>\n",
       "    </tr>\n",
       "  </tbody>\n",
       "</table>\n",
       "<p>170 rows × 3 columns</p>\n",
       "</div>"
      ],
      "text/plain": [
       "     purpose  product_id  is_applied\n",
       "5         기타          13    1.000000\n",
       "9         기타          20    0.134021\n",
       "10        기타          21    1.000000\n",
       "17        기타          31    0.115199\n",
       "20        기타          38    0.133333\n",
       "...      ...         ...         ...\n",
       "1296      투자         232    1.000000\n",
       "1298      투자         234    0.163878\n",
       "1309      투자         250    0.132075\n",
       "1319      투자         265    0.109769\n",
       "1322      투자         268    0.150654\n",
       "\n",
       "[170 rows x 3 columns]"
      ]
     },
     "execution_count": 58,
     "metadata": {},
     "output_type": "execute_result"
    }
   ],
   "source": [
    "kkk[kkk[\"is_applied\"] >= 0.1]  "
   ]
  },
  {
   "cell_type": "code",
   "execution_count": null,
   "id": "9e3461de-7544-42fd-9bb3-7467b27922f7",
   "metadata": {},
   "outputs": [],
   "source": []
  },
  {
   "cell_type": "code",
   "execution_count": null,
   "id": "2dc62474-9150-406f-9cda-8e34f4c49006",
   "metadata": {},
   "outputs": [],
   "source": []
  },
  {
   "cell_type": "markdown",
   "id": "caee09f9-11f9-4019-828b-848853855555",
   "metadata": {},
   "source": [
    "## Select input variable"
   ]
  },
  {
   "cell_type": "code",
   "execution_count": 94,
   "id": "b3fd37e1-28ef-43c9-9e45-e2181974d8a0",
   "metadata": {},
   "outputs": [
    {
     "data": {
      "text/plain": [
       "Index(['application_id', 'loanapply_insert_time', 'bank_id', 'product_id',\n",
       "       'loan_limit', 'loan_rate', 'is_applied', 'user_id', 'birth_year',\n",
       "       'gender', 'insert_time', 'credit_score', 'yearly_income', 'income_type',\n",
       "       'company_enter_month', 'employment_type', 'houseown_type',\n",
       "       'desired_amount', 'purpose', 'existing_loan_cnt', 'existing_loan_amt',\n",
       "       'num_not_approve', 'num_total_approve', 'num_approve',\n",
       "       'num_total_login', 'loan_limit/max_loan_limit',\n",
       "       'loan_rate/min_loan_rate', 'desired_amount/existing_loan_amt',\n",
       "       'credit_score_nan', 'gender_birth_nan', 'existing_loan_cnt_binary',\n",
       "       'loan_limit/max_loan_limit_binary', 'loan_rate/min_loan_rate_binary',\n",
       "       'desired_amount/existing_loan_amt_binary'],\n",
       "      dtype='object')"
      ]
     },
     "execution_count": 94,
     "metadata": {},
     "output_type": "execute_result"
    }
   ],
   "source": [
    "dataset.columns"
   ]
  },
  {
   "cell_type": "code",
   "execution_count": 95,
   "id": "a9859595-ca9b-4a53-815b-f850440f5724",
   "metadata": {},
   "outputs": [
    {
     "data": {
      "text/plain": [
       "0    2022-05-09 08:44:59\n",
       "1    2022-05-09 10:54:53\n",
       "2    2022-05-09 10:54:53\n",
       "3    2022-05-09 10:41:06\n",
       "4    2022-05-09 10:41:07\n",
       "Name: loanapply_insert_time, dtype: object"
      ]
     },
     "execution_count": 95,
     "metadata": {},
     "output_type": "execute_result"
    }
   ],
   "source": [
    "dataset[\"loanapply_insert_time\"].head()"
   ]
  },
  {
   "cell_type": "code",
   "execution_count": 96,
   "id": "53e5b35a-03bc-4e84-937d-ce20fb057902",
   "metadata": {},
   "outputs": [
    {
     "data": {
      "text/plain": [
       "0    2022-05-09 08:44:57\n",
       "1    2022-05-09 10:54:51\n",
       "2    2022-05-09 10:54:51\n",
       "3    2022-05-09 10:41:05\n",
       "4    2022-05-09 10:41:05\n",
       "Name: insert_time, dtype: object"
      ]
     },
     "execution_count": 96,
     "metadata": {},
     "output_type": "execute_result"
    }
   ],
   "source": [
    "dataset[\"insert_time\"].head()"
   ]
  },
  {
   "cell_type": "code",
   "execution_count": 97,
   "id": "750d54d1-695a-4ac6-bdea-6500823e027e",
   "metadata": {},
   "outputs": [],
   "source": [
    "dataset[\"hour\"] = dataset[\"loanapply_insert_time\"].str[11:13].astype(\"category\")"
   ]
  },
  {
   "cell_type": "code",
   "execution_count": 98,
   "id": "4e8ccd15-fea7-4df5-97e5-41c4b7d388a7",
   "metadata": {},
   "outputs": [],
   "source": [
    "dataset[\"dayofweek\"] = pd.to_datetime(dataset[\"loanapply_insert_time\"]).dt.dayofweek.astype(str).astype(\"category\")"
   ]
  },
  {
   "cell_type": "code",
   "execution_count": 99,
   "id": "2efb5e90-25fb-4dde-a2d4-126b68f978a1",
   "metadata": {},
   "outputs": [
    {
     "data": {
      "text/html": [
       "<div>\n",
       "<style scoped>\n",
       "    .dataframe tbody tr th:only-of-type {\n",
       "        vertical-align: middle;\n",
       "    }\n",
       "\n",
       "    .dataframe tbody tr th {\n",
       "        vertical-align: top;\n",
       "    }\n",
       "\n",
       "    .dataframe thead th {\n",
       "        text-align: right;\n",
       "    }\n",
       "</style>\n",
       "<table border=\"1\" class=\"dataframe\">\n",
       "  <thead>\n",
       "    <tr style=\"text-align: right;\">\n",
       "      <th></th>\n",
       "      <th>application_id</th>\n",
       "      <th>loanapply_insert_time</th>\n",
       "      <th>bank_id</th>\n",
       "      <th>product_id</th>\n",
       "      <th>loan_limit</th>\n",
       "      <th>loan_rate</th>\n",
       "      <th>is_applied</th>\n",
       "      <th>user_id</th>\n",
       "      <th>birth_year</th>\n",
       "      <th>gender</th>\n",
       "      <th>...</th>\n",
       "      <th>loan_rate/min_loan_rate</th>\n",
       "      <th>desired_amount/existing_loan_amt</th>\n",
       "      <th>credit_score_nan</th>\n",
       "      <th>gender_birth_nan</th>\n",
       "      <th>existing_loan_cnt_binary</th>\n",
       "      <th>loan_limit/max_loan_limit_binary</th>\n",
       "      <th>loan_rate/min_loan_rate_binary</th>\n",
       "      <th>desired_amount/existing_loan_amt_binary</th>\n",
       "      <th>hour</th>\n",
       "      <th>dayofweek</th>\n",
       "    </tr>\n",
       "  </thead>\n",
       "  <tbody>\n",
       "    <tr>\n",
       "      <th>0</th>\n",
       "      <td>2157865</td>\n",
       "      <td>2022-05-09 08:44:59</td>\n",
       "      <td>54</td>\n",
       "      <td>235</td>\n",
       "      <td>19</td>\n",
       "      <td>16.5</td>\n",
       "      <td>1.0</td>\n",
       "      <td>346970</td>\n",
       "      <td>6</td>\n",
       "      <td>1</td>\n",
       "      <td>...</td>\n",
       "      <td>1.000000</td>\n",
       "      <td>0.061728</td>\n",
       "      <td>0</td>\n",
       "      <td>0</td>\n",
       "      <td>1</td>\n",
       "      <td>1</td>\n",
       "      <td>0</td>\n",
       "      <td>0</td>\n",
       "      <td>08</td>\n",
       "      <td>0</td>\n",
       "    </tr>\n",
       "    <tr>\n",
       "      <th>1</th>\n",
       "      <td>576643</td>\n",
       "      <td>2022-05-09 10:54:53</td>\n",
       "      <td>54</td>\n",
       "      <td>235</td>\n",
       "      <td>10</td>\n",
       "      <td>16.5</td>\n",
       "      <td>0.0</td>\n",
       "      <td>545882</td>\n",
       "      <td>5</td>\n",
       "      <td>1</td>\n",
       "      <td>...</td>\n",
       "      <td>1.000000</td>\n",
       "      <td>0.188679</td>\n",
       "      <td>0</td>\n",
       "      <td>0</td>\n",
       "      <td>1</td>\n",
       "      <td>1</td>\n",
       "      <td>0</td>\n",
       "      <td>0</td>\n",
       "      <td>10</td>\n",
       "      <td>0</td>\n",
       "    </tr>\n",
       "    <tr>\n",
       "      <th>2</th>\n",
       "      <td>576643</td>\n",
       "      <td>2022-05-09 10:54:53</td>\n",
       "      <td>11</td>\n",
       "      <td>118</td>\n",
       "      <td>2</td>\n",
       "      <td>20.0</td>\n",
       "      <td>0.0</td>\n",
       "      <td>545882</td>\n",
       "      <td>5</td>\n",
       "      <td>1</td>\n",
       "      <td>...</td>\n",
       "      <td>1.212121</td>\n",
       "      <td>0.188679</td>\n",
       "      <td>0</td>\n",
       "      <td>0</td>\n",
       "      <td>1</td>\n",
       "      <td>0</td>\n",
       "      <td>0</td>\n",
       "      <td>0</td>\n",
       "      <td>10</td>\n",
       "      <td>0</td>\n",
       "    </tr>\n",
       "    <tr>\n",
       "      <th>3</th>\n",
       "      <td>2136706</td>\n",
       "      <td>2022-05-09 10:41:06</td>\n",
       "      <td>42</td>\n",
       "      <td>216</td>\n",
       "      <td>9</td>\n",
       "      <td>13.5</td>\n",
       "      <td>0.0</td>\n",
       "      <td>558819</td>\n",
       "      <td>3</td>\n",
       "      <td>1</td>\n",
       "      <td>...</td>\n",
       "      <td>2.177419</td>\n",
       "      <td>1.379310</td>\n",
       "      <td>0</td>\n",
       "      <td>0</td>\n",
       "      <td>0</td>\n",
       "      <td>0</td>\n",
       "      <td>0</td>\n",
       "      <td>1</td>\n",
       "      <td>10</td>\n",
       "      <td>0</td>\n",
       "    </tr>\n",
       "    <tr>\n",
       "      <th>4</th>\n",
       "      <td>2136706</td>\n",
       "      <td>2022-05-09 10:41:07</td>\n",
       "      <td>25</td>\n",
       "      <td>169</td>\n",
       "      <td>21</td>\n",
       "      <td>15.9</td>\n",
       "      <td>0.0</td>\n",
       "      <td>558819</td>\n",
       "      <td>3</td>\n",
       "      <td>1</td>\n",
       "      <td>...</td>\n",
       "      <td>2.564516</td>\n",
       "      <td>1.379310</td>\n",
       "      <td>0</td>\n",
       "      <td>0</td>\n",
       "      <td>0</td>\n",
       "      <td>1</td>\n",
       "      <td>1</td>\n",
       "      <td>1</td>\n",
       "      <td>10</td>\n",
       "      <td>0</td>\n",
       "    </tr>\n",
       "    <tr>\n",
       "      <th>...</th>\n",
       "      <td>...</td>\n",
       "      <td>...</td>\n",
       "      <td>...</td>\n",
       "      <td>...</td>\n",
       "      <td>...</td>\n",
       "      <td>...</td>\n",
       "      <td>...</td>\n",
       "      <td>...</td>\n",
       "      <td>...</td>\n",
       "      <td>...</td>\n",
       "      <td>...</td>\n",
       "      <td>...</td>\n",
       "      <td>...</td>\n",
       "      <td>...</td>\n",
       "      <td>...</td>\n",
       "      <td>...</td>\n",
       "      <td>...</td>\n",
       "      <td>...</td>\n",
       "      <td>...</td>\n",
       "      <td>...</td>\n",
       "      <td>...</td>\n",
       "    </tr>\n",
       "    <tr>\n",
       "      <th>13527223</th>\n",
       "      <td>1428218</td>\n",
       "      <td>2022-06-03 12:01:58</td>\n",
       "      <td>62</td>\n",
       "      <td>200</td>\n",
       "      <td>2</td>\n",
       "      <td>14.8</td>\n",
       "      <td>NaN</td>\n",
       "      <td>478802</td>\n",
       "      <td>7</td>\n",
       "      <td>1</td>\n",
       "      <td>...</td>\n",
       "      <td>2.242424</td>\n",
       "      <td>0.892857</td>\n",
       "      <td>0</td>\n",
       "      <td>0</td>\n",
       "      <td>0</td>\n",
       "      <td>0</td>\n",
       "      <td>0</td>\n",
       "      <td>0</td>\n",
       "      <td>12</td>\n",
       "      <td>4</td>\n",
       "    </tr>\n",
       "    <tr>\n",
       "      <th>13527224</th>\n",
       "      <td>1428218</td>\n",
       "      <td>2022-06-03 12:01:49</td>\n",
       "      <td>2</td>\n",
       "      <td>7</td>\n",
       "      <td>39</td>\n",
       "      <td>11.8</td>\n",
       "      <td>NaN</td>\n",
       "      <td>478802</td>\n",
       "      <td>7</td>\n",
       "      <td>1</td>\n",
       "      <td>...</td>\n",
       "      <td>1.787879</td>\n",
       "      <td>0.892857</td>\n",
       "      <td>0</td>\n",
       "      <td>0</td>\n",
       "      <td>0</td>\n",
       "      <td>1</td>\n",
       "      <td>0</td>\n",
       "      <td>0</td>\n",
       "      <td>12</td>\n",
       "      <td>4</td>\n",
       "    </tr>\n",
       "    <tr>\n",
       "      <th>13527225</th>\n",
       "      <td>1428218</td>\n",
       "      <td>2022-06-03 12:01:48</td>\n",
       "      <td>32</td>\n",
       "      <td>257</td>\n",
       "      <td>14</td>\n",
       "      <td>7.2</td>\n",
       "      <td>NaN</td>\n",
       "      <td>478802</td>\n",
       "      <td>7</td>\n",
       "      <td>1</td>\n",
       "      <td>...</td>\n",
       "      <td>1.090909</td>\n",
       "      <td>0.892857</td>\n",
       "      <td>0</td>\n",
       "      <td>0</td>\n",
       "      <td>0</td>\n",
       "      <td>1</td>\n",
       "      <td>0</td>\n",
       "      <td>0</td>\n",
       "      <td>12</td>\n",
       "      <td>4</td>\n",
       "    </tr>\n",
       "    <tr>\n",
       "      <th>13527226</th>\n",
       "      <td>1428218</td>\n",
       "      <td>2022-06-03 12:01:48</td>\n",
       "      <td>33</td>\n",
       "      <td>110</td>\n",
       "      <td>43</td>\n",
       "      <td>13.5</td>\n",
       "      <td>NaN</td>\n",
       "      <td>478802</td>\n",
       "      <td>7</td>\n",
       "      <td>1</td>\n",
       "      <td>...</td>\n",
       "      <td>2.045455</td>\n",
       "      <td>0.892857</td>\n",
       "      <td>0</td>\n",
       "      <td>0</td>\n",
       "      <td>0</td>\n",
       "      <td>1</td>\n",
       "      <td>0</td>\n",
       "      <td>0</td>\n",
       "      <td>12</td>\n",
       "      <td>4</td>\n",
       "    </tr>\n",
       "    <tr>\n",
       "      <th>13527227</th>\n",
       "      <td>1428218</td>\n",
       "      <td>2022-06-03 12:01:48</td>\n",
       "      <td>5</td>\n",
       "      <td>194</td>\n",
       "      <td>43</td>\n",
       "      <td>9.7</td>\n",
       "      <td>NaN</td>\n",
       "      <td>478802</td>\n",
       "      <td>7</td>\n",
       "      <td>1</td>\n",
       "      <td>...</td>\n",
       "      <td>1.469697</td>\n",
       "      <td>0.892857</td>\n",
       "      <td>0</td>\n",
       "      <td>0</td>\n",
       "      <td>0</td>\n",
       "      <td>1</td>\n",
       "      <td>0</td>\n",
       "      <td>0</td>\n",
       "      <td>12</td>\n",
       "      <td>4</td>\n",
       "    </tr>\n",
       "  </tbody>\n",
       "</table>\n",
       "<p>13527228 rows × 36 columns</p>\n",
       "</div>"
      ],
      "text/plain": [
       "          application_id loanapply_insert_time  bank_id  product_id  \\\n",
       "0                2157865   2022-05-09 08:44:59       54         235   \n",
       "1                 576643   2022-05-09 10:54:53       54         235   \n",
       "2                 576643   2022-05-09 10:54:53       11         118   \n",
       "3                2136706   2022-05-09 10:41:06       42         216   \n",
       "4                2136706   2022-05-09 10:41:07       25         169   \n",
       "...                  ...                   ...      ...         ...   \n",
       "13527223         1428218   2022-06-03 12:01:58       62         200   \n",
       "13527224         1428218   2022-06-03 12:01:49        2           7   \n",
       "13527225         1428218   2022-06-03 12:01:48       32         257   \n",
       "13527226         1428218   2022-06-03 12:01:48       33         110   \n",
       "13527227         1428218   2022-06-03 12:01:48        5         194   \n",
       "\n",
       "          loan_limit  loan_rate  is_applied  user_id  birth_year  gender  ...  \\\n",
       "0                 19       16.5         1.0   346970           6       1  ...   \n",
       "1                 10       16.5         0.0   545882           5       1  ...   \n",
       "2                  2       20.0         0.0   545882           5       1  ...   \n",
       "3                  9       13.5         0.0   558819           3       1  ...   \n",
       "4                 21       15.9         0.0   558819           3       1  ...   \n",
       "...              ...        ...         ...      ...         ...     ...  ...   \n",
       "13527223           2       14.8         NaN   478802           7       1  ...   \n",
       "13527224          39       11.8         NaN   478802           7       1  ...   \n",
       "13527225          14        7.2         NaN   478802           7       1  ...   \n",
       "13527226          43       13.5         NaN   478802           7       1  ...   \n",
       "13527227          43        9.7         NaN   478802           7       1  ...   \n",
       "\n",
       "         loan_rate/min_loan_rate  desired_amount/existing_loan_amt  \\\n",
       "0                       1.000000                          0.061728   \n",
       "1                       1.000000                          0.188679   \n",
       "2                       1.212121                          0.188679   \n",
       "3                       2.177419                          1.379310   \n",
       "4                       2.564516                          1.379310   \n",
       "...                          ...                               ...   \n",
       "13527223                2.242424                          0.892857   \n",
       "13527224                1.787879                          0.892857   \n",
       "13527225                1.090909                          0.892857   \n",
       "13527226                2.045455                          0.892857   \n",
       "13527227                1.469697                          0.892857   \n",
       "\n",
       "          credit_score_nan gender_birth_nan  existing_loan_cnt_binary  \\\n",
       "0                        0                0                         1   \n",
       "1                        0                0                         1   \n",
       "2                        0                0                         1   \n",
       "3                        0                0                         0   \n",
       "4                        0                0                         0   \n",
       "...                    ...              ...                       ...   \n",
       "13527223                 0                0                         0   \n",
       "13527224                 0                0                         0   \n",
       "13527225                 0                0                         0   \n",
       "13527226                 0                0                         0   \n",
       "13527227                 0                0                         0   \n",
       "\n",
       "         loan_limit/max_loan_limit_binary loan_rate/min_loan_rate_binary  \\\n",
       "0                                       1                              0   \n",
       "1                                       1                              0   \n",
       "2                                       0                              0   \n",
       "3                                       0                              0   \n",
       "4                                       1                              1   \n",
       "...                                   ...                            ...   \n",
       "13527223                                0                              0   \n",
       "13527224                                1                              0   \n",
       "13527225                                1                              0   \n",
       "13527226                                1                              0   \n",
       "13527227                                1                              0   \n",
       "\n",
       "          desired_amount/existing_loan_amt_binary hour  dayofweek  \n",
       "0                                               0   08          0  \n",
       "1                                               0   10          0  \n",
       "2                                               0   10          0  \n",
       "3                                               1   10          0  \n",
       "4                                               1   10          0  \n",
       "...                                           ...  ...        ...  \n",
       "13527223                                        0   12          4  \n",
       "13527224                                        0   12          4  \n",
       "13527225                                        0   12          4  \n",
       "13527226                                        0   12          4  \n",
       "13527227                                        0   12          4  \n",
       "\n",
       "[13527228 rows x 36 columns]"
      ]
     },
     "execution_count": 99,
     "metadata": {},
     "output_type": "execute_result"
    }
   ],
   "source": [
    "dataset"
   ]
  },
  {
   "cell_type": "code",
   "execution_count": null,
   "id": "ea595420-d4a8-4818-9cb8-d6634e696924",
   "metadata": {
    "tags": []
   },
   "outputs": [],
   "source": []
  },
  {
   "cell_type": "code",
   "execution_count": 100,
   "id": "c5bc6bd1-1118-4d73-9d23-e59a5a549974",
   "metadata": {},
   "outputs": [],
   "source": [
    "full_data = dataset[dataset[\"loanapply_insert_time\"] < \"2022-06-01\"].reset_index().iloc[:, 1:]\n",
    "test_submit_data = dataset[dataset[\"loanapply_insert_time\"] >= \"2022-06-01\"].reset_index().iloc[:, 1:]"
   ]
  },
  {
   "cell_type": "code",
   "execution_count": 101,
   "id": "fe3e8297-d10f-44ce-8a81-933734cf32c6",
   "metadata": {},
   "outputs": [],
   "source": [
    "full_data[\"YYYY_MM_DD\"] = full_data[\"loanapply_insert_time\"].str[:10]"
   ]
  },
  {
   "cell_type": "code",
   "execution_count": null,
   "id": "9f7c9f7a-b4bb-4294-89be-a0c4065c3bff",
   "metadata": {},
   "outputs": [],
   "source": []
  },
  {
   "cell_type": "code",
   "execution_count": 102,
   "id": "297ee1d2-0707-4d3f-80e4-93ec2abad3f2",
   "metadata": {},
   "outputs": [],
   "source": [
    "check_drop = full_data.groupby([\"YYYY_MM_DD\", \"application_id\"]).sum().reset_index()"
   ]
  },
  {
   "cell_type": "code",
   "execution_count": 103,
   "id": "39d555c7-68ab-4400-9d83-41b52da5f48a",
   "metadata": {},
   "outputs": [],
   "source": [
    "check_drop = check_drop[check_drop[\"is_applied\"] == 0.0][[\"YYYY_MM_DD\",  \"application_id\"]]"
   ]
  },
  {
   "cell_type": "code",
   "execution_count": 104,
   "id": "055b7859-8f19-4a1b-b87f-b3a095123f7d",
   "metadata": {},
   "outputs": [],
   "source": [
    "check_drop = check_drop.reset_index().iloc[:, 1:]"
   ]
  },
  {
   "cell_type": "code",
   "execution_count": 105,
   "id": "b71b2e87-d4a6-4870-8fc1-a94357155748",
   "metadata": {},
   "outputs": [
    {
     "data": {
      "text/html": [
       "<div>\n",
       "<style scoped>\n",
       "    .dataframe tbody tr th:only-of-type {\n",
       "        vertical-align: middle;\n",
       "    }\n",
       "\n",
       "    .dataframe tbody tr th {\n",
       "        vertical-align: top;\n",
       "    }\n",
       "\n",
       "    .dataframe thead th {\n",
       "        text-align: right;\n",
       "    }\n",
       "</style>\n",
       "<table border=\"1\" class=\"dataframe\">\n",
       "  <thead>\n",
       "    <tr style=\"text-align: right;\">\n",
       "      <th></th>\n",
       "      <th>YYYY_MM_DD</th>\n",
       "      <th>application_id</th>\n",
       "    </tr>\n",
       "  </thead>\n",
       "  <tbody>\n",
       "    <tr>\n",
       "      <th>0</th>\n",
       "      <td>2022-03-01</td>\n",
       "      <td>78</td>\n",
       "    </tr>\n",
       "    <tr>\n",
       "      <th>1</th>\n",
       "      <td>2022-03-01</td>\n",
       "      <td>131</td>\n",
       "    </tr>\n",
       "    <tr>\n",
       "      <th>2</th>\n",
       "      <td>2022-03-01</td>\n",
       "      <td>488</td>\n",
       "    </tr>\n",
       "    <tr>\n",
       "      <th>3</th>\n",
       "      <td>2022-03-01</td>\n",
       "      <td>870</td>\n",
       "    </tr>\n",
       "    <tr>\n",
       "      <th>4</th>\n",
       "      <td>2022-03-01</td>\n",
       "      <td>1975</td>\n",
       "    </tr>\n",
       "  </tbody>\n",
       "</table>\n",
       "</div>"
      ],
      "text/plain": [
       "   YYYY_MM_DD  application_id\n",
       "0  2022-03-01              78\n",
       "1  2022-03-01             131\n",
       "2  2022-03-01             488\n",
       "3  2022-03-01             870\n",
       "4  2022-03-01            1975"
      ]
     },
     "execution_count": 105,
     "metadata": {},
     "output_type": "execute_result"
    }
   ],
   "source": [
    "check_drop.head()"
   ]
  },
  {
   "cell_type": "code",
   "execution_count": 106,
   "id": "027037ae-2ddb-42ab-9012-e676a3fd41c4",
   "metadata": {},
   "outputs": [],
   "source": [
    "del_index = check_drop.merge(full_data.reset_index())[\"index\"]"
   ]
  },
  {
   "cell_type": "code",
   "execution_count": 107,
   "id": "f63d33f9-51ee-4e2a-8e14-4c0b8ff22c0c",
   "metadata": {},
   "outputs": [
    {
     "data": {
      "text/plain": [
       "(10269989, 37)"
      ]
     },
     "execution_count": 107,
     "metadata": {},
     "output_type": "execute_result"
    }
   ],
   "source": [
    "full_data.shape"
   ]
  },
  {
   "cell_type": "code",
   "execution_count": 108,
   "id": "2089ffd8-9639-4f03-a3a9-928c8b17f052",
   "metadata": {},
   "outputs": [
    {
     "data": {
      "text/plain": [
       "(4768898, 37)"
      ]
     },
     "execution_count": 108,
     "metadata": {},
     "output_type": "execute_result"
    }
   ],
   "source": [
    "full_data.drop(del_index).shape"
   ]
  },
  {
   "cell_type": "code",
   "execution_count": 109,
   "id": "2097b051-0d5c-4f4f-adbd-ce0a13ee5deb",
   "metadata": {},
   "outputs": [],
   "source": [
    "full_data = full_data.drop(del_index)"
   ]
  },
  {
   "cell_type": "code",
   "execution_count": 110,
   "id": "dfc01971-ccfb-407b-a5fa-2b9e39d2d79f",
   "metadata": {},
   "outputs": [],
   "source": [
    "full_data = full_data.reset_index().iloc[:, 1:]"
   ]
  },
  {
   "cell_type": "code",
   "execution_count": 111,
   "id": "a20fc4c0-7342-48f8-aabe-a4c347d9ab6e",
   "metadata": {},
   "outputs": [
    {
     "data": {
      "text/html": [
       "<div>\n",
       "<style scoped>\n",
       "    .dataframe tbody tr th:only-of-type {\n",
       "        vertical-align: middle;\n",
       "    }\n",
       "\n",
       "    .dataframe tbody tr th {\n",
       "        vertical-align: top;\n",
       "    }\n",
       "\n",
       "    .dataframe thead th {\n",
       "        text-align: right;\n",
       "    }\n",
       "</style>\n",
       "<table border=\"1\" class=\"dataframe\">\n",
       "  <thead>\n",
       "    <tr style=\"text-align: right;\">\n",
       "      <th></th>\n",
       "      <th>application_id</th>\n",
       "      <th>bank_id</th>\n",
       "      <th>product_id</th>\n",
       "      <th>loan_limit</th>\n",
       "      <th>loan_rate</th>\n",
       "      <th>is_applied</th>\n",
       "      <th>user_id</th>\n",
       "      <th>birth_year</th>\n",
       "      <th>gender</th>\n",
       "      <th>credit_score</th>\n",
       "      <th>...</th>\n",
       "      <th>num_total_login</th>\n",
       "      <th>loan_limit/max_loan_limit</th>\n",
       "      <th>loan_rate/min_loan_rate</th>\n",
       "      <th>desired_amount/existing_loan_amt</th>\n",
       "      <th>credit_score_nan</th>\n",
       "      <th>gender_birth_nan</th>\n",
       "      <th>existing_loan_cnt_binary</th>\n",
       "      <th>loan_limit/max_loan_limit_binary</th>\n",
       "      <th>loan_rate/min_loan_rate_binary</th>\n",
       "      <th>desired_amount/existing_loan_amt_binary</th>\n",
       "    </tr>\n",
       "  </thead>\n",
       "  <tbody>\n",
       "    <tr>\n",
       "      <th>count</th>\n",
       "      <td>4.768898e+06</td>\n",
       "      <td>4.768898e+06</td>\n",
       "      <td>4.768898e+06</td>\n",
       "      <td>4.768898e+06</td>\n",
       "      <td>4.768898e+06</td>\n",
       "      <td>4.768898e+06</td>\n",
       "      <td>4.768898e+06</td>\n",
       "      <td>4.768898e+06</td>\n",
       "      <td>4.768898e+06</td>\n",
       "      <td>4.768898e+06</td>\n",
       "      <td>...</td>\n",
       "      <td>4.768898e+06</td>\n",
       "      <td>4.768898e+06</td>\n",
       "      <td>4.768898e+06</td>\n",
       "      <td>4.768898e+06</td>\n",
       "      <td>4.768898e+06</td>\n",
       "      <td>4.768898e+06</td>\n",
       "      <td>4.768898e+06</td>\n",
       "      <td>4.768898e+06</td>\n",
       "      <td>4.768898e+06</td>\n",
       "      <td>4.768898e+06</td>\n",
       "    </tr>\n",
       "    <tr>\n",
       "      <th>mean</th>\n",
       "      <td>1.084746e+06</td>\n",
       "      <td>3.286260e+01</td>\n",
       "      <td>1.464794e+02</td>\n",
       "      <td>2.142432e+01</td>\n",
       "      <td>1.292187e+01</td>\n",
       "      <td>1.174934e-01</td>\n",
       "      <td>4.403966e+05</td>\n",
       "      <td>4.139744e+00</td>\n",
       "      <td>1.423543e+00</td>\n",
       "      <td>2.649998e+01</td>\n",
       "      <td>...</td>\n",
       "      <td>9.266221e+00</td>\n",
       "      <td>4.725309e-01</td>\n",
       "      <td>1.951055e+00</td>\n",
       "      <td>9.361650e+06</td>\n",
       "      <td>1.136929e-01</td>\n",
       "      <td>7.599240e-03</td>\n",
       "      <td>2.581919e-01</td>\n",
       "      <td>6.419535e-01</td>\n",
       "      <td>2.372561e-01</td>\n",
       "      <td>7.409261e-01</td>\n",
       "    </tr>\n",
       "    <tr>\n",
       "      <th>std</th>\n",
       "      <td>6.246656e+05</td>\n",
       "      <td>1.711634e+01</td>\n",
       "      <td>7.761873e+01</td>\n",
       "      <td>2.097704e+01</td>\n",
       "      <td>3.938808e+00</td>\n",
       "      <td>3.220073e-01</td>\n",
       "      <td>2.536662e+05</td>\n",
       "      <td>8.546618e+00</td>\n",
       "      <td>8.551310e+00</td>\n",
       "      <td>2.611872e+01</td>\n",
       "      <td>...</td>\n",
       "      <td>2.133063e+01</td>\n",
       "      <td>3.040836e-01</td>\n",
       "      <td>8.166967e-01</td>\n",
       "      <td>1.029453e+08</td>\n",
       "      <td>3.174380e-01</td>\n",
       "      <td>8.684177e-02</td>\n",
       "      <td>4.376401e-01</td>\n",
       "      <td>4.794259e-01</td>\n",
       "      <td>4.254006e-01</td>\n",
       "      <td>9.158805e-01</td>\n",
       "    </tr>\n",
       "    <tr>\n",
       "      <th>min</th>\n",
       "      <td>1.400000e+01</td>\n",
       "      <td>1.000000e+00</td>\n",
       "      <td>1.000000e+00</td>\n",
       "      <td>0.000000e+00</td>\n",
       "      <td>1.500000e+00</td>\n",
       "      <td>0.000000e+00</td>\n",
       "      <td>1.100000e+01</td>\n",
       "      <td>0.000000e+00</td>\n",
       "      <td>0.000000e+00</td>\n",
       "      <td>2.000000e+00</td>\n",
       "      <td>...</td>\n",
       "      <td>0.000000e+00</td>\n",
       "      <td>0.000000e+00</td>\n",
       "      <td>1.000000e+00</td>\n",
       "      <td>1.834862e-09</td>\n",
       "      <td>0.000000e+00</td>\n",
       "      <td>0.000000e+00</td>\n",
       "      <td>0.000000e+00</td>\n",
       "      <td>0.000000e+00</td>\n",
       "      <td>0.000000e+00</td>\n",
       "      <td>0.000000e+00</td>\n",
       "    </tr>\n",
       "    <tr>\n",
       "      <th>25%</th>\n",
       "      <td>5.443950e+05</td>\n",
       "      <td>2.000000e+01</td>\n",
       "      <td>7.100000e+01</td>\n",
       "      <td>8.000000e+00</td>\n",
       "      <td>9.500000e+00</td>\n",
       "      <td>0.000000e+00</td>\n",
       "      <td>2.213455e+05</td>\n",
       "      <td>2.000000e+00</td>\n",
       "      <td>0.000000e+00</td>\n",
       "      <td>1.500000e+01</td>\n",
       "      <td>...</td>\n",
       "      <td>1.000000e+00</td>\n",
       "      <td>2.142857e-01</td>\n",
       "      <td>1.259494e+00</td>\n",
       "      <td>2.362205e-01</td>\n",
       "      <td>0.000000e+00</td>\n",
       "      <td>0.000000e+00</td>\n",
       "      <td>0.000000e+00</td>\n",
       "      <td>0.000000e+00</td>\n",
       "      <td>0.000000e+00</td>\n",
       "      <td>0.000000e+00</td>\n",
       "    </tr>\n",
       "    <tr>\n",
       "      <th>50%</th>\n",
       "      <td>1.084771e+06</td>\n",
       "      <td>3.400000e+01</td>\n",
       "      <td>1.500000e+02</td>\n",
       "      <td>1.500000e+01</td>\n",
       "      <td>1.340000e+01</td>\n",
       "      <td>0.000000e+00</td>\n",
       "      <td>4.403010e+05</td>\n",
       "      <td>3.000000e+00</td>\n",
       "      <td>1.000000e+00</td>\n",
       "      <td>1.700000e+01</td>\n",
       "      <td>...</td>\n",
       "      <td>3.000000e+00</td>\n",
       "      <td>4.305555e-01</td>\n",
       "      <td>1.811594e+00</td>\n",
       "      <td>7.476636e-01</td>\n",
       "      <td>0.000000e+00</td>\n",
       "      <td>0.000000e+00</td>\n",
       "      <td>0.000000e+00</td>\n",
       "      <td>1.000000e+00</td>\n",
       "      <td>0.000000e+00</td>\n",
       "      <td>0.000000e+00</td>\n",
       "    </tr>\n",
       "    <tr>\n",
       "      <th>75%</th>\n",
       "      <td>1.625697e+06</td>\n",
       "      <td>4.700000e+01</td>\n",
       "      <td>2.160000e+02</td>\n",
       "      <td>2.900000e+01</td>\n",
       "      <td>1.590000e+01</td>\n",
       "      <td>0.000000e+00</td>\n",
       "      <td>6.607410e+05</td>\n",
       "      <td>5.000000e+00</td>\n",
       "      <td>1.000000e+00</td>\n",
       "      <td>2.100000e+01</td>\n",
       "      <td>...</td>\n",
       "      <td>1.000000e+01</td>\n",
       "      <td>7.000000e-01</td>\n",
       "      <td>2.437500e+00</td>\n",
       "      <td>3.000001e+06</td>\n",
       "      <td>0.000000e+00</td>\n",
       "      <td>0.000000e+00</td>\n",
       "      <td>1.000000e+00</td>\n",
       "      <td>1.000000e+00</td>\n",
       "      <td>0.000000e+00</td>\n",
       "      <td>2.000000e+00</td>\n",
       "    </tr>\n",
       "    <tr>\n",
       "      <th>max</th>\n",
       "      <td>2.167826e+06</td>\n",
       "      <td>6.400000e+01</td>\n",
       "      <td>2.700000e+02</td>\n",
       "      <td>9.900000e+01</td>\n",
       "      <td>2.000000e+01</td>\n",
       "      <td>1.000000e+00</td>\n",
       "      <td>8.796960e+05</td>\n",
       "      <td>9.900000e+01</td>\n",
       "      <td>9.900000e+01</td>\n",
       "      <td>9.900000e+01</td>\n",
       "      <td>...</td>\n",
       "      <td>1.365000e+03</td>\n",
       "      <td>1.000000e+00</td>\n",
       "      <td>6.862069e+00</td>\n",
       "      <td>1.000000e+10</td>\n",
       "      <td>1.000000e+00</td>\n",
       "      <td>1.000000e+00</td>\n",
       "      <td>1.000000e+00</td>\n",
       "      <td>1.000000e+00</td>\n",
       "      <td>1.000000e+00</td>\n",
       "      <td>2.000000e+00</td>\n",
       "    </tr>\n",
       "  </tbody>\n",
       "</table>\n",
       "<p>8 rows × 28 columns</p>\n",
       "</div>"
      ],
      "text/plain": [
       "       application_id       bank_id    product_id    loan_limit     loan_rate  \\\n",
       "count    4.768898e+06  4.768898e+06  4.768898e+06  4.768898e+06  4.768898e+06   \n",
       "mean     1.084746e+06  3.286260e+01  1.464794e+02  2.142432e+01  1.292187e+01   \n",
       "std      6.246656e+05  1.711634e+01  7.761873e+01  2.097704e+01  3.938808e+00   \n",
       "min      1.400000e+01  1.000000e+00  1.000000e+00  0.000000e+00  1.500000e+00   \n",
       "25%      5.443950e+05  2.000000e+01  7.100000e+01  8.000000e+00  9.500000e+00   \n",
       "50%      1.084771e+06  3.400000e+01  1.500000e+02  1.500000e+01  1.340000e+01   \n",
       "75%      1.625697e+06  4.700000e+01  2.160000e+02  2.900000e+01  1.590000e+01   \n",
       "max      2.167826e+06  6.400000e+01  2.700000e+02  9.900000e+01  2.000000e+01   \n",
       "\n",
       "         is_applied       user_id    birth_year        gender  credit_score  \\\n",
       "count  4.768898e+06  4.768898e+06  4.768898e+06  4.768898e+06  4.768898e+06   \n",
       "mean   1.174934e-01  4.403966e+05  4.139744e+00  1.423543e+00  2.649998e+01   \n",
       "std    3.220073e-01  2.536662e+05  8.546618e+00  8.551310e+00  2.611872e+01   \n",
       "min    0.000000e+00  1.100000e+01  0.000000e+00  0.000000e+00  2.000000e+00   \n",
       "25%    0.000000e+00  2.213455e+05  2.000000e+00  0.000000e+00  1.500000e+01   \n",
       "50%    0.000000e+00  4.403010e+05  3.000000e+00  1.000000e+00  1.700000e+01   \n",
       "75%    0.000000e+00  6.607410e+05  5.000000e+00  1.000000e+00  2.100000e+01   \n",
       "max    1.000000e+00  8.796960e+05  9.900000e+01  9.900000e+01  9.900000e+01   \n",
       "\n",
       "       ...  num_total_login  loan_limit/max_loan_limit  \\\n",
       "count  ...     4.768898e+06               4.768898e+06   \n",
       "mean   ...     9.266221e+00               4.725309e-01   \n",
       "std    ...     2.133063e+01               3.040836e-01   \n",
       "min    ...     0.000000e+00               0.000000e+00   \n",
       "25%    ...     1.000000e+00               2.142857e-01   \n",
       "50%    ...     3.000000e+00               4.305555e-01   \n",
       "75%    ...     1.000000e+01               7.000000e-01   \n",
       "max    ...     1.365000e+03               1.000000e+00   \n",
       "\n",
       "       loan_rate/min_loan_rate  desired_amount/existing_loan_amt  \\\n",
       "count             4.768898e+06                      4.768898e+06   \n",
       "mean              1.951055e+00                      9.361650e+06   \n",
       "std               8.166967e-01                      1.029453e+08   \n",
       "min               1.000000e+00                      1.834862e-09   \n",
       "25%               1.259494e+00                      2.362205e-01   \n",
       "50%               1.811594e+00                      7.476636e-01   \n",
       "75%               2.437500e+00                      3.000001e+06   \n",
       "max               6.862069e+00                      1.000000e+10   \n",
       "\n",
       "       credit_score_nan  gender_birth_nan  existing_loan_cnt_binary  \\\n",
       "count      4.768898e+06      4.768898e+06              4.768898e+06   \n",
       "mean       1.136929e-01      7.599240e-03              2.581919e-01   \n",
       "std        3.174380e-01      8.684177e-02              4.376401e-01   \n",
       "min        0.000000e+00      0.000000e+00              0.000000e+00   \n",
       "25%        0.000000e+00      0.000000e+00              0.000000e+00   \n",
       "50%        0.000000e+00      0.000000e+00              0.000000e+00   \n",
       "75%        0.000000e+00      0.000000e+00              1.000000e+00   \n",
       "max        1.000000e+00      1.000000e+00              1.000000e+00   \n",
       "\n",
       "       loan_limit/max_loan_limit_binary  loan_rate/min_loan_rate_binary  \\\n",
       "count                      4.768898e+06                    4.768898e+06   \n",
       "mean                       6.419535e-01                    2.372561e-01   \n",
       "std                        4.794259e-01                    4.254006e-01   \n",
       "min                        0.000000e+00                    0.000000e+00   \n",
       "25%                        0.000000e+00                    0.000000e+00   \n",
       "50%                        1.000000e+00                    0.000000e+00   \n",
       "75%                        1.000000e+00                    0.000000e+00   \n",
       "max                        1.000000e+00                    1.000000e+00   \n",
       "\n",
       "       desired_amount/existing_loan_amt_binary  \n",
       "count                             4.768898e+06  \n",
       "mean                              7.409261e-01  \n",
       "std                               9.158805e-01  \n",
       "min                               0.000000e+00  \n",
       "25%                               0.000000e+00  \n",
       "50%                               0.000000e+00  \n",
       "75%                               2.000000e+00  \n",
       "max                               2.000000e+00  \n",
       "\n",
       "[8 rows x 28 columns]"
      ]
     },
     "execution_count": 111,
     "metadata": {},
     "output_type": "execute_result"
    }
   ],
   "source": [
    "full_data.describe()"
   ]
  },
  {
   "cell_type": "code",
   "execution_count": null,
   "id": "482d3ed8-0e25-4d40-825c-9194c7bcab27",
   "metadata": {},
   "outputs": [],
   "source": []
  },
  {
   "cell_type": "code",
   "execution_count": null,
   "id": "34839cc5-a8f7-4fac-952c-6a9bf575704f",
   "metadata": {},
   "outputs": [],
   "source": []
  },
  {
   "cell_type": "code",
   "execution_count": 112,
   "id": "d362b964-43e2-4d31-8c7e-cf5360f6def1",
   "metadata": {},
   "outputs": [],
   "source": [
    "full_data = full_data.drop([\"YYYY_MM_DD\",\"loanapply_insert_time\", \"insert_time\"], axis = 1)\n",
    "test_submit_data = test_submit_data.drop([\"loanapply_insert_time\", \"insert_time\"], axis = 1)"
   ]
  },
  {
   "cell_type": "code",
   "execution_count": 113,
   "id": "b39fc4e5-000c-4209-b08b-db9f4b568b25",
   "metadata": {},
   "outputs": [],
   "source": [
    "full_data.to_csv(\"./dataset/full_data.csv\", index = False)\n",
    "test_submit_data.to_csv(\"./dataset/submit_test.csv\", index = False)"
   ]
  },
  {
   "cell_type": "markdown",
   "id": "3064d50d-2c17-4ecd-831e-7f207f06bd6c",
   "metadata": {},
   "source": [
    "### Dataset split (Purpose)"
   ]
  },
  {
   "cell_type": "code",
   "execution_count": 114,
   "id": "4bc6658c-1628-4d24-902e-d8bf67a347c5",
   "metadata": {},
   "outputs": [
    {
     "data": {
      "text/plain": [
       "array(['생활비', '대환대출', '사업자금', '투자', '기타', '전월세보증금', '주택구입', '자동차구입'],\n",
       "      dtype=object)"
      ]
     },
     "execution_count": 114,
     "metadata": {},
     "output_type": "execute_result"
    }
   ],
   "source": [
    "full_data[\"purpose\"].unique()"
   ]
  },
  {
   "cell_type": "code",
   "execution_count": 115,
   "id": "651d7bb8-75d5-49bc-acdf-3361102699a0",
   "metadata": {},
   "outputs": [
    {
     "name": "stdout",
     "output_type": "stream",
     "text": [
      "생활비 15.5\n",
      "대환대출 10.5\n",
      "주택구입 5.1\n",
      "사업자금 14.6\n",
      "투자 6.4\n",
      "기타 10.0\n",
      "전월세보증금 8.6\n",
      "자동차구입 7.6\n"
     ]
    }
   ],
   "source": [
    "print(\"생활비\", (full_data[full_data[\"purpose\"] ==\"생활비\"][\"is_applied\"].value_counts()[1] / full_data[full_data[\"purpose\"] ==\"생활비\"][\"is_applied\"].value_counts()[0]).round(3) * 100)\n",
    "print(\"대환대출\", (full_data[full_data[\"purpose\"] ==\"대환대출\"][\"is_applied\"].value_counts()[1] / full_data[full_data[\"purpose\"] ==\"대환대출\"][\"is_applied\"].value_counts()[0]).round(3) * 100)\n",
    "print(\"주택구입\", (full_data[full_data[\"purpose\"] ==\"주택구입\"][\"is_applied\"].value_counts()[1] / full_data[full_data[\"purpose\"] ==\"주택구입\"][\"is_applied\"].value_counts()[0]).round(3) * 100)\n",
    "print(\"사업자금\", (full_data[full_data[\"purpose\"] ==\"사업자금\"][\"is_applied\"].value_counts()[1] / full_data[full_data[\"purpose\"] ==\"사업자금\"][\"is_applied\"].value_counts()[0]).round(3) * 100)\n",
    "print(\"투자\", (full_data[full_data[\"purpose\"] ==\"투자\"][\"is_applied\"].value_counts()[1] / full_data[full_data[\"purpose\"] ==\"투자\"][\"is_applied\"].value_counts()[0]).round(3) * 100)\n",
    "print(\"기타\", (full_data[full_data[\"purpose\"] ==\"기타\"][\"is_applied\"].value_counts()[1] / full_data[full_data[\"purpose\"] ==\"기타\"][\"is_applied\"].value_counts()[0]).round(3) * 100)\n",
    "print(\"전월세보증금\", (full_data[full_data[\"purpose\"] ==\"전월세보증금\"][\"is_applied\"].value_counts()[1] / full_data[full_data[\"purpose\"] ==\"전월세보증금\"][\"is_applied\"].value_counts()[0]).round(3) * 100)\n",
    "print(\"자동차구입\", (full_data[full_data[\"purpose\"] ==\"자동차구입\"][\"is_applied\"].value_counts()[1] / full_data[full_data[\"purpose\"] ==\"자동차구입\"][\"is_applied\"].value_counts()[0]).round(3) * 100)\n"
   ]
  },
  {
   "cell_type": "code",
   "execution_count": 116,
   "id": "5aeb851c-6018-4593-9e9e-57e871980277",
   "metadata": {},
   "outputs": [
    {
     "data": {
      "text/plain": [
       "생활비       2798900\n",
       "대환대출      1363745\n",
       "사업자금       188142\n",
       "기타         138926\n",
       "전월세보증금      97365\n",
       "투자          89945\n",
       "주택구입        72114\n",
       "자동차구입       19761\n",
       "Name: purpose, dtype: int64"
      ]
     },
     "execution_count": 116,
     "metadata": {},
     "output_type": "execute_result"
    }
   ],
   "source": [
    "full_data[\"purpose\"].value_counts()"
   ]
  },
  {
   "cell_type": "code",
   "execution_count": 117,
   "id": "1b44a260-568e-48e0-9d3e-89aaa0013dcd",
   "metadata": {},
   "outputs": [
    {
     "data": {
      "text/plain": [
       "생활비       1672304\n",
       "대환대출      1007315\n",
       "전월세보증금     142645\n",
       "주택구입       136598\n",
       "사업자금       133374\n",
       "기타          96205\n",
       "투자          65986\n",
       "자동차구입        2812\n",
       "Name: purpose, dtype: int64"
      ]
     },
     "execution_count": 117,
     "metadata": {},
     "output_type": "execute_result"
    }
   ],
   "source": [
    "test_submit_data[\"purpose\"].value_counts()"
   ]
  },
  {
   "cell_type": "code",
   "execution_count": 118,
   "id": "aa1ed013-9d1b-4cfd-a370-798f81296e3f",
   "metadata": {},
   "outputs": [
    {
     "data": {
      "text/plain": [
       "Index(['application_id', 'bank_id', 'product_id', 'loan_limit', 'loan_rate',\n",
       "       'is_applied', 'user_id', 'birth_year', 'gender', 'credit_score',\n",
       "       'yearly_income', 'income_type', 'company_enter_month',\n",
       "       'employment_type', 'houseown_type', 'desired_amount', 'purpose',\n",
       "       'existing_loan_cnt', 'existing_loan_amt', 'num_not_approve',\n",
       "       'num_total_approve', 'num_approve', 'num_total_login',\n",
       "       'loan_limit/max_loan_limit', 'loan_rate/min_loan_rate',\n",
       "       'desired_amount/existing_loan_amt', 'credit_score_nan',\n",
       "       'gender_birth_nan', 'existing_loan_cnt_binary',\n",
       "       'loan_limit/max_loan_limit_binary', 'loan_rate/min_loan_rate_binary',\n",
       "       'desired_amount/existing_loan_amt_binary', 'hour', 'dayofweek'],\n",
       "      dtype='object')"
      ]
     },
     "execution_count": 118,
     "metadata": {},
     "output_type": "execute_result"
    }
   ],
   "source": [
    "full_data.columns"
   ]
  },
  {
   "cell_type": "code",
   "execution_count": null,
   "id": "dbfa5cd0-5d88-48c4-88cc-1823002a168e",
   "metadata": {},
   "outputs": [],
   "source": []
  },
  {
   "cell_type": "code",
   "execution_count": null,
   "id": "d48025ef-4650-4337-b97e-950bcd7a3bd8",
   "metadata": {},
   "outputs": [],
   "source": []
  },
  {
   "cell_type": "code",
   "execution_count": 119,
   "id": "285f3b51-7f33-4868-aa1c-abde7188d2c1",
   "metadata": {},
   "outputs": [],
   "source": [
    "from sklearn.preprocessing import LabelEncoder"
   ]
  },
  {
   "cell_type": "code",
   "execution_count": 120,
   "id": "5bf25722-8291-4784-82dd-6c29f230ac9e",
   "metadata": {},
   "outputs": [
    {
     "name": "stdout",
     "output_type": "stream",
     "text": [
      "['EARNEDINCOME' 'EARNEDINCOME2' 'FREELANCER' 'OTHERINCOME' 'PRACTITIONER'\n",
      " 'PRIVATEBUSINESS']\n",
      "['계약직' '기타' '일용직' '정규직']\n",
      "['기타가족소유' '배우자' '자가' '전월세']\n"
     ]
    }
   ],
   "source": [
    "# le_income_type\n",
    "\n",
    "le_income_type = LabelEncoder()\n",
    "le_income_type = le_income_type.fit(full_data[\"income_type\"])\n",
    "le_income_fitted = le_income_type.fit_transform(full_data[\"income_type\"])\n",
    "income_inverted = le_income_type.inverse_transform(le_income_fitted)\n",
    "\n",
    "print(le_income_type.classes_)\n",
    "\n",
    "# le_employment_type\n",
    "\n",
    "le_employment_type = LabelEncoder()\n",
    "le_employment_type = le_employment_type.fit(full_data[\"employment_type\"])\n",
    "le_employment_fitted = le_employment_type.fit_transform(full_data[\"employment_type\"])\n",
    "employment_inverted = le_employment_type.inverse_transform(le_employment_fitted)\n",
    "\n",
    "print(le_employment_type.classes_)\n",
    "\n",
    "# le_houseown_type\n",
    "\n",
    "le_houseown_type = LabelEncoder()\n",
    "le_houseown_type = le_houseown_type.fit(full_data[\"houseown_type\"])\n",
    "le_houseown_fitted = le_houseown_type.fit_transform(full_data[\"houseown_type\"])\n",
    "houseown_inverted = le_houseown_type.inverse_transform(le_houseown_fitted)\n",
    "\n",
    "print(le_houseown_type.classes_)"
   ]
  },
  {
   "cell_type": "code",
   "execution_count": 121,
   "id": "8d9670c9-102e-4e08-9008-11c93b94242b",
   "metadata": {},
   "outputs": [],
   "source": [
    "full_data[\"income_type\"]     = le_income_fitted\n",
    "full_data[\"employment_type\"] = le_employment_fitted\n",
    "full_data[\"houseown_type\"]   = le_houseown_fitted"
   ]
  },
  {
   "cell_type": "code",
   "execution_count": 122,
   "id": "5f482b32-6377-4a5a-9d32-01ed0e8f4373",
   "metadata": {},
   "outputs": [],
   "source": [
    "test_submit_data[\"income_type\"] = le_income_type.fit_transform(test_submit_data[\"income_type\"])\n",
    "test_submit_data[\"employment_type\"] =  le_employment_type.fit_transform(test_submit_data[\"employment_type\"])\n",
    "test_submit_data[\"houseown_type\"]= le_houseown_type.fit_transform(test_submit_data[\"houseown_type\"])"
   ]
  },
  {
   "cell_type": "code",
   "execution_count": 123,
   "id": "c49e7823-34ce-46cd-8fbe-8fde3e9fc01b",
   "metadata": {},
   "outputs": [
    {
     "name": "stdout",
     "output_type": "stream",
     "text": [
      "<class 'pandas.core.frame.DataFrame'>\n",
      "RangeIndex: 4768898 entries, 0 to 4768897\n",
      "Data columns (total 34 columns):\n",
      " #   Column                                   Dtype   \n",
      "---  ------                                   -----   \n",
      " 0   application_id                           int64   \n",
      " 1   bank_id                                  int64   \n",
      " 2   product_id                               int64   \n",
      " 3   loan_limit                               int64   \n",
      " 4   loan_rate                                float64 \n",
      " 5   is_applied                               float64 \n",
      " 6   user_id                                  int64   \n",
      " 7   birth_year                               int64   \n",
      " 8   gender                                   int64   \n",
      " 9   credit_score                             int64   \n",
      " 10  yearly_income                            int64   \n",
      " 11  income_type                              int64   \n",
      " 12  company_enter_month                      int64   \n",
      " 13  employment_type                          int64   \n",
      " 14  houseown_type                            int64   \n",
      " 15  desired_amount                           int64   \n",
      " 16  purpose                                  object  \n",
      " 17  existing_loan_cnt                        int64   \n",
      " 18  existing_loan_amt                        int64   \n",
      " 19  num_not_approve                          int64   \n",
      " 20  num_total_approve                        int64   \n",
      " 21  num_approve                              int64   \n",
      " 22  num_total_login                          int64   \n",
      " 23  loan_limit/max_loan_limit                float64 \n",
      " 24  loan_rate/min_loan_rate                  float64 \n",
      " 25  desired_amount/existing_loan_amt         float64 \n",
      " 26  credit_score_nan                         int64   \n",
      " 27  gender_birth_nan                         int64   \n",
      " 28  existing_loan_cnt_binary                 int64   \n",
      " 29  loan_limit/max_loan_limit_binary         int64   \n",
      " 30  loan_rate/min_loan_rate_binary           int64   \n",
      " 31  desired_amount/existing_loan_amt_binary  int64   \n",
      " 32  hour                                     category\n",
      " 33  dayofweek                                category\n",
      "dtypes: category(2), float64(5), int64(26), object(1)\n",
      "memory usage: 1.1+ GB\n"
     ]
    }
   ],
   "source": [
    "full_data.info()"
   ]
  },
  {
   "cell_type": "code",
   "execution_count": 124,
   "id": "4fdc82e2-9f2c-4b76-bea7-fd6e2aed2a32",
   "metadata": {},
   "outputs": [],
   "source": [
    "full_data.to_csv(\"./dataset/full_data.csv\", index = False)\n",
    "test_submit_data.to_csv(\"./dataset/submit_test.csv\", index = False)"
   ]
  },
  {
   "cell_type": "code",
   "execution_count": 125,
   "id": "7858a007-5262-400f-a94b-82ec5cc2ae22",
   "metadata": {},
   "outputs": [
    {
     "data": {
      "text/plain": [
       "count    4.768898e+06\n",
       "mean     9.361650e+06\n",
       "std      1.029453e+08\n",
       "min      1.834862e-09\n",
       "25%      2.362205e-01\n",
       "50%      7.476636e-01\n",
       "75%      3.000001e+06\n",
       "max      1.000000e+10\n",
       "Name: desired_amount/existing_loan_amt, dtype: float64"
      ]
     },
     "execution_count": 125,
     "metadata": {},
     "output_type": "execute_result"
    }
   ],
   "source": [
    "full_data[\"desired_amount/existing_loan_amt\"].describe()"
   ]
  },
  {
   "cell_type": "code",
   "execution_count": 126,
   "id": "f92173ae-d78f-4ccb-98a6-3c67beb2e7e8",
   "metadata": {},
   "outputs": [
    {
     "data": {
      "text/plain": [
       "count    3.257239e+06\n",
       "mean     1.760670e+07\n",
       "std      1.239431e+08\n",
       "min      1.834862e-09\n",
       "25%      3.000000e-01\n",
       "50%      9.259259e-01\n",
       "75%      3.000001e+06\n",
       "max      1.000000e+10\n",
       "Name: desired_amount/existing_loan_amt, dtype: float64"
      ]
     },
     "execution_count": 126,
     "metadata": {},
     "output_type": "execute_result"
    }
   ],
   "source": [
    "test_submit_data[\"desired_amount/existing_loan_amt\"].describe()"
   ]
  },
  {
   "cell_type": "code",
   "execution_count": null,
   "id": "55b06fc2-6234-401a-9906-e29d892c7fb5",
   "metadata": {},
   "outputs": [],
   "source": []
  },
  {
   "cell_type": "code",
   "execution_count": 144,
   "id": "640bef34-ca8a-4118-9bd9-d2127464bfd4",
   "metadata": {},
   "outputs": [],
   "source": [
    "k = full_data.groupby(\"num_total_login\").mean().reset_index()[[\"num_total_login\", \"is_applied\"]]"
   ]
  },
  {
   "cell_type": "code",
   "execution_count": 145,
   "id": "9dd5496b-e9ca-4c98-893f-07a5549f1712",
   "metadata": {},
   "outputs": [
    {
     "data": {
      "text/plain": [
       "<AxesSubplot: >"
      ]
     },
     "execution_count": 145,
     "metadata": {},
     "output_type": "execute_result"
    },
    {
     "data": {
      "image/png": "[encoded data removed]",
      "text/plain": [
       "<Figure size 640x480 with 1 Axes>"
      ]
     },
     "metadata": {},
     "output_type": "display_data"
    }
   ],
   "source": [
    "k[\"is_applied\"].plot()"
   ]
  },
  {
   "cell_type": "code",
   "execution_count": 139,
   "id": "67279aa2-3af8-4671-8b50-c6e9cf3823dd",
   "metadata": {},
   "outputs": [
    {
     "data": {
      "text/html": [
       "<div>\n",
       "<style scoped>\n",
       "    .dataframe tbody tr th:only-of-type {\n",
       "        vertical-align: middle;\n",
       "    }\n",
       "\n",
       "    .dataframe tbody tr th {\n",
       "        vertical-align: top;\n",
       "    }\n",
       "\n",
       "    .dataframe thead th {\n",
       "        text-align: right;\n",
       "    }\n",
       "</style>\n",
       "<table border=\"1\" class=\"dataframe\">\n",
       "  <thead>\n",
       "    <tr style=\"text-align: right;\">\n",
       "      <th></th>\n",
       "      <th>num_not_approve</th>\n",
       "      <th>is_applied</th>\n",
       "    </tr>\n",
       "  </thead>\n",
       "  <tbody>\n",
       "    <tr>\n",
       "      <th>0</th>\n",
       "      <td>0</td>\n",
       "      <td>0.117521</td>\n",
       "    </tr>\n",
       "    <tr>\n",
       "      <th>1</th>\n",
       "      <td>1</td>\n",
       "      <td>0.117106</td>\n",
       "    </tr>\n",
       "    <tr>\n",
       "      <th>2</th>\n",
       "      <td>2</td>\n",
       "      <td>0.113139</td>\n",
       "    </tr>\n",
       "    <tr>\n",
       "      <th>3</th>\n",
       "      <td>3</td>\n",
       "      <td>0.119018</td>\n",
       "    </tr>\n",
       "    <tr>\n",
       "      <th>4</th>\n",
       "      <td>4</td>\n",
       "      <td>0.118729</td>\n",
       "    </tr>\n",
       "    <tr>\n",
       "      <th>...</th>\n",
       "      <td>...</td>\n",
       "      <td>...</td>\n",
       "    </tr>\n",
       "    <tr>\n",
       "      <th>110</th>\n",
       "      <td>235</td>\n",
       "      <td>0.000000</td>\n",
       "    </tr>\n",
       "    <tr>\n",
       "      <th>111</th>\n",
       "      <td>240</td>\n",
       "      <td>0.166667</td>\n",
       "    </tr>\n",
       "    <tr>\n",
       "      <th>112</th>\n",
       "      <td>256</td>\n",
       "      <td>0.333333</td>\n",
       "    </tr>\n",
       "    <tr>\n",
       "      <th>113</th>\n",
       "      <td>280</td>\n",
       "      <td>0.500000</td>\n",
       "    </tr>\n",
       "    <tr>\n",
       "      <th>114</th>\n",
       "      <td>345</td>\n",
       "      <td>0.000000</td>\n",
       "    </tr>\n",
       "  </tbody>\n",
       "</table>\n",
       "<p>115 rows × 2 columns</p>\n",
       "</div>"
      ],
      "text/plain": [
       "     num_not_approve  is_applied\n",
       "0                  0    0.117521\n",
       "1                  1    0.117106\n",
       "2                  2    0.113139\n",
       "3                  3    0.119018\n",
       "4                  4    0.118729\n",
       "..               ...         ...\n",
       "110              235    0.000000\n",
       "111              240    0.166667\n",
       "112              256    0.333333\n",
       "113              280    0.500000\n",
       "114              345    0.000000\n",
       "\n",
       "[115 rows x 2 columns]"
      ]
     },
     "execution_count": 139,
     "metadata": {},
     "output_type": "execute_result"
    }
   ],
   "source": [
    "k"
   ]
  },
  {
   "cell_type": "code",
   "execution_count": null,
   "id": "71229af3-0739-4b2a-b8e8-e36580589866",
   "metadata": {},
   "outputs": [],
   "source": []
  },
  {
   "cell_type": "code",
   "execution_count": 128,
   "id": "432bc80f-1bae-45a3-b6e8-3a11e7dce507",
   "metadata": {},
   "outputs": [
    {
     "data": {
      "text/plain": [
       "0          5\n",
       "1          5\n",
       "2          0\n",
       "3          0\n",
       "4          0\n",
       "          ..\n",
       "4768893    0\n",
       "4768894    0\n",
       "4768895    0\n",
       "4768896    0\n",
       "4768897    0\n",
       "Name: num_not_approve, Length: 4768898, dtype: int64"
      ]
     },
     "execution_count": 128,
     "metadata": {},
     "output_type": "execute_result"
    }
   ],
   "source": [
    "full_data[\"num_not_approve\"]"
   ]
  },
  {
   "cell_type": "code",
   "execution_count": 127,
   "id": "fe9bfe91-3c07-4c1d-9053-492af20a141d",
   "metadata": {},
   "outputs": [
    {
     "data": {
      "text/plain": [
       "생활비       2798900\n",
       "대환대출      1363745\n",
       "사업자금       188142\n",
       "기타         138926\n",
       "전월세보증금      97365\n",
       "투자          89945\n",
       "주택구입        72114\n",
       "자동차구입       19761\n",
       "Name: purpose, dtype: int64"
      ]
     },
     "execution_count": 127,
     "metadata": {},
     "output_type": "execute_result"
    }
   ],
   "source": [
    "full_data[\"purpose\"].value_counts()"
   ]
  },
  {
   "cell_type": "code",
   "execution_count": 89,
   "id": "88dc98df-7626-449f-9a10-4a89ec59c340",
   "metadata": {},
   "outputs": [
    {
     "name": "stdout",
     "output_type": "stream",
     "text": [
      "<class 'pandas.core.frame.DataFrame'>\n",
      "RangeIndex: 4768898 entries, 0 to 4768897\n",
      "Data columns (total 30 columns):\n",
      " #   Column                            Dtype   \n",
      "---  ------                            -----   \n",
      " 0   application_id                    int64   \n",
      " 1   bank_id                           int64   \n",
      " 2   product_id                        int64   \n",
      " 3   loan_limit                        int64   \n",
      " 4   loan_rate                         float64 \n",
      " 5   is_applied                        float64 \n",
      " 6   user_id                           int64   \n",
      " 7   birth_year                        int64   \n",
      " 8   gender                            int64   \n",
      " 9   credit_score                      int64   \n",
      " 10  yearly_income                     int64   \n",
      " 11  income_type                       int64   \n",
      " 12  company_enter_month               int64   \n",
      " 13  employment_type                   int64   \n",
      " 14  houseown_type                     int64   \n",
      " 15  desired_amount                    int64   \n",
      " 16  purpose                           object  \n",
      " 17  existing_loan_cnt                 int64   \n",
      " 18  existing_loan_amt                 int64   \n",
      " 19  num_not_approve                   int64   \n",
      " 20  num_total_approve                 int64   \n",
      " 21  num_approve                       int64   \n",
      " 22  num_total_login                   int64   \n",
      " 23  loan_limit/max_loan_limit         float64 \n",
      " 24  loan_rate/min_loan_rate           float64 \n",
      " 25  desired_amount/existing_loan_amt  float64 \n",
      " 26  credit_score_nan                  int64   \n",
      " 27  gender_birth_nan                  int64   \n",
      " 28  hour                              category\n",
      " 29  dayofweek                         category\n",
      "dtypes: category(2), float64(5), int64(22), object(1)\n",
      "memory usage: 1.0+ GB\n"
     ]
    }
   ],
   "source": [
    "full_data.info()"
   ]
  },
  {
   "cell_type": "code",
   "execution_count": null,
   "id": "6d57000f-0e77-4f54-9f7f-561981959812",
   "metadata": {},
   "outputs": [],
   "source": []
  }
 ],
 "metadata": {
  "kernelspec": {
   "display_name": "bigcon",
   "language": "python",
   "name": "bigcon"
  },
  "language_info": {
   "codemirror_mode": {
    "name": "ipython",
    "version": 3
   },
   "file_extension": ".py",
   "mimetype": "text/x-python",
   "name": "python",
   "nbconvert_exporter": "python",
   "pygments_lexer": "ipython3",
   "version": "3.8.13"
  }
 },
 "nbformat": 4,
 "nbformat_minor": 5
}
