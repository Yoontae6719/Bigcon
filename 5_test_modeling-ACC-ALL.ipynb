{
 "cells": [
  {
   "cell_type": "code",
   "execution_count": 1,
   "id": "6e0f343b-ad98-4362-95b5-f02bd168df1c",
   "metadata": {
    "tags": []
   },
   "outputs": [
    {
     "name": "stderr",
     "output_type": "stream",
     "text": [
      "/opt/conda/envs/bigcon/lib/python3.8/site-packages/tqdm/auto.py:22: TqdmWarning: IProgress not found. Please update jupyter and ipywidgets. See https://ipywidgets.readthedocs.io/en/stable/user_install.html\n",
      "  from .autonotebook import tqdm as notebook_tqdm\n"
     ]
    }
   ],
   "source": [
    "from glob import glob\n",
    "from tqdm import tqdm\n",
    "#from rdkit import Chem\n",
    "import numpy as np\n",
    "import pandas as pd\n",
    "import re\n",
    "import shutil\n",
    "import os\n",
    "\n",
    "import autogluon\n",
    "from autogluon.common.utils.utils import setup_outputdir\n",
    "from autogluon.tabular import TabularDataset, TabularPredictor\n",
    "from autogluon.core.utils.loaders import load_pkl\n",
    "from autogluon.core.utils.savers import save_pkl\n",
    "import os.path\n",
    "import sklearn\n",
    "from sklearn.model_selection import train_test_split\n",
    "import autogluon.core as ag\n",
    "import pandas as pd\n",
    "import numpy as np\n",
    "\n",
    "import pandas as pd\n",
    "import random\n",
    "import argparse\n",
    "import os\n",
    "from sklearn.preprocessing import LabelEncoder\n",
    "from sklearn.pipeline import Pipeline\n",
    "import numpy as np\n",
    "from sklearn.model_selection import StratifiedShuffleSplit\n",
    "\n",
    "import glob"
   ]
  },
  {
   "cell_type": "code",
   "execution_count": 2,
   "id": "ec088f34-f159-4e26-95b7-d0cf87637639",
   "metadata": {},
   "outputs": [],
   "source": [
    "import datetime \n",
    "import time     "
   ]
  },
  {
   "cell_type": "code",
   "execution_count": 3,
   "id": "b687cacb-e2a8-460c-92a5-eddc1255e1d0",
   "metadata": {},
   "outputs": [],
   "source": [
    "full_data = pd.read_csv(\"./dataset/full_data.csv\")"
   ]
  },
  {
   "cell_type": "code",
   "execution_count": 4,
   "id": "fa7b0cac-0b70-41ba-9701-5a51b85097da",
   "metadata": {},
   "outputs": [
    {
     "name": "stdout",
     "output_type": "stream",
     "text": [
      "<class 'pandas.core.frame.DataFrame'>\n",
      "RangeIndex: 4768898 entries, 0 to 4768897\n",
      "Data columns (total 34 columns):\n",
      " #   Column                                   Dtype  \n",
      "---  ------                                   -----  \n",
      " 0   application_id                           int64  \n",
      " 1   bank_id                                  int64  \n",
      " 2   product_id                               int64  \n",
      " 3   loan_limit                               int64  \n",
      " 4   loan_rate                                float64\n",
      " 5   is_applied                               float64\n",
      " 6   user_id                                  int64  \n",
      " 7   birth_year                               int64  \n",
      " 8   gender                                   int64  \n",
      " 9   credit_score                             int64  \n",
      " 10  yearly_income                            int64  \n",
      " 11  income_type                              int64  \n",
      " 12  company_enter_month                      int64  \n",
      " 13  employment_type                          int64  \n",
      " 14  houseown_type                            int64  \n",
      " 15  desired_amount                           int64  \n",
      " 16  purpose                                  object \n",
      " 17  existing_loan_cnt                        int64  \n",
      " 18  existing_loan_amt                        int64  \n",
      " 19  num_not_approve                          int64  \n",
      " 20  num_total_approve                        int64  \n",
      " 21  num_approve                              int64  \n",
      " 22  num_total_login                          int64  \n",
      " 23  loan_limit/max_loan_limit                float64\n",
      " 24  loan_rate/min_loan_rate                  float64\n",
      " 25  desired_amount/existing_loan_amt         float64\n",
      " 26  credit_score_nan                         int64  \n",
      " 27  gender_birth_nan                         int64  \n",
      " 28  existing_loan_cnt_binary                 int64  \n",
      " 29  loan_limit/max_loan_limit_binary         int64  \n",
      " 30  loan_rate/min_loan_rate_binary           int64  \n",
      " 31  desired_amount/existing_loan_amt_binary  int64  \n",
      " 32  hour                                     int64  \n",
      " 33  dayofweek                                int64  \n",
      "dtypes: float64(5), int64(28), object(1)\n",
      "memory usage: 1.2+ GB\n"
     ]
    }
   ],
   "source": [
    "full_data.info()"
   ]
  },
  {
   "cell_type": "code",
   "execution_count": 5,
   "id": "ee0ac9f0-18e4-4aed-93c1-e85de4f1c223",
   "metadata": {},
   "outputs": [
    {
     "name": "stdout",
     "output_type": "stream",
     "text": [
      "['기타' '대환대출' '사업자금' '생활비' '자동차구입' '전월세보증금' '주택구입' '투자']\n"
     ]
    }
   ],
   "source": [
    "# le_income_type\n",
    "\n",
    "le_purpose_type = LabelEncoder()\n",
    "le_purpose_type = le_purpose_type.fit(full_data[\"purpose\"])\n",
    "le_purpose_fitted = le_purpose_type.fit_transform(full_data[\"purpose\"])\n",
    "purpose_inverted = le_purpose_type.inverse_transform(le_purpose_fitted)\n",
    "\n",
    "print(le_purpose_type.classes_)"
   ]
  },
  {
   "cell_type": "code",
   "execution_count": 6,
   "id": "a6a1c89b-936b-4667-b81f-50d4864f9da7",
   "metadata": {},
   "outputs": [],
   "source": [
    "full_data[\"purpose\"] = le_purpose_fitted"
   ]
  },
  {
   "cell_type": "code",
   "execution_count": 7,
   "id": "032ba6da-d9b7-4255-99df-16612e3146d9",
   "metadata": {},
   "outputs": [],
   "source": [
    "full_data[\"bank_id\"] = full_data[\"bank_id\"].astype('category')\n",
    "full_data[\"product_id\"] = full_data[\"product_id\"].astype('category')\n",
    "full_data[\"loan_limit\"] = full_data[\"loan_limit\"].astype('category')\n",
    "full_data[\"birth_year\"] = full_data[\"birth_year\"].astype('category')\n",
    "\n",
    "full_data[\"gender\"] = full_data[\"gender\"].astype('category')\n",
    "full_data[\"credit_score\"] = full_data[\"credit_score\"].astype('category')\n",
    "full_data[\"yearly_income\"] = full_data[\"yearly_income\"].astype('category')\n",
    "full_data[\"income_type\"] = full_data[\"income_type\"].astype('category')\n",
    "full_data[\"company_enter_month\"] = full_data[\"company_enter_month\"].astype('category')\n",
    "\n",
    "full_data[\"employment_type\"] = full_data[\"employment_type\"].astype('category')\n",
    "full_data[\"houseown_type\"] = full_data[\"houseown_type\"].astype('category')\n",
    "full_data[\"desired_amount\"] = full_data[\"desired_amount\"].astype('category')\n",
    "full_data[\"existing_loan_cnt\"] = full_data[\"existing_loan_cnt\"].astype('category')\n",
    "full_data[\"existing_loan_amt\"] = full_data[\"existing_loan_amt\"].astype('category')\n",
    "\n",
    "full_data[\"credit_score_nan\"] = full_data[\"credit_score_nan\"].astype('category')\n",
    "full_data[\"gender_birth_nan\"] = full_data[\"gender_birth_nan\"].astype('category')\n",
    "full_data[\"loan_limit/max_loan_limit_binary\"] = full_data[\"loan_limit/max_loan_limit_binary\"].astype('category')\n",
    "full_data[\"loan_rate/min_loan_rate_binary\"] = full_data[\"loan_rate/min_loan_rate_binary\"].astype('category')\n",
    "\n",
    "full_data[\"desired_amount/existing_loan_amt_binary\"] = full_data[\"desired_amount/existing_loan_amt_binary\"].astype('category')\n",
    "full_data[\"hour\"] = full_data[\"hour\"].astype('category')\n",
    "full_data[\"dayofweek\"] = full_data[\"dayofweek\"].astype('category')\n",
    "full_data[\"purpose\"] = full_data[\"purpose\"].astype('category')\n",
    "full_data[\"existing_loan_cnt_binary\"] = full_data[\"existing_loan_cnt_binary\"].astype(\"category\")"
   ]
  },
  {
   "cell_type": "code",
   "execution_count": 8,
   "id": "a3927612-030a-437e-bec8-70e17b8d238a",
   "metadata": {},
   "outputs": [
    {
     "name": "stdout",
     "output_type": "stream",
     "text": [
      "<class 'pandas.core.frame.DataFrame'>\n",
      "RangeIndex: 4768898 entries, 0 to 4768897\n",
      "Data columns (total 34 columns):\n",
      " #   Column                                   Dtype   \n",
      "---  ------                                   -----   \n",
      " 0   application_id                           int64   \n",
      " 1   bank_id                                  category\n",
      " 2   product_id                               category\n",
      " 3   loan_limit                               category\n",
      " 4   loan_rate                                float64 \n",
      " 5   is_applied                               float64 \n",
      " 6   user_id                                  int64   \n",
      " 7   birth_year                               category\n",
      " 8   gender                                   category\n",
      " 9   credit_score                             category\n",
      " 10  yearly_income                            category\n",
      " 11  income_type                              category\n",
      " 12  company_enter_month                      category\n",
      " 13  employment_type                          category\n",
      " 14  houseown_type                            category\n",
      " 15  desired_amount                           category\n",
      " 16  purpose                                  category\n",
      " 17  existing_loan_cnt                        category\n",
      " 18  existing_loan_amt                        category\n",
      " 19  num_not_approve                          int64   \n",
      " 20  num_total_approve                        int64   \n",
      " 21  num_approve                              int64   \n",
      " 22  num_total_login                          int64   \n",
      " 23  loan_limit/max_loan_limit                float64 \n",
      " 24  loan_rate/min_loan_rate                  float64 \n",
      " 25  desired_amount/existing_loan_amt         float64 \n",
      " 26  credit_score_nan                         category\n",
      " 27  gender_birth_nan                         category\n",
      " 28  existing_loan_cnt_binary                 category\n",
      " 29  loan_limit/max_loan_limit_binary         category\n",
      " 30  loan_rate/min_loan_rate_binary           category\n",
      " 31  desired_amount/existing_loan_amt_binary  category\n",
      " 32  hour                                     category\n",
      " 33  dayofweek                                category\n",
      "dtypes: category(23), float64(5), int64(6)\n",
      "memory usage: 509.4 MB\n"
     ]
    }
   ],
   "source": [
    "full_data.info()"
   ]
  },
  {
   "cell_type": "code",
   "execution_count": 9,
   "id": "b4b06512-9c80-498f-a7f8-eb5f5acb3fa8",
   "metadata": {},
   "outputs": [
    {
     "data": {
      "text/plain": [
       "[3, 1, 2, 7, 0, 5, 6, 4]\n",
       "Categories (8, int64): [0, 1, 2, 3, 4, 5, 6, 7]"
      ]
     },
     "execution_count": 9,
     "metadata": {},
     "output_type": "execute_result"
    }
   ],
   "source": [
    "full_data[\"purpose\"].unique()"
   ]
  },
  {
   "cell_type": "code",
   "execution_count": 10,
   "id": "1564699f-cf8a-4444-a688-5141b7ef45e2",
   "metadata": {},
   "outputs": [],
   "source": [
    "full_data = full_data.drop([\"application_id\", \"user_id\"], axis = 1)"
   ]
  },
  {
   "cell_type": "markdown",
   "id": "ec428197-f95d-4094-95d8-e59de64618d0",
   "metadata": {},
   "source": [
    "### K fold ( Set 5 Fold)"
   ]
  },
  {
   "cell_type": "code",
   "execution_count": 12,
   "id": "fca7de23-1edf-42ac-a185-850c6939de21",
   "metadata": {},
   "outputs": [],
   "source": [
    "def k_fold_result(data):\n",
    "    ## Test set setting\n",
    "    data = data.reset_index().iloc[:, 1:]\n",
    "    \n",
    "    train, test = train_test_split(data, test_size=0.15,   random_state=20205289,  stratify=data['is_applied'])\n",
    "\n",
    "    train = train.reset_index().iloc[:, 1:]\n",
    "    test = test.reset_index().iloc[:, 1:]\n",
    "\n",
    "    from sklearn.model_selection import StratifiedKFold\n",
    "    kf = StratifiedKFold(n_splits=5, shuffle=True, random_state=20205289)\n",
    "    for fold, (train_idx, val_idx) in enumerate(kf.split(range(len(train)), y=train['is_applied'])):\n",
    "        train.loc[val_idx, 'fold'] = fold\n",
    "        \n",
    "    return train, test"
   ]
  },
  {
   "cell_type": "markdown",
   "id": "8f3a65b0-d2a2-411d-a8cd-6346265a5c13",
   "metadata": {},
   "source": [
    "### Modeling"
   ]
  },
  {
   "cell_type": "code",
   "execution_count": 13,
   "id": "942e11e0-f08a-47eb-8fb6-ad4dc5960cd4",
   "metadata": {},
   "outputs": [],
   "source": [
    "def modeling(dataset, fold):\n",
    "    \n",
    "    dataset, test = k_fold_result(dataset)\n",
    "    test.to_csv(f\"./fold_data/model_all_test.csv\")\n",
    "    \n",
    "    train = dataset.reset_index().iloc[:, 1:]\n",
    "    train[\"is_applied\"] = train[\"is_applied\"].astype(int)\n",
    "    \n",
    "    for i in range(0, fold):\n",
    "\n",
    "        val_idx = list(train[train['fold'] == int(i)].index)\n",
    "        val_df = train[train['fold'] == i].reset_index(drop=True).iloc[:, :-1]\n",
    "        train_df = train[train['fold'] != i].reset_index(drop=True).iloc[:, :-1]\n",
    "\n",
    "        labels = 'is_applied'\n",
    "        problem_types = 'binary'  \n",
    "        save_path = f'model_test_all/model_all_fold_{i}'  \n",
    "\n",
    "        excluded_model_types = ['KNN', \"NN_TORCH\", \"FASTAI\", \"CAT\", \"Cat\"]\n",
    "        multi_predictor = TabularPredictor(label=labels, problem_type=problem_types, eval_metric=\"f1\", path=save_path)\n",
    "        multi_predictor.fit(train_df, tuning_data=val_df, excluded_model_types=excluded_model_types, hyperparameters = \"light\") #['default', 'light', 'very_light', 'toy', 'multimodal', 'interpretable']\n",
    "        \n",
    "        train_df.to_csv(f\"./fold_data/model_all_fold_{i}.csv\")\n",
    "        val_df.to_csv(f\"./fold_data/model_all_fold_{i}.csv\")\n",
    "        \n",
    "        time.sleep(60)\n",
    "        print(\"TIME\")\n",
    "    \n",
    "    return test\n",
    "    "
   ]
  },
  {
   "cell_type": "code",
   "execution_count": null,
   "id": "e227fcfb-ca42-42cc-b4d4-b1889b2872a4",
   "metadata": {},
   "outputs": [],
   "source": []
  },
  {
   "cell_type": "code",
   "execution_count": 13,
   "id": "8b1b7418-3860-4418-b481-5b1f6bd65a28",
   "metadata": {
    "tags": []
   },
   "outputs": [
    {
     "name": "stderr",
     "output_type": "stream",
     "text": [
      "Warning: Training may take a very long time because `time_limit` was not specified and `train_data` is large (3242850 samples, 311.32 MB).\n",
      "\tConsider setting `time_limit` to ensure training finishes within an expected duration or experiment with a small portion of `train_data` to identify an ideal `presets` and `hyperparameters` configuration.\n",
      "Beginning AutoGluon training ...\n",
      "AutoGluon will save models to \"model_test_all/model_all_fold_0/\"\n",
      "AutoGluon Version:  0.5.3b20220913\n",
      "Python Version:     3.8.13\n",
      "Operating System:   Linux\n",
      "Train Data Rows:    3242850\n",
      "Train Data Columns: 31\n",
      "Tuning Data Rows:    810713\n",
      "Tuning Data Columns: 31\n",
      "Label Column: is_applied\n",
      "Preprocessing data ...\n",
      "Selected class <--> label mapping:  class 1 = 1, class 0 = 0\n",
      "Using Feature Generators to preprocess the data ...\n",
      "Fitting AutoMLPipelineFeatureGenerator...\n",
      "\tAvailable Memory:                    70922.49 MB\n",
      "\tTrain Data (Original)  Memory Usage: 356.72 MB (0.5% of available memory)\n",
      "\tInferring data type of each feature based on column values. Set feature_metadata_in to manually specify special dtypes of the features.\n",
      "\tStage 1 Generators:\n",
      "\t\tFitting AsTypeFeatureGenerator...\n",
      "\t\t\tNote: Converting 5 features to boolean dtype as they only contain 2 unique values.\n",
      "\tStage 2 Generators:\n",
      "\t\tFitting FillNaFeatureGenerator...\n",
      "\tStage 3 Generators:\n",
      "\t\tFitting IdentityFeatureGenerator...\n",
      "\t\tFitting CategoryFeatureGenerator...\n",
      "\t\t\tFitting CategoryMemoryMinimizeFeatureGenerator...\n",
      "\tStage 4 Generators:\n",
      "\t\tFitting DropUniqueFeatureGenerator...\n",
      "\tTypes of features in original data (raw dtype, special dtypes):\n",
      "\t\t('category', []) : 23 | ['bank_id', 'product_id', 'loan_limit', 'birth_year', 'gender', ...]\n",
      "\t\t('float', [])    :  4 | ['loan_rate', 'loan_limit/max_loan_limit', 'loan_rate/min_loan_rate', 'desired_amount/existing_loan_amt']\n",
      "\t\t('int', [])      :  4 | ['num_not_approve', 'num_total_approve', 'num_approve', 'num_total_login']\n",
      "\tTypes of features in processed data (raw dtype, special dtypes):\n",
      "\t\t('category', [])  : 18 | ['bank_id', 'product_id', 'loan_limit', 'birth_year', 'gender', ...]\n",
      "\t\t('float', [])     :  4 | ['loan_rate', 'loan_limit/max_loan_limit', 'loan_rate/min_loan_rate', 'desired_amount/existing_loan_amt']\n",
      "\t\t('int', [])       :  4 | ['num_not_approve', 'num_total_approve', 'num_approve', 'num_total_login']\n",
      "\t\t('int', ['bool']) :  5 | ['credit_score_nan', 'gender_birth_nan', 'existing_loan_cnt_binary', 'loan_limit/max_loan_limit_binary', 'loan_rate/min_loan_rate_binary']\n",
      "\t7.0s = Fit runtime\n",
      "\t31 features in original data used to generate 31 features in processed data.\n",
      "\tTrain Data (Processed) Memory Usage: 356.72 MB (0.5% of available memory)\n",
      "Data preprocessing and feature engineering runtime = 7.78s ...\n",
      "AutoGluon will gauge predictive performance using evaluation metric: 'f1'\n",
      "\tTo change this, specify the eval_metric parameter of Predictor()\n",
      "Excluded Model Types: ['KNN', 'NN_TORCH', 'FASTAI', 'CAT', 'Cat']\n",
      "\tFound 'NN_TORCH' model in hyperparameters, but 'NN_TORCH' is present in `excluded_model_types` and will be removed.\n",
      "\tFound 'CAT' model in hyperparameters, but 'CAT' is present in `excluded_model_types` and will be removed.\n",
      "\tFound 'FASTAI' model in hyperparameters, but 'FASTAI' is present in `excluded_model_types` and will be removed.\n",
      "Fitting 8 L1 models ...\n",
      "Fitting model: LightGBMXT ...\n"
     ]
    },
    {
     "name": "stdout",
     "output_type": "stream",
     "text": [
      "[1000]\tvalid_set's binary_logloss: 0.207439\tvalid_set's f1: 0.573246\n",
      "[2000]\tvalid_set's binary_logloss: 0.206093\tvalid_set's f1: 0.576239\n",
      "[3000]\tvalid_set's binary_logloss: 0.205477\tvalid_set's f1: 0.577552\n",
      "[4000]\tvalid_set's binary_logloss: 0.205142\tvalid_set's f1: 0.578479\n",
      "[5000]\tvalid_set's binary_logloss: 0.204929\tvalid_set's f1: 0.57912\n",
      "[6000]\tvalid_set's binary_logloss: 0.204816\tvalid_set's f1: 0.579587\n",
      "[7000]\tvalid_set's binary_logloss: 0.204781\tvalid_set's f1: 0.579851\n",
      "[8000]\tvalid_set's binary_logloss: 0.204756\tvalid_set's f1: 0.579971\n",
      "[9000]\tvalid_set's binary_logloss: 0.204792\tvalid_set's f1: 0.579777\n",
      "[10000]\tvalid_set's binary_logloss: 0.204834\tvalid_set's f1: 0.579642\n"
     ]
    },
    {
     "name": "stderr",
     "output_type": "stream",
     "text": [
      "\t0.5803\t = Validation score   (f1)\n",
      "\t4672.88s\t = Training   runtime\n",
      "\t52.75s\t = Validation runtime\n",
      "Fitting model: LightGBM ...\n"
     ]
    },
    {
     "name": "stdout",
     "output_type": "stream",
     "text": [
      "[1000]\tvalid_set's binary_logloss: 0.206785\tvalid_set's f1: 0.575709\n",
      "[2000]\tvalid_set's binary_logloss: 0.205807\tvalid_set's f1: 0.577656\n",
      "[3000]\tvalid_set's binary_logloss: 0.205305\tvalid_set's f1: 0.578624\n",
      "[4000]\tvalid_set's binary_logloss: 0.205149\tvalid_set's f1: 0.57882\n",
      "[5000]\tvalid_set's binary_logloss: 0.205107\tvalid_set's f1: 0.579459\n",
      "[6000]\tvalid_set's binary_logloss: 0.205084\tvalid_set's f1: 0.578943\n"
     ]
    },
    {
     "name": "stderr",
     "output_type": "stream",
     "text": [
      "\t0.5796\t = Validation score   (f1)\n",
      "\t3049.62s\t = Training   runtime\n",
      "\t22.79s\t = Validation runtime\n",
      "Fitting model: RandomForestGini ...\n",
      "\t0.5414\t = Validation score   (f1)\n",
      "\t304.49s\t = Training   runtime\n",
      "\t4.59s\t = Validation runtime\n",
      "Fitting model: RandomForestEntr ...\n",
      "\t0.5395\t = Validation score   (f1)\n",
      "\t301.36s\t = Training   runtime\n",
      "\t5.4s\t = Validation runtime\n",
      "Fitting model: ExtraTreesGini ...\n",
      "\t0.3389\t = Validation score   (f1)\n",
      "\t160.32s\t = Training   runtime\n",
      "\t4.75s\t = Validation runtime\n",
      "Fitting model: ExtraTreesEntr ...\n",
      "\t0.3365\t = Validation score   (f1)\n",
      "\t160.77s\t = Training   runtime\n",
      "\t4.6s\t = Validation runtime\n",
      "Fitting model: XGBoost ...\n",
      "/opt/conda/envs/bigcon/lib/python3.8/site-packages/xgboost/compat.py:31: FutureWarning: pandas.Int64Index is deprecated and will be removed from pandas in a future version. Use pandas.Index with the appropriate dtype instead.\n",
      "  from pandas import MultiIndex, Int64Index\n",
      "\t0.5784\t = Validation score   (f1)\n",
      "\t5031.06s\t = Training   runtime\n",
      "\t19.04s\t = Validation runtime\n",
      "Fitting model: LightGBMLarge ...\n"
     ]
    },
    {
     "name": "stdout",
     "output_type": "stream",
     "text": [
      "[1000]\tvalid_set's binary_logloss: 0.205247\tvalid_set's f1: 0.577539\n",
      "[2000]\tvalid_set's binary_logloss: 0.204355\tvalid_set's f1: 0.579794\n",
      "[3000]\tvalid_set's binary_logloss: 0.203979\tvalid_set's f1: 0.580885\n",
      "[4000]\tvalid_set's binary_logloss: 0.203843\tvalid_set's f1: 0.58068\n",
      "[5000]\tvalid_set's binary_logloss: 0.203773\tvalid_set's f1: 0.581143\n",
      "[6000]\tvalid_set's binary_logloss: 0.2038\tvalid_set's f1: 0.581485\n",
      "[7000]\tvalid_set's binary_logloss: 0.203964\tvalid_set's f1: 0.581397\n"
     ]
    },
    {
     "name": "stderr",
     "output_type": "stream",
     "text": [
      "\t0.5817\t = Validation score   (f1)\n",
      "\t3417.16s\t = Training   runtime\n",
      "\t29.74s\t = Validation runtime\n",
      "Fitting model: WeightedEnsemble_L2 ...\n",
      "\t0.5824\t = Validation score   (f1)\n",
      "\t295.89s\t = Training   runtime\n",
      "\t1.32s\t = Validation runtime\n",
      "AutoGluon training complete, total runtime = 17549.16s ... Best model: \"WeightedEnsemble_L2\"\n",
      "TabularPredictor saved. To load, use: predictor = TabularPredictor.load(\"model_test_all/model_all_fold_0/\")\n"
     ]
    },
    {
     "name": "stdout",
     "output_type": "stream",
     "text": [
      "TIME\n"
     ]
    },
    {
     "name": "stderr",
     "output_type": "stream",
     "text": [
      "Warning: Training may take a very long time because `time_limit` was not specified and `train_data` is large (3242850 samples, 311.32 MB).\n",
      "\tConsider setting `time_limit` to ensure training finishes within an expected duration or experiment with a small portion of `train_data` to identify an ideal `presets` and `hyperparameters` configuration.\n",
      "Beginning AutoGluon training ...\n",
      "AutoGluon will save models to \"model_test_all/model_all_fold_1/\"\n",
      "AutoGluon Version:  0.5.3b20220913\n",
      "Python Version:     3.8.13\n",
      "Operating System:   Linux\n",
      "Train Data Rows:    3242850\n",
      "Train Data Columns: 31\n",
      "Tuning Data Rows:    810713\n",
      "Tuning Data Columns: 31\n",
      "Label Column: is_applied\n",
      "Preprocessing data ...\n",
      "Selected class <--> label mapping:  class 1 = 1, class 0 = 0\n",
      "Using Feature Generators to preprocess the data ...\n",
      "Fitting AutoMLPipelineFeatureGenerator...\n",
      "\tAvailable Memory:                    77633.88 MB\n",
      "\tTrain Data (Original)  Memory Usage: 356.72 MB (0.5% of available memory)\n",
      "\tInferring data type of each feature based on column values. Set feature_metadata_in to manually specify special dtypes of the features.\n",
      "\tStage 1 Generators:\n",
      "\t\tFitting AsTypeFeatureGenerator...\n",
      "\t\t\tNote: Converting 5 features to boolean dtype as they only contain 2 unique values.\n",
      "\tStage 2 Generators:\n",
      "\t\tFitting FillNaFeatureGenerator...\n",
      "\tStage 3 Generators:\n",
      "\t\tFitting IdentityFeatureGenerator...\n",
      "\t\tFitting CategoryFeatureGenerator...\n",
      "\t\t\tFitting CategoryMemoryMinimizeFeatureGenerator...\n",
      "\tStage 4 Generators:\n",
      "\t\tFitting DropUniqueFeatureGenerator...\n",
      "\tTypes of features in original data (raw dtype, special dtypes):\n",
      "\t\t('category', []) : 23 | ['bank_id', 'product_id', 'loan_limit', 'birth_year', 'gender', ...]\n",
      "\t\t('float', [])    :  4 | ['loan_rate', 'loan_limit/max_loan_limit', 'loan_rate/min_loan_rate', 'desired_amount/existing_loan_amt']\n",
      "\t\t('int', [])      :  4 | ['num_not_approve', 'num_total_approve', 'num_approve', 'num_total_login']\n",
      "\tTypes of features in processed data (raw dtype, special dtypes):\n",
      "\t\t('category', [])  : 18 | ['bank_id', 'product_id', 'loan_limit', 'birth_year', 'gender', ...]\n",
      "\t\t('float', [])     :  4 | ['loan_rate', 'loan_limit/max_loan_limit', 'loan_rate/min_loan_rate', 'desired_amount/existing_loan_amt']\n",
      "\t\t('int', [])       :  4 | ['num_not_approve', 'num_total_approve', 'num_approve', 'num_total_login']\n",
      "\t\t('int', ['bool']) :  5 | ['credit_score_nan', 'gender_birth_nan', 'existing_loan_cnt_binary', 'loan_limit/max_loan_limit_binary', 'loan_rate/min_loan_rate_binary']\n",
      "\t6.7s = Fit runtime\n",
      "\t31 features in original data used to generate 31 features in processed data.\n",
      "\tTrain Data (Processed) Memory Usage: 356.72 MB (0.5% of available memory)\n",
      "Data preprocessing and feature engineering runtime = 7.48s ...\n",
      "AutoGluon will gauge predictive performance using evaluation metric: 'f1'\n",
      "\tTo change this, specify the eval_metric parameter of Predictor()\n",
      "Excluded Model Types: ['KNN', 'NN_TORCH', 'FASTAI', 'CAT', 'Cat']\n",
      "\tFound 'NN_TORCH' model in hyperparameters, but 'NN_TORCH' is present in `excluded_model_types` and will be removed.\n",
      "\tFound 'CAT' model in hyperparameters, but 'CAT' is present in `excluded_model_types` and will be removed.\n",
      "\tFound 'FASTAI' model in hyperparameters, but 'FASTAI' is present in `excluded_model_types` and will be removed.\n",
      "Fitting 8 L1 models ...\n",
      "Fitting model: LightGBMXT ...\n"
     ]
    },
    {
     "name": "stdout",
     "output_type": "stream",
     "text": [
      "[1000]\tvalid_set's binary_logloss: 0.207437\tvalid_set's f1: 0.571112\n",
      "[2000]\tvalid_set's binary_logloss: 0.206109\tvalid_set's f1: 0.574258\n",
      "[3000]\tvalid_set's binary_logloss: 0.205416\tvalid_set's f1: 0.576018\n",
      "[4000]\tvalid_set's binary_logloss: 0.2051\tvalid_set's f1: 0.576634\n",
      "[5000]\tvalid_set's binary_logloss: 0.204961\tvalid_set's f1: 0.577514\n",
      "[6000]\tvalid_set's binary_logloss: 0.204863\tvalid_set's f1: 0.577991\n",
      "[7000]\tvalid_set's binary_logloss: 0.204769\tvalid_set's f1: 0.57836\n",
      "[8000]\tvalid_set's binary_logloss: 0.204748\tvalid_set's f1: 0.578763\n",
      "[9000]\tvalid_set's binary_logloss: 0.204755\tvalid_set's f1: 0.578836\n",
      "[10000]\tvalid_set's binary_logloss: 0.204786\tvalid_set's f1: 0.57853\n"
     ]
    },
    {
     "name": "stderr",
     "output_type": "stream",
     "text": [
      "\t0.579\t = Validation score   (f1)\n",
      "\t4466.49s\t = Training   runtime\n",
      "\t48.31s\t = Validation runtime\n",
      "Fitting model: LightGBM ...\n"
     ]
    },
    {
     "name": "stdout",
     "output_type": "stream",
     "text": [
      "[1000]\tvalid_set's binary_logloss: 0.206832\tvalid_set's f1: 0.574148\n",
      "[2000]\tvalid_set's binary_logloss: 0.205779\tvalid_set's f1: 0.576113\n",
      "[3000]\tvalid_set's binary_logloss: 0.20529\tvalid_set's f1: 0.57698\n",
      "[4000]\tvalid_set's binary_logloss: 0.205073\tvalid_set's f1: 0.577749\n",
      "[5000]\tvalid_set's binary_logloss: 0.204993\tvalid_set's f1: 0.577974\n",
      "[6000]\tvalid_set's binary_logloss: 0.204981\tvalid_set's f1: 0.578532\n",
      "[7000]\tvalid_set's binary_logloss: 0.205026\tvalid_set's f1: 0.578767\n",
      "[8000]\tvalid_set's binary_logloss: 0.205087\tvalid_set's f1: 0.5779\n"
     ]
    },
    {
     "name": "stderr",
     "output_type": "stream",
     "text": [
      "\t0.5791\t = Validation score   (f1)\n",
      "\t3788.26s\t = Training   runtime\n",
      "\t27.89s\t = Validation runtime\n",
      "Fitting model: RandomForestGini ...\n",
      "\t0.5401\t = Validation score   (f1)\n",
      "\t259.12s\t = Training   runtime\n",
      "\t4.05s\t = Validation runtime\n",
      "Fitting model: RandomForestEntr ...\n",
      "\t0.539\t = Validation score   (f1)\n",
      "\t257.35s\t = Training   runtime\n",
      "\t4.13s\t = Validation runtime\n",
      "Fitting model: ExtraTreesGini ...\n",
      "\t0.3351\t = Validation score   (f1)\n",
      "\t138.77s\t = Training   runtime\n",
      "\t4.11s\t = Validation runtime\n",
      "Fitting model: ExtraTreesEntr ...\n",
      "\t0.3338\t = Validation score   (f1)\n",
      "\t138.62s\t = Training   runtime\n",
      "\t3.99s\t = Validation runtime\n",
      "Fitting model: XGBoost ...\n",
      "\t0.5787\t = Validation score   (f1)\n",
      "\t3710.22s\t = Training   runtime\n",
      "\t12.47s\t = Validation runtime\n",
      "Fitting model: LightGBMLarge ...\n"
     ]
    },
    {
     "name": "stdout",
     "output_type": "stream",
     "text": [
      "[1000]\tvalid_set's binary_logloss: 0.205387\tvalid_set's f1: 0.574726\n",
      "[2000]\tvalid_set's binary_logloss: 0.204496\tvalid_set's f1: 0.577379\n",
      "[3000]\tvalid_set's binary_logloss: 0.20405\tvalid_set's f1: 0.57843\n",
      "[4000]\tvalid_set's binary_logloss: 0.203879\tvalid_set's f1: 0.579156\n",
      "[5000]\tvalid_set's binary_logloss: 0.203911\tvalid_set's f1: 0.579747\n",
      "[6000]\tvalid_set's binary_logloss: 0.203923\tvalid_set's f1: 0.579946\n",
      "[7000]\tvalid_set's binary_logloss: 0.204065\tvalid_set's f1: 0.580295\n",
      "[8000]\tvalid_set's binary_logloss: 0.204275\tvalid_set's f1: 0.580486\n",
      "[9000]\tvalid_set's binary_logloss: 0.204467\tvalid_set's f1: 0.580558\n",
      "[10000]\tvalid_set's binary_logloss: 0.204703\tvalid_set's f1: 0.580464\n"
     ]
    },
    {
     "name": "stderr",
     "output_type": "stream",
     "text": [
      "\t0.581\t = Validation score   (f1)\n",
      "\t4411.98s\t = Training   runtime\n",
      "\t68.04s\t = Validation runtime\n",
      "Fitting model: WeightedEnsemble_L2 ...\n",
      "\t0.5818\t = Validation score   (f1)\n",
      "\t288.04s\t = Training   runtime\n",
      "\t1.32s\t = Validation runtime\n",
      "AutoGluon training complete, total runtime = 17643.38s ... Best model: \"WeightedEnsemble_L2\"\n",
      "TabularPredictor saved. To load, use: predictor = TabularPredictor.load(\"model_test_all/model_all_fold_1/\")\n"
     ]
    },
    {
     "name": "stdout",
     "output_type": "stream",
     "text": [
      "TIME\n"
     ]
    },
    {
     "name": "stderr",
     "output_type": "stream",
     "text": [
      "Warning: Training may take a very long time because `time_limit` was not specified and `train_data` is large (3242850 samples, 311.32 MB).\n",
      "\tConsider setting `time_limit` to ensure training finishes within an expected duration or experiment with a small portion of `train_data` to identify an ideal `presets` and `hyperparameters` configuration.\n",
      "Beginning AutoGluon training ...\n",
      "AutoGluon will save models to \"model_test_all/model_all_fold_2/\"\n",
      "AutoGluon Version:  0.5.3b20220913\n",
      "Python Version:     3.8.13\n",
      "Operating System:   Linux\n",
      "Train Data Rows:    3242850\n",
      "Train Data Columns: 31\n",
      "Tuning Data Rows:    810713\n",
      "Tuning Data Columns: 31\n",
      "Label Column: is_applied\n",
      "Preprocessing data ...\n",
      "Selected class <--> label mapping:  class 1 = 1, class 0 = 0\n",
      "Using Feature Generators to preprocess the data ...\n",
      "Fitting AutoMLPipelineFeatureGenerator...\n",
      "\tAvailable Memory:                    63833.94 MB\n",
      "\tTrain Data (Original)  Memory Usage: 356.72 MB (0.6% of available memory)\n",
      "\tInferring data type of each feature based on column values. Set feature_metadata_in to manually specify special dtypes of the features.\n",
      "\tStage 1 Generators:\n",
      "\t\tFitting AsTypeFeatureGenerator...\n",
      "\t\t\tNote: Converting 5 features to boolean dtype as they only contain 2 unique values.\n",
      "\tStage 2 Generators:\n",
      "\t\tFitting FillNaFeatureGenerator...\n",
      "\tStage 3 Generators:\n",
      "\t\tFitting IdentityFeatureGenerator...\n",
      "\t\tFitting CategoryFeatureGenerator...\n",
      "\t\t\tFitting CategoryMemoryMinimizeFeatureGenerator...\n",
      "\tStage 4 Generators:\n",
      "\t\tFitting DropUniqueFeatureGenerator...\n",
      "\tTypes of features in original data (raw dtype, special dtypes):\n",
      "\t\t('category', []) : 23 | ['bank_id', 'product_id', 'loan_limit', 'birth_year', 'gender', ...]\n",
      "\t\t('float', [])    :  4 | ['loan_rate', 'loan_limit/max_loan_limit', 'loan_rate/min_loan_rate', 'desired_amount/existing_loan_amt']\n",
      "\t\t('int', [])      :  4 | ['num_not_approve', 'num_total_approve', 'num_approve', 'num_total_login']\n",
      "\tTypes of features in processed data (raw dtype, special dtypes):\n",
      "\t\t('category', [])  : 18 | ['bank_id', 'product_id', 'loan_limit', 'birth_year', 'gender', ...]\n",
      "\t\t('float', [])     :  4 | ['loan_rate', 'loan_limit/max_loan_limit', 'loan_rate/min_loan_rate', 'desired_amount/existing_loan_amt']\n",
      "\t\t('int', [])       :  4 | ['num_not_approve', 'num_total_approve', 'num_approve', 'num_total_login']\n",
      "\t\t('int', ['bool']) :  5 | ['credit_score_nan', 'gender_birth_nan', 'existing_loan_cnt_binary', 'loan_limit/max_loan_limit_binary', 'loan_rate/min_loan_rate_binary']\n",
      "\t6.4s = Fit runtime\n",
      "\t31 features in original data used to generate 31 features in processed data.\n",
      "\tTrain Data (Processed) Memory Usage: 356.72 MB (0.6% of available memory)\n",
      "Data preprocessing and feature engineering runtime = 7.13s ...\n",
      "AutoGluon will gauge predictive performance using evaluation metric: 'f1'\n",
      "\tTo change this, specify the eval_metric parameter of Predictor()\n",
      "Excluded Model Types: ['KNN', 'NN_TORCH', 'FASTAI', 'CAT', 'Cat']\n",
      "\tFound 'NN_TORCH' model in hyperparameters, but 'NN_TORCH' is present in `excluded_model_types` and will be removed.\n",
      "\tFound 'CAT' model in hyperparameters, but 'CAT' is present in `excluded_model_types` and will be removed.\n",
      "\tFound 'FASTAI' model in hyperparameters, but 'FASTAI' is present in `excluded_model_types` and will be removed.\n",
      "Fitting 8 L1 models ...\n",
      "Fitting model: LightGBMXT ...\n"
     ]
    },
    {
     "name": "stdout",
     "output_type": "stream",
     "text": [
      "[1000]\tvalid_set's binary_logloss: 0.207997\tvalid_set's f1: 0.571664\n",
      "[2000]\tvalid_set's binary_logloss: 0.206582\tvalid_set's f1: 0.574856\n",
      "[3000]\tvalid_set's binary_logloss: 0.205914\tvalid_set's f1: 0.575655\n",
      "[4000]\tvalid_set's binary_logloss: 0.2056\tvalid_set's f1: 0.57678\n",
      "[5000]\tvalid_set's binary_logloss: 0.205453\tvalid_set's f1: 0.57758\n",
      "[6000]\tvalid_set's binary_logloss: 0.205366\tvalid_set's f1: 0.577829\n",
      "[7000]\tvalid_set's binary_logloss: 0.205319\tvalid_set's f1: 0.578094\n",
      "[8000]\tvalid_set's binary_logloss: 0.20527\tvalid_set's f1: 0.578316\n",
      "[9000]\tvalid_set's binary_logloss: 0.205275\tvalid_set's f1: 0.578353\n",
      "[10000]\tvalid_set's binary_logloss: 0.205298\tvalid_set's f1: 0.57871\n"
     ]
    },
    {
     "name": "stderr",
     "output_type": "stream",
     "text": [
      "\t0.5788\t = Validation score   (f1)\n",
      "\t4359.0s\t = Training   runtime\n",
      "\t73.71s\t = Validation runtime\n",
      "Fitting model: LightGBM ...\n"
     ]
    },
    {
     "name": "stdout",
     "output_type": "stream",
     "text": [
      "[1000]\tvalid_set's binary_logloss: 0.20743\tvalid_set's f1: 0.575226\n",
      "[2000]\tvalid_set's binary_logloss: 0.20634\tvalid_set's f1: 0.577097\n",
      "[3000]\tvalid_set's binary_logloss: 0.205925\tvalid_set's f1: 0.577494\n",
      "[4000]\tvalid_set's binary_logloss: 0.205676\tvalid_set's f1: 0.57852\n",
      "[5000]\tvalid_set's binary_logloss: 0.205572\tvalid_set's f1: 0.57847\n"
     ]
    },
    {
     "name": "stderr",
     "output_type": "stream",
     "text": [
      "\t0.5788\t = Validation score   (f1)\n",
      "\t2421.55s\t = Training   runtime\n",
      "\t17.95s\t = Validation runtime\n",
      "Fitting model: RandomForestGini ...\n",
      "\t0.5399\t = Validation score   (f1)\n",
      "\t307.68s\t = Training   runtime\n",
      "\t4.62s\t = Validation runtime\n",
      "Fitting model: RandomForestEntr ...\n",
      "\t0.5386\t = Validation score   (f1)\n",
      "\t296.94s\t = Training   runtime\n",
      "\t4.87s\t = Validation runtime\n",
      "Fitting model: ExtraTreesGini ...\n",
      "\t0.336\t = Validation score   (f1)\n",
      "\t167.08s\t = Training   runtime\n",
      "\t4.66s\t = Validation runtime\n",
      "Fitting model: ExtraTreesEntr ...\n",
      "\t0.3379\t = Validation score   (f1)\n",
      "\t159.86s\t = Training   runtime\n",
      "\t4.65s\t = Validation runtime\n",
      "Fitting model: XGBoost ...\n",
      "\t0.5782\t = Validation score   (f1)\n",
      "\t5034.07s\t = Training   runtime\n",
      "\t18.5s\t = Validation runtime\n",
      "Fitting model: LightGBMLarge ...\n"
     ]
    },
    {
     "name": "stdout",
     "output_type": "stream",
     "text": [
      "[1000]\tvalid_set's binary_logloss: 0.205774\tvalid_set's f1: 0.576629\n",
      "[2000]\tvalid_set's binary_logloss: 0.20501\tvalid_set's f1: 0.578274\n",
      "[3000]\tvalid_set's binary_logloss: 0.204528\tvalid_set's f1: 0.579278\n",
      "[4000]\tvalid_set's binary_logloss: 0.204328\tvalid_set's f1: 0.580357\n",
      "[5000]\tvalid_set's binary_logloss: 0.204224\tvalid_set's f1: 0.580799\n",
      "[6000]\tvalid_set's binary_logloss: 0.204279\tvalid_set's f1: 0.580882\n",
      "[7000]\tvalid_set's binary_logloss: 0.204396\tvalid_set's f1: 0.581291\n",
      "[8000]\tvalid_set's binary_logloss: 0.204617\tvalid_set's f1: 0.581646\n",
      "[9000]\tvalid_set's binary_logloss: 0.204889\tvalid_set's f1: 0.581848\n",
      "[10000]\tvalid_set's binary_logloss: 0.205192\tvalid_set's f1: 0.581585\n"
     ]
    },
    {
     "name": "stderr",
     "output_type": "stream",
     "text": [
      "\t0.582\t = Validation score   (f1)\n",
      "\t4823.95s\t = Training   runtime\n",
      "\t81.7s\t = Validation runtime\n",
      "Fitting model: WeightedEnsemble_L2 ...\n",
      "\t0.5827\t = Validation score   (f1)\n",
      "\t305.94s\t = Training   runtime\n",
      "\t1.3s\t = Validation runtime\n",
      "AutoGluon training complete, total runtime = 18098.11s ... Best model: \"WeightedEnsemble_L2\"\n",
      "TabularPredictor saved. To load, use: predictor = TabularPredictor.load(\"model_test_all/model_all_fold_2/\")\n"
     ]
    },
    {
     "name": "stdout",
     "output_type": "stream",
     "text": [
      "TIME\n"
     ]
    },
    {
     "name": "stderr",
     "output_type": "stream",
     "text": [
      "Warning: Training may take a very long time because `time_limit` was not specified and `train_data` is large (3242851 samples, 311.32 MB).\n",
      "\tConsider setting `time_limit` to ensure training finishes within an expected duration or experiment with a small portion of `train_data` to identify an ideal `presets` and `hyperparameters` configuration.\n",
      "Beginning AutoGluon training ...\n",
      "AutoGluon will save models to \"model_test_all/model_all_fold_3/\"\n",
      "AutoGluon Version:  0.5.3b20220913\n",
      "Python Version:     3.8.13\n",
      "Operating System:   Linux\n",
      "Train Data Rows:    3242851\n",
      "Train Data Columns: 31\n",
      "Tuning Data Rows:    810712\n",
      "Tuning Data Columns: 31\n",
      "Label Column: is_applied\n",
      "Preprocessing data ...\n",
      "Selected class <--> label mapping:  class 1 = 1, class 0 = 0\n",
      "Using Feature Generators to preprocess the data ...\n",
      "Fitting AutoMLPipelineFeatureGenerator...\n",
      "\tAvailable Memory:                    63546.2 MB\n",
      "\tTrain Data (Original)  Memory Usage: 356.72 MB (0.6% of available memory)\n",
      "\tInferring data type of each feature based on column values. Set feature_metadata_in to manually specify special dtypes of the features.\n",
      "\tStage 1 Generators:\n",
      "\t\tFitting AsTypeFeatureGenerator...\n",
      "\t\t\tNote: Converting 5 features to boolean dtype as they only contain 2 unique values.\n",
      "\tStage 2 Generators:\n",
      "\t\tFitting FillNaFeatureGenerator...\n",
      "\tStage 3 Generators:\n",
      "\t\tFitting IdentityFeatureGenerator...\n",
      "\t\tFitting CategoryFeatureGenerator...\n",
      "\t\t\tFitting CategoryMemoryMinimizeFeatureGenerator...\n",
      "\tStage 4 Generators:\n",
      "\t\tFitting DropUniqueFeatureGenerator...\n",
      "\tTypes of features in original data (raw dtype, special dtypes):\n",
      "\t\t('category', []) : 23 | ['bank_id', 'product_id', 'loan_limit', 'birth_year', 'gender', ...]\n",
      "\t\t('float', [])    :  4 | ['loan_rate', 'loan_limit/max_loan_limit', 'loan_rate/min_loan_rate', 'desired_amount/existing_loan_amt']\n",
      "\t\t('int', [])      :  4 | ['num_not_approve', 'num_total_approve', 'num_approve', 'num_total_login']\n",
      "\tTypes of features in processed data (raw dtype, special dtypes):\n",
      "\t\t('category', [])  : 18 | ['bank_id', 'product_id', 'loan_limit', 'birth_year', 'gender', ...]\n",
      "\t\t('float', [])     :  4 | ['loan_rate', 'loan_limit/max_loan_limit', 'loan_rate/min_loan_rate', 'desired_amount/existing_loan_amt']\n",
      "\t\t('int', [])       :  4 | ['num_not_approve', 'num_total_approve', 'num_approve', 'num_total_login']\n",
      "\t\t('int', ['bool']) :  5 | ['credit_score_nan', 'gender_birth_nan', 'existing_loan_cnt_binary', 'loan_limit/max_loan_limit_binary', 'loan_rate/min_loan_rate_binary']\n",
      "\t6.7s = Fit runtime\n",
      "\t31 features in original data used to generate 31 features in processed data.\n",
      "\tTrain Data (Processed) Memory Usage: 356.72 MB (0.6% of available memory)\n",
      "Data preprocessing and feature engineering runtime = 7.45s ...\n",
      "AutoGluon will gauge predictive performance using evaluation metric: 'f1'\n",
      "\tTo change this, specify the eval_metric parameter of Predictor()\n",
      "Excluded Model Types: ['KNN', 'NN_TORCH', 'FASTAI', 'CAT', 'Cat']\n",
      "\tFound 'NN_TORCH' model in hyperparameters, but 'NN_TORCH' is present in `excluded_model_types` and will be removed.\n",
      "\tFound 'CAT' model in hyperparameters, but 'CAT' is present in `excluded_model_types` and will be removed.\n",
      "\tFound 'FASTAI' model in hyperparameters, but 'FASTAI' is present in `excluded_model_types` and will be removed.\n",
      "Fitting 8 L1 models ...\n",
      "Fitting model: LightGBMXT ...\n"
     ]
    },
    {
     "name": "stdout",
     "output_type": "stream",
     "text": [
      "[1000]\tvalid_set's binary_logloss: 0.207562\tvalid_set's f1: 0.574024\n",
      "[2000]\tvalid_set's binary_logloss: 0.206145\tvalid_set's f1: 0.576679\n",
      "[3000]\tvalid_set's binary_logloss: 0.205609\tvalid_set's f1: 0.577905\n",
      "[4000]\tvalid_set's binary_logloss: 0.205235\tvalid_set's f1: 0.578643\n",
      "[5000]\tvalid_set's binary_logloss: 0.204991\tvalid_set's f1: 0.579457\n",
      "[6000]\tvalid_set's binary_logloss: 0.204873\tvalid_set's f1: 0.579668\n",
      "[7000]\tvalid_set's binary_logloss: 0.204796\tvalid_set's f1: 0.580596\n",
      "[8000]\tvalid_set's binary_logloss: 0.204772\tvalid_set's f1: 0.580007\n",
      "[9000]\tvalid_set's binary_logloss: 0.2048\tvalid_set's f1: 0.580255\n"
     ]
    },
    {
     "name": "stderr",
     "output_type": "stream",
     "text": [
      "\t0.5808\t = Validation score   (f1)\n",
      "\t4323.54s\t = Training   runtime\n",
      "\t38.4s\t = Validation runtime\n",
      "Fitting model: LightGBM ...\n"
     ]
    },
    {
     "name": "stdout",
     "output_type": "stream",
     "text": [
      "[1000]\tvalid_set's binary_logloss: 0.207021\tvalid_set's f1: 0.576085\n",
      "[2000]\tvalid_set's binary_logloss: 0.205862\tvalid_set's f1: 0.577806\n",
      "[3000]\tvalid_set's binary_logloss: 0.20546\tvalid_set's f1: 0.578381\n",
      "[4000]\tvalid_set's binary_logloss: 0.205282\tvalid_set's f1: 0.579246\n",
      "[5000]\tvalid_set's binary_logloss: 0.205204\tvalid_set's f1: 0.579467\n",
      "[6000]\tvalid_set's binary_logloss: 0.205151\tvalid_set's f1: 0.579825\n",
      "[7000]\tvalid_set's binary_logloss: 0.205174\tvalid_set's f1: 0.580081\n",
      "[8000]\tvalid_set's binary_logloss: 0.205228\tvalid_set's f1: 0.579965\n",
      "[9000]\tvalid_set's binary_logloss: 0.205281\tvalid_set's f1: 0.580477\n",
      "[10000]\tvalid_set's binary_logloss: 0.205398\tvalid_set's f1: 0.580274\n"
     ]
    },
    {
     "name": "stderr",
     "output_type": "stream",
     "text": [
      "\t0.5807\t = Validation score   (f1)\n",
      "\t4667.95s\t = Training   runtime\n",
      "\t55.17s\t = Validation runtime\n",
      "Fitting model: RandomForestGini ...\n",
      "\t0.542\t = Validation score   (f1)\n",
      "\t258.36s\t = Training   runtime\n",
      "\t4.01s\t = Validation runtime\n",
      "Fitting model: RandomForestEntr ...\n",
      "\t0.5395\t = Validation score   (f1)\n",
      "\t257.08s\t = Training   runtime\n",
      "\t4.09s\t = Validation runtime\n",
      "Fitting model: ExtraTreesGini ...\n",
      "\t0.3447\t = Validation score   (f1)\n",
      "\t139.22s\t = Training   runtime\n",
      "\t4.02s\t = Validation runtime\n",
      "Fitting model: ExtraTreesEntr ...\n",
      "\t0.3377\t = Validation score   (f1)\n",
      "\t138.32s\t = Training   runtime\n",
      "\t3.99s\t = Validation runtime\n",
      "Fitting model: XGBoost ...\n",
      "\t0.5797\t = Validation score   (f1)\n",
      "\t4636.18s\t = Training   runtime\n",
      "\t17.11s\t = Validation runtime\n",
      "Fitting model: LightGBMLarge ...\n"
     ]
    },
    {
     "name": "stdout",
     "output_type": "stream",
     "text": [
      "[1000]\tvalid_set's binary_logloss: 0.205409\tvalid_set's f1: 0.577995\n",
      "[2000]\tvalid_set's binary_logloss: 0.204532\tvalid_set's f1: 0.579374\n",
      "[3000]\tvalid_set's binary_logloss: 0.204038\tvalid_set's f1: 0.580891\n",
      "[4000]\tvalid_set's binary_logloss: 0.203873\tvalid_set's f1: 0.581817\n",
      "[5000]\tvalid_set's binary_logloss: 0.203796\tvalid_set's f1: 0.582316\n",
      "[6000]\tvalid_set's binary_logloss: 0.203848\tvalid_set's f1: 0.582721\n",
      "[7000]\tvalid_set's binary_logloss: 0.203912\tvalid_set's f1: 0.582813\n",
      "[8000]\tvalid_set's binary_logloss: 0.204076\tvalid_set's f1: 0.583229\n",
      "[9000]\tvalid_set's binary_logloss: 0.204284\tvalid_set's f1: 0.583412\n",
      "[10000]\tvalid_set's binary_logloss: 0.204556\tvalid_set's f1: 0.583942\n"
     ]
    },
    {
     "name": "stderr",
     "output_type": "stream",
     "text": [
      "\t0.5843\t = Validation score   (f1)\n",
      "\t4504.1s\t = Training   runtime\n",
      "\t88.75s\t = Validation runtime\n",
      "Fitting model: WeightedEnsemble_L2 ...\n",
      "\t0.5847\t = Validation score   (f1)\n",
      "\t286.05s\t = Training   runtime\n",
      "\t1.25s\t = Validation runtime\n",
      "AutoGluon training complete, total runtime = 19438.45s ... Best model: \"WeightedEnsemble_L2\"\n",
      "TabularPredictor saved. To load, use: predictor = TabularPredictor.load(\"model_test_all/model_all_fold_3/\")\n"
     ]
    },
    {
     "name": "stdout",
     "output_type": "stream",
     "text": [
      "TIME\n"
     ]
    },
    {
     "name": "stderr",
     "output_type": "stream",
     "text": [
      "Warning: Training may take a very long time because `time_limit` was not specified and `train_data` is large (3242851 samples, 311.32 MB).\n",
      "\tConsider setting `time_limit` to ensure training finishes within an expected duration or experiment with a small portion of `train_data` to identify an ideal `presets` and `hyperparameters` configuration.\n",
      "Beginning AutoGluon training ...\n",
      "AutoGluon will save models to \"model_test_all/model_all_fold_4/\"\n",
      "AutoGluon Version:  0.5.3b20220913\n",
      "Python Version:     3.8.13\n",
      "Operating System:   Linux\n",
      "Train Data Rows:    3242851\n",
      "Train Data Columns: 31\n",
      "Tuning Data Rows:    810712\n",
      "Tuning Data Columns: 31\n",
      "Label Column: is_applied\n",
      "Preprocessing data ...\n",
      "Selected class <--> label mapping:  class 1 = 1, class 0 = 0\n",
      "Using Feature Generators to preprocess the data ...\n",
      "Fitting AutoMLPipelineFeatureGenerator...\n",
      "\tAvailable Memory:                    65234.79 MB\n",
      "\tTrain Data (Original)  Memory Usage: 356.72 MB (0.5% of available memory)\n",
      "\tInferring data type of each feature based on column values. Set feature_metadata_in to manually specify special dtypes of the features.\n",
      "\tStage 1 Generators:\n",
      "\t\tFitting AsTypeFeatureGenerator...\n",
      "\t\t\tNote: Converting 5 features to boolean dtype as they only contain 2 unique values.\n",
      "\tStage 2 Generators:\n",
      "\t\tFitting FillNaFeatureGenerator...\n",
      "\tStage 3 Generators:\n",
      "\t\tFitting IdentityFeatureGenerator...\n",
      "\t\tFitting CategoryFeatureGenerator...\n",
      "\t\t\tFitting CategoryMemoryMinimizeFeatureGenerator...\n",
      "\tStage 4 Generators:\n",
      "\t\tFitting DropUniqueFeatureGenerator...\n",
      "\tTypes of features in original data (raw dtype, special dtypes):\n",
      "\t\t('category', []) : 23 | ['bank_id', 'product_id', 'loan_limit', 'birth_year', 'gender', ...]\n",
      "\t\t('float', [])    :  4 | ['loan_rate', 'loan_limit/max_loan_limit', 'loan_rate/min_loan_rate', 'desired_amount/existing_loan_amt']\n",
      "\t\t('int', [])      :  4 | ['num_not_approve', 'num_total_approve', 'num_approve', 'num_total_login']\n",
      "\tTypes of features in processed data (raw dtype, special dtypes):\n",
      "\t\t('category', [])  : 18 | ['bank_id', 'product_id', 'loan_limit', 'birth_year', 'gender', ...]\n",
      "\t\t('float', [])     :  4 | ['loan_rate', 'loan_limit/max_loan_limit', 'loan_rate/min_loan_rate', 'desired_amount/existing_loan_amt']\n",
      "\t\t('int', [])       :  4 | ['num_not_approve', 'num_total_approve', 'num_approve', 'num_total_login']\n",
      "\t\t('int', ['bool']) :  5 | ['credit_score_nan', 'gender_birth_nan', 'existing_loan_cnt_binary', 'loan_limit/max_loan_limit_binary', 'loan_rate/min_loan_rate_binary']\n",
      "\t6.6s = Fit runtime\n",
      "\t31 features in original data used to generate 31 features in processed data.\n",
      "\tTrain Data (Processed) Memory Usage: 356.72 MB (0.5% of available memory)\n",
      "Data preprocessing and feature engineering runtime = 7.3s ...\n",
      "AutoGluon will gauge predictive performance using evaluation metric: 'f1'\n",
      "\tTo change this, specify the eval_metric parameter of Predictor()\n",
      "Excluded Model Types: ['KNN', 'NN_TORCH', 'FASTAI', 'CAT', 'Cat']\n",
      "\tFound 'NN_TORCH' model in hyperparameters, but 'NN_TORCH' is present in `excluded_model_types` and will be removed.\n",
      "\tFound 'CAT' model in hyperparameters, but 'CAT' is present in `excluded_model_types` and will be removed.\n",
      "\tFound 'FASTAI' model in hyperparameters, but 'FASTAI' is present in `excluded_model_types` and will be removed.\n",
      "Fitting 8 L1 models ...\n",
      "Fitting model: LightGBMXT ...\n"
     ]
    },
    {
     "name": "stdout",
     "output_type": "stream",
     "text": [
      "[1000]\tvalid_set's binary_logloss: 0.207606\tvalid_set's f1: 0.572418\n",
      "[2000]\tvalid_set's binary_logloss: 0.206134\tvalid_set's f1: 0.576336\n",
      "[3000]\tvalid_set's binary_logloss: 0.205458\tvalid_set's f1: 0.577437\n",
      "[4000]\tvalid_set's binary_logloss: 0.20508\tvalid_set's f1: 0.578374\n",
      "[5000]\tvalid_set's binary_logloss: 0.2049\tvalid_set's f1: 0.579351\n",
      "[6000]\tvalid_set's binary_logloss: 0.204756\tvalid_set's f1: 0.579963\n",
      "[7000]\tvalid_set's binary_logloss: 0.204683\tvalid_set's f1: 0.580911\n",
      "[8000]\tvalid_set's binary_logloss: 0.204636\tvalid_set's f1: 0.581035\n",
      "[9000]\tvalid_set's binary_logloss: 0.204659\tvalid_set's f1: 0.581\n",
      "[10000]\tvalid_set's binary_logloss: 0.204706\tvalid_set's f1: 0.581022\n"
     ]
    },
    {
     "name": "stderr",
     "output_type": "stream",
     "text": [
      "\t0.5815\t = Validation score   (f1)\n",
      "\t4362.86s\t = Training   runtime\n",
      "\t52.01s\t = Validation runtime\n",
      "Fitting model: LightGBM ...\n"
     ]
    },
    {
     "name": "stdout",
     "output_type": "stream",
     "text": [
      "[1000]\tvalid_set's binary_logloss: 0.207055\tvalid_set's f1: 0.576035\n",
      "[2000]\tvalid_set's binary_logloss: 0.205986\tvalid_set's f1: 0.578072\n",
      "[3000]\tvalid_set's binary_logloss: 0.20545\tvalid_set's f1: 0.578912\n",
      "[4000]\tvalid_set's binary_logloss: 0.205322\tvalid_set's f1: 0.579498\n",
      "[5000]\tvalid_set's binary_logloss: 0.205253\tvalid_set's f1: 0.580283\n",
      "[6000]\tvalid_set's binary_logloss: 0.205178\tvalid_set's f1: 0.580379\n",
      "[7000]\tvalid_set's binary_logloss: 0.205144\tvalid_set's f1: 0.580612\n",
      "[8000]\tvalid_set's binary_logloss: 0.205194\tvalid_set's f1: 0.580779\n",
      "[9000]\tvalid_set's binary_logloss: 0.205243\tvalid_set's f1: 0.580497\n",
      "[10000]\tvalid_set's binary_logloss: 0.205364\tvalid_set's f1: 0.580855\n"
     ]
    },
    {
     "name": "stderr",
     "output_type": "stream",
     "text": [
      "\t0.5812\t = Validation score   (f1)\n",
      "\t4356.77s\t = Training   runtime\n",
      "\t59.61s\t = Validation runtime\n",
      "Fitting model: RandomForestGini ...\n",
      "\t0.5419\t = Validation score   (f1)\n",
      "\t259.14s\t = Training   runtime\n",
      "\t4.04s\t = Validation runtime\n",
      "Fitting model: RandomForestEntr ...\n",
      "\t0.541\t = Validation score   (f1)\n",
      "\t257.17s\t = Training   runtime\n",
      "\t4.02s\t = Validation runtime\n",
      "Fitting model: ExtraTreesGini ...\n",
      "\t0.3369\t = Validation score   (f1)\n",
      "\t138.88s\t = Training   runtime\n",
      "\t3.97s\t = Validation runtime\n",
      "Fitting model: ExtraTreesEntr ...\n",
      "\t0.343\t = Validation score   (f1)\n",
      "\t138.6s\t = Training   runtime\n",
      "\t3.98s\t = Validation runtime\n",
      "Fitting model: XGBoost ...\n",
      "\t0.5802\t = Validation score   (f1)\n",
      "\t3262.14s\t = Training   runtime\n",
      "\t11.69s\t = Validation runtime\n",
      "Fitting model: LightGBMLarge ...\n"
     ]
    },
    {
     "name": "stdout",
     "output_type": "stream",
     "text": [
      "[1000]\tvalid_set's binary_logloss: 0.205471\tvalid_set's f1: 0.578047\n",
      "[2000]\tvalid_set's binary_logloss: 0.204606\tvalid_set's f1: 0.579837\n",
      "[3000]\tvalid_set's binary_logloss: 0.204222\tvalid_set's f1: 0.581043\n",
      "[4000]\tvalid_set's binary_logloss: 0.204042\tvalid_set's f1: 0.582309\n",
      "[5000]\tvalid_set's binary_logloss: 0.204032\tvalid_set's f1: 0.582271\n",
      "[6000]\tvalid_set's binary_logloss: 0.204048\tvalid_set's f1: 0.582361\n",
      "[7000]\tvalid_set's binary_logloss: 0.204128\tvalid_set's f1: 0.582489\n",
      "[8000]\tvalid_set's binary_logloss: 0.204274\tvalid_set's f1: 0.582953\n",
      "[9000]\tvalid_set's binary_logloss: 0.20449\tvalid_set's f1: 0.583456\n",
      "[10000]\tvalid_set's binary_logloss: 0.204814\tvalid_set's f1: 0.583355\n"
     ]
    },
    {
     "name": "stderr",
     "output_type": "stream",
     "text": [
      "\t0.5837\t = Validation score   (f1)\n",
      "\t4476.96s\t = Training   runtime\n",
      "\t79.18s\t = Validation runtime\n",
      "Fitting model: WeightedEnsemble_L2 ...\n",
      "\t0.5838\t = Validation score   (f1)\n",
      "\t282.34s\t = Training   runtime\n",
      "\t1.24s\t = Validation runtime\n",
      "AutoGluon training complete, total runtime = 17764.86s ... Best model: \"WeightedEnsemble_L2\"\n",
      "TabularPredictor saved. To load, use: predictor = TabularPredictor.load(\"model_test_all/model_all_fold_4/\")\n"
     ]
    },
    {
     "name": "stdout",
     "output_type": "stream",
     "text": [
      "TIME\n"
     ]
    }
   ],
   "source": [
    "#'생활비', '대환대출', '사업자금', '투자', '기타', '전월세보증금', '주택구입', '자동차구입'\n",
    "test_df = modeling(dataset = full_data, fold = 5)"
   ]
  },
  {
   "cell_type": "code",
   "execution_count": 14,
   "id": "33ce3531-a71d-4ac7-96a5-334384fdb06b",
   "metadata": {},
   "outputs": [],
   "source": [
    "dataset, test = k_fold_result(full_data)\n",
    "\n",
    "train = dataset.reset_index().iloc[:, 1:]\n",
    "train[\"is_applied\"] = train[\"is_applied\"].astype(int)\n",
    "\n",
    "\n",
    "val_idx_0 = list(train[train['fold'] == 0].index)\n",
    "val_df_0 = train[train['fold'] == 0].reset_index(drop=True).iloc[:, :-1]\n",
    "train_df_0 = train[train['fold'] != 0].reset_index(drop=True).iloc[:, :-1]\n",
    "\n",
    "val_idx_1 = list(train[train['fold'] == 1].index)\n",
    "val_df_1 = train[train['fold'] == 1].reset_index(drop=True).iloc[:, :-1]\n",
    "train_df_1 = train[train['fold'] != 1].reset_index(drop=True).iloc[:, :-1]\n",
    "\n",
    "val_idx_2 = list(train[train['fold'] == 2].index)\n",
    "val_df_2 = train[train['fold'] == 2].reset_index(drop=True).iloc[:, :-1]\n",
    "train_df_2 = train[train['fold'] != 2].reset_index(drop=True).iloc[:, :-1]\n",
    "\n",
    "val_idx_3 = list(train[train['fold'] == 3].index)\n",
    "val_df_3 = train[train['fold'] == 3].reset_index(drop=True).iloc[:, :-1]\n",
    "train_df_3 = train[train['fold'] != 3].reset_index(drop=True).iloc[:, :-1]\n",
    "\n",
    "val_idx_4 = list(train[train['fold'] == 4].index)\n",
    "val_df_4 = train[train['fold'] == 4].reset_index(drop=True).iloc[:, :-1]\n",
    "train_df_4 = train[train['fold'] != 4].reset_index(drop=True).iloc[:, :-1]\n"
   ]
  },
  {
   "cell_type": "code",
   "execution_count": null,
   "id": "074697d4-5614-451a-9d50-c3ec6edced69",
   "metadata": {},
   "outputs": [],
   "source": []
  },
  {
   "cell_type": "markdown",
   "id": "5743875d-32a4-49a9-b821-805dde184a3c",
   "metadata": {},
   "source": [
    "### Test"
   ]
  },
  {
   "cell_type": "code",
   "execution_count": 15,
   "id": "929f0461-3f34-4408-8aa9-1b514f587ca8",
   "metadata": {},
   "outputs": [
    {
     "name": "stderr",
     "output_type": "stream",
     "text": [
      "/opt/conda/envs/bigcon/lib/python3.8/site-packages/xgboost/compat.py:31: FutureWarning: pandas.Int64Index is deprecated and will be removed from pandas in a future version. Use pandas.Index with the appropriate dtype instead.\n",
      "  from pandas import MultiIndex, Int64Index\n"
     ]
    }
   ],
   "source": [
    "reg_01 = TabularPredictor.load(\"model_test_all/model_all_fold_0\")\n",
    "reg_02 = TabularPredictor.load(\"model_test_all/model_all_fold_1\")\n",
    "reg_03 = TabularPredictor.load(\"model_test_all/model_all_fold_2\")\n",
    "reg_04 = TabularPredictor.load(\"model_test_all/model_all_fold_3\")\n",
    "reg_05 = TabularPredictor.load(\"model_test_all/model_all_fold_4\")\n",
    "\n",
    "\n",
    "name_01 = reg_01.leaderboard(val_df_0, silent=True)\n",
    "name_02 = reg_02.leaderboard(val_df_1, silent=True)\n",
    "name_03 = reg_03.leaderboard(val_df_2, silent=True)\n",
    "name_04 = reg_04.leaderboard(val_df_3, silent=True)\n",
    "name_05 = reg_05.leaderboard(val_df_4, silent=True)\n"
   ]
  },
  {
   "cell_type": "code",
   "execution_count": 16,
   "id": "1a1df4a2-f6c3-4a38-b0b6-0d6e216ddb57",
   "metadata": {},
   "outputs": [
    {
     "name": "stdout",
     "output_type": "stream",
     "text": [
      "fold_0 :  WeightedEnsemble_L2\n",
      "fold_1 :  WeightedEnsemble_L2\n",
      "fold_2 :  WeightedEnsemble_L2\n",
      "fold_3 :  WeightedEnsemble_L2\n",
      "fold_4 :  WeightedEnsemble_L2\n"
     ]
    }
   ],
   "source": [
    "print(\"fold_0 : \", name_01[\"model\"][0])\n",
    "print(\"fold_1 : \", name_02[\"model\"][0])\n",
    "print(\"fold_2 : \", name_03[\"model\"][0])\n",
    "print(\"fold_3 : \", name_04[\"model\"][0])\n",
    "print(\"fold_4 : \", name_05[\"model\"][0])"
   ]
  },
  {
   "cell_type": "code",
   "execution_count": 17,
   "id": "fe4e09d0-2912-47c0-92bb-e53325a41f93",
   "metadata": {},
   "outputs": [],
   "source": [
    "rag_01_model_name = reg_01._trainer.load_model(name_01[\"model\"][0])\n",
    "rag_02_model_name = reg_02._trainer.load_model(name_02[\"model\"][0])\n",
    "rag_03_model_name = reg_03._trainer.load_model(name_03[\"model\"][0])\n",
    "rag_04_model_name = reg_04._trainer.load_model(name_04[\"model\"][0])\n",
    "rag_05_model_name = reg_05._trainer.load_model(name_05[\"model\"][0])"
   ]
  },
  {
   "cell_type": "code",
   "execution_count": 20,
   "id": "74435b59-39fe-4942-80c1-33ff720cc99b",
   "metadata": {},
   "outputs": [],
   "source": [
    "dataset, test_df = k_fold_result(full_data)"
   ]
  },
  {
   "cell_type": "markdown",
   "id": "08a853a1-fae8-4900-8175-c820a308bb2f",
   "metadata": {},
   "source": [
    "### Evaluation"
   ]
  },
  {
   "cell_type": "code",
   "execution_count": 21,
   "id": "62f20155-31c6-4002-9b6a-ddd0b484e574",
   "metadata": {},
   "outputs": [],
   "source": [
    "rag_01_model_p  = reg_01.predict_proba(test_df, model = rag_01_model_name )\n",
    "rag_02_model_p  = reg_02.predict_proba(test_df, model = rag_02_model_name )\n",
    "rag_03_model_p  = reg_03.predict_proba(test_df, model = rag_03_model_name )\n",
    "rag_04_model_p  = reg_04.predict_proba(test_df, model = rag_04_model_name )\n",
    "rag_05_model_p  = reg_05.predict_proba(test_df, model = rag_05_model_name )"
   ]
  },
  {
   "cell_type": "code",
   "execution_count": null,
   "id": "21b3cfcc-9ad5-4e8a-a9e1-c0ade6a87bd2",
   "metadata": {},
   "outputs": [],
   "source": []
  },
  {
   "cell_type": "code",
   "execution_count": null,
   "id": "6ef6c7a3-182a-4793-9111-dc4b28783689",
   "metadata": {},
   "outputs": [],
   "source": []
  },
  {
   "cell_type": "code",
   "execution_count": null,
   "id": "69ecb21e-7fbc-474c-b06d-b900ebb30631",
   "metadata": {},
   "outputs": [],
   "source": []
  },
  {
   "cell_type": "code",
   "execution_count": null,
   "id": "e90a036f-3f1a-4b3c-b121-0bb6e2d8298e",
   "metadata": {},
   "outputs": [],
   "source": []
  },
  {
   "cell_type": "code",
   "execution_count": null,
   "id": "bd359f97-cdc4-4adf-84b9-1ffb3217e3af",
   "metadata": {},
   "outputs": [],
   "source": []
  },
  {
   "cell_type": "code",
   "execution_count": null,
   "id": "a770dae8-cc5a-4f28-8cff-712d107a3719",
   "metadata": {},
   "outputs": [],
   "source": []
  },
  {
   "cell_type": "code",
   "execution_count": null,
   "id": "f1c719b2-0915-42d8-b28c-a4031903a3ee",
   "metadata": {},
   "outputs": [],
   "source": []
  },
  {
   "cell_type": "code",
   "execution_count": null,
   "id": "7409818d-f10e-4b66-b260-bf5e752b50e4",
   "metadata": {},
   "outputs": [],
   "source": []
  }
 ],
 "metadata": {
  "kernelspec": {
   "display_name": "bigcon",
   "language": "python",
   "name": "bigcon"
  },
  "language_info": {
   "codemirror_mode": {
    "name": "ipython",
    "version": 3
   },
   "file_extension": ".py",
   "mimetype": "text/x-python",
   "name": "python",
   "nbconvert_exporter": "python",
   "pygments_lexer": "ipython3",
   "version": "3.8.13"
  }
 },
 "nbformat": 4,
 "nbformat_minor": 5
}
