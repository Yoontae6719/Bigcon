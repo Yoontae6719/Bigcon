{
 "cells": [
  {
   "cell_type": "code",
   "execution_count": 1,
   "id": "7a65f0fa-6ff3-4c3e-971f-4c5064ef9f12",
   "metadata": {},
   "outputs": [],
   "source": [
    "import pandas as pd\n",
    "\n",
    "submit_test = pd.read_csv(\"./submit/test.csv\")\n",
    "submit_data = pd.read_csv(\"submit_data.csv\")\n",
    "\n",
    "loan_result = pd.read_csv(\"./data/loan_result.csv\")\n",
    "user_spec = pd.read_csv(\"./data/user_spec.csv\")\n",
    "\n",
    "submit_test_origin = pd.read_csv(\"./data/loan_result.csv\")\n",
    "submit_test_origin = submit_test_origin[submit_test_origin[\"loanapply_insert_time\"] >= \"2022-06-01\"].reset_index().iloc[:, 1:]\n",
    "\n",
    "DL_Dataset = pd.read_csv(\"./DL_dataset/test.csv\")"
   ]
  },
  {
   "cell_type": "code",
   "execution_count": null,
   "id": "be00df59-455e-4dd4-854c-d42a76b0e123",
   "metadata": {},
   "outputs": [],
   "source": []
  },
  {
   "cell_type": "code",
   "execution_count": 2,
   "id": "a2b8e7aa-322f-4fd9-b818-50944b9f9983",
   "metadata": {},
   "outputs": [],
   "source": [
    "loan_result = loan_result[loan_result[\"loanapply_insert_time\"] >= \"2022-06-01\"].reset_index().iloc[:, 1:]\n",
    "loan_result = loan_result.reset_index()\n",
    "loan_result = loan_result.merge(user_spec)\n",
    "\n",
    "submit_test[\"index\"] = loan_result[\"index\"]\n",
    "submit_test = submit_test.sort_values(\"index\").reset_index().iloc[:, 1:]\n",
    "submit_test = submit_test.drop(\"index\", axis = 1)\n"
   ]
  },
  {
   "cell_type": "code",
   "execution_count": 3,
   "id": "8d4688a2-6cbd-496b-acc4-ef2a194fe4d7",
   "metadata": {},
   "outputs": [],
   "source": [
    "not_selected = list(set(submit_test[\"application_id\"].values).difference(set(submit_data[\"application_id\"])))\n",
    "submit_test = submit_test[~submit_test[\"application_id\"].isin(not_selected)]"
   ]
  },
  {
   "cell_type": "code",
   "execution_count": 4,
   "id": "37dbd45a-ddd1-4690-bdb8-442641c54243",
   "metadata": {},
   "outputs": [],
   "source": [
    "not_selected = list(set(submit_test[\"product_id\"].values).difference(set(submit_data[\"product_id\"])))\n",
    "submit_test = submit_test[~submit_test[\"product_id\"].isin(not_selected)]"
   ]
  },
  {
   "cell_type": "code",
   "execution_count": 5,
   "id": "9af5b8e9-34fd-425f-b00e-c9789f1bc897",
   "metadata": {},
   "outputs": [],
   "source": [
    "submit_test[\"merge\"] = submit_test[\"application_id\"].astype(str) + \"_\" + submit_test[\"product_id\"].astype(str)\n",
    "submit_data[\"merge\"] = submit_data[\"application_id\"].astype(str) + \"_\" + submit_data[\"product_id\"].astype(str)"
   ]
  },
  {
   "cell_type": "code",
   "execution_count": 6,
   "id": "797ccc36-97e3-49c7-ba70-c19113f7d928",
   "metadata": {},
   "outputs": [],
   "source": [
    "not_selected = list(set(submit_test[\"merge\"].values).difference(set(submit_data[\"merge\"])))\n",
    "submit_test = submit_test[~submit_test[\"merge\"].isin(not_selected)]"
   ]
  },
  {
   "cell_type": "code",
   "execution_count": 7,
   "id": "29a5abd5-be34-4cd6-8ffa-fa78afc7e913",
   "metadata": {},
   "outputs": [],
   "source": [
    "submit_test = submit_test.drop_duplicates([\"application_id\", \"product_id\"], keep = \"first\")\n",
    "submit_test = submit_test.drop(\"merge\", axis = 1)"
   ]
  },
  {
   "cell_type": "code",
   "execution_count": 8,
   "id": "d62cc0b8-0a28-4aeb-b8c2-eb868ad0da84",
   "metadata": {
    "tags": []
   },
   "outputs": [],
   "source": [
    "submit_data = submit_data.drop(\"merge\", axis = 1)"
   ]
  },
  {
   "cell_type": "code",
   "execution_count": 9,
   "id": "970fdb56-44d4-4b36-8a8a-65c1f1b06993",
   "metadata": {},
   "outputs": [],
   "source": [
    "submit_test = submit_data[[\"application_id\", \"product_id\"]].merge(submit_test)"
   ]
  },
  {
   "cell_type": "code",
   "execution_count": null,
   "id": "b04bd214-b3f5-4536-b922-92ec3da55309",
   "metadata": {},
   "outputs": [],
   "source": []
  },
  {
   "cell_type": "code",
   "execution_count": 10,
   "id": "827ba7e8-6e6a-4400-9831-8d0fc53edba9",
   "metadata": {},
   "outputs": [
    {
     "data": {
      "text/plain": [
       "3255194"
      ]
     },
     "execution_count": 10,
     "metadata": {},
     "output_type": "execute_result"
    }
   ],
   "source": [
    "(submit_test[\"application_id\"].values  == submit_data[\"application_id\"].values).sum()"
   ]
  },
  {
   "cell_type": "code",
   "execution_count": 11,
   "id": "b29238bd-e5e8-4b7d-9bf2-31a099f6deae",
   "metadata": {},
   "outputs": [
    {
     "data": {
      "text/plain": [
       "3255194"
      ]
     },
     "execution_count": 11,
     "metadata": {},
     "output_type": "execute_result"
    }
   ],
   "source": [
    "(submit_test[\"product_id\"].values  == submit_data[\"product_id\"].values).sum()"
   ]
  },
  {
   "cell_type": "code",
   "execution_count": 13,
   "id": "d816071d-b726-4f73-b35f-bca2bd627386",
   "metadata": {},
   "outputs": [],
   "source": [
    "submit_test.reset_index().iloc[:, 1:].to_csv(\"./submit/submission.csv\", index = False)"
   ]
  },
  {
   "cell_type": "code",
   "execution_count": 12,
   "id": "b69b63f3-4602-4913-8b2f-dc7aa4547078",
   "metadata": {},
   "outputs": [],
   "source": []
  },
  {
   "cell_type": "code",
   "execution_count": 21,
   "id": "469310c1-9556-485c-836c-150501111c57",
   "metadata": {},
   "outputs": [],
   "source": []
  },
  {
   "cell_type": "code",
   "execution_count": null,
   "id": "113460c1-1abd-4f7a-979d-be2e4c54b748",
   "metadata": {},
   "outputs": [],
   "source": []
  },
  {
   "cell_type": "code",
   "execution_count": null,
   "id": "5ddf86a5-71df-4d39-b4b6-252e5536d4cd",
   "metadata": {},
   "outputs": [],
   "source": []
  },
  {
   "cell_type": "code",
   "execution_count": null,
   "id": "78f6c7a1-c7b5-4177-8cb6-153897be5cdc",
   "metadata": {},
   "outputs": [],
   "source": []
  },
  {
   "cell_type": "code",
   "execution_count": null,
   "id": "3d3e98af-b5cd-4cc4-bd8e-dc97a05e06e7",
   "metadata": {},
   "outputs": [],
   "source": []
  }
 ],
 "metadata": {
  "kernelspec": {
   "display_name": "bigcon",
   "language": "python",
   "name": "bigcon"
  },
  "language_info": {
   "codemirror_mode": {
    "name": "ipython",
    "version": 3
   },
   "file_extension": ".py",
   "mimetype": "text/x-python",
   "name": "python",
   "nbconvert_exporter": "python",
   "pygments_lexer": "ipython3",
   "version": "3.8.13"
  }
 },
 "nbformat": 4,
 "nbformat_minor": 5
}
